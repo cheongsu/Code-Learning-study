{
 "cells": [
  {
   "cell_type": "markdown",
   "id": "9d198a48",
   "metadata": {},
   "source": [
    "3566 대형 스크린\n",
    "\n",
    "문제\n",
    "상근이는 모니터를 여러개 붙여서 대형 모니터를 만드는 일을 하고 있다. \n",
    "\n",
    "고객은 대형 모니터의 가로, 세로 해상도(픽셀)과 가로 세로 크기(밀리미터)를 상근이에게 주문한다. 상근이는 고객의 주문 값보다 크거나 같은 해상도, 크거나 같은 크기의 대형 모니터를 만들어야 한다. 이때, 제조비가 최소가 되어야 한다.\n",
    "\n",
    "대형 모니터는 항상 같은 종류의 모니터로 만들어야 한다. 대형 모니터의 해상도, 크기는 모니터를 붙인 형태로 각각을 더하면 되고, 가격은 사용한 모니터의 가격의 합이다.\n",
    "\n",
    "상근이의 창고에는 모니터가 여러 종류가 있고, 각각의 해상도와 크기, 가격은 모두 알고 있다. 모니터를 회전 시켜서 대형 모니터를 만들 수 있다. 하지만, 대형 모니터에 포함된 모니터는 모두 같은 방향이어야 한다. 상근이는 모니터를 매우 많이 가지고 있어, 필요한 만큼 사용할 수 있다.\n",
    "\n",
    "입력\n",
    "첫째 줄에 대형 모니터의 가로 세로 해상도, 가로 세로 크기 rh, rv, sh, sv가 주어진다. 각 값은 100보다 크거나 같고, 10,000보다 작거나 같은 정수이다.\n",
    "\n",
    "다음 줄에는 상근이가 가지고 있는 모니터 종류의 개수 n이 주어진다. (1 ≤ n ≤ 100)\n",
    "\n",
    "다음 n개 줄에는 각 모니터의 가로 세로 해상도, 가로 세로 크기, 가격 rh,i, rv,i, sh,i, sv,i, pi 가 주어진다. 이 값도 모두 100보다 크거나 같고, 10,000보다 작거나 같다.\n",
    "\n",
    "출력\n",
    "첫째 줄에 대형 모니터를 만드는 가격 중 가장 저렴한 가격을 출력한다.\n",
    "\n",
    "예제 입력 1 \n",
    "1024 1024 300 300\n",
    "3\n",
    "1024 768 295 270 200\n",
    "1280 1024 365 301 250\n",
    "1280 800 350 270 210\n",
    "\n",
    "예제 출력 1 \n",
    "250"
   ]
  },
  {
   "cell_type": "markdown",
   "id": "3c8e66a4",
   "metadata": {},
   "source": [
    "문제 풀이 1)\n",
    "\n",
    "- 문제 해석\n",
    "\n",
    "모니터의 종류가 여러 개 주어진다.\n",
    "\n",
    "각 모니터는 서로 종류가 다르므로 독립적으로 시행된다. 붙이거나 합칠 수 없다.\n",
    "\n",
    "처음의 입력된 대형 모니터 사이즈를 만족하기 위해 프로그램이 진행된다.\n",
    "\n",
    "각각의 종류의 모니터를 여러 개 이어 붙여서 원하는 모니터를 만들면 된다.\n",
    "\n",
    "그 중 최솟값으로 만들 수 있는 종류를 선택해서 만드는데 드는 비용을 출력한다.\n",
    "\n",
    "모니터를 회전 시켜서 사용할 수 있다. 가로세로가 서로 다르기 때문에.\n",
    "\n",
    "모니터는 같은 방향으로만 이어붙일 수 있다. 가로면 가로, 세로면 세로\n",
    "\n",
    "\n",
    "<풀이>\n",
    "\n",
    "case는 모니터의 개수 x2를 점검한다\n",
    "\n",
    "점검하는 함수를 만들고 점검 진행 후 부족한 부분이 있다면 x2를 진행하여 보완한다. - 보완 시 금액은 2배로 늘린다.\n",
    "\n",
    "원하는 대형 모니터를 완성하면 금액을 리스트에 저장한 후 가장 큰 값을 출력한다. "
   ]
  },
  {
   "cell_type": "code",
   "execution_count": 14,
   "id": "7451234f",
   "metadata": {},
   "outputs": [
    {
     "name": "stdout",
     "output_type": "stream",
     "text": [
      "1024 1024 300 300\n",
      "3\n",
      "1024 768 295 270 200\n",
      "1280 1024 365 301 250\n",
      "1280 800 350 270 210\n",
      "250\n"
     ]
    }
   ],
   "source": [
    "import math\n",
    "target = list(map(int,input().split()))\n",
    "\n",
    "n = int(input())\n",
    "\n",
    "my_list = []\n",
    "for i in range(n):\n",
    "    my_list.append(list(map(int,input().split())))\n",
    "\n",
    "def make_screen(lst,target):\n",
    "    x = max(math.ceil(target[0]/lst[0]),math.ceil(target[2]/lst[2]))\n",
    "    y = max(math.ceil(target[1]/lst[1]),math.ceil(target[3]/lst[3]))\n",
    "    \n",
    "    return x*y*lst[4]\n",
    "\n",
    "\n",
    "\n",
    "def spin(lst):\n",
    "    temp1 = lst[0]\n",
    "    lst[0] = lst[1]\n",
    "    lst[1] = temp1\n",
    "    temp2 = lst[2]\n",
    "    lst[2] = lst[3]\n",
    "    lst[3] = temp2\n",
    "    return lst\n",
    "\n",
    "result = []\n",
    "\n",
    "for i in range(n):\n",
    "    result.append(make_screen(my_list[i],target))\n",
    "    result.append(make_screen(spin(my_list[i]),target))\n",
    "\n",
    "print(min(result))\n",
    "    \n",
    "#정답!"
   ]
  },
  {
   "cell_type": "markdown",
   "id": "55d576ba",
   "metadata": {},
   "source": [
    "-> 틀렸습니다\n",
    "\n",
    "1024 1024 300 300\n",
    "3\n",
    "1024 768 295 270 200\n",
    "1280 1024 365 301 250\n",
    "1280 800 350 270 210\n",
    "\n",
    "\n",
    "같은 방향을 고려해야 한다를 수정해야 함\n",
    "즉, 가로 세로 중 하나가 부족하면 해당 방향으로 모니터를 붙여 해결할 수 있지만\n",
    "두 방향 모두 부족하다면 해결 할 수 없다는 뜻\n"
   ]
  },
  {
   "cell_type": "code",
   "execution_count": null,
   "id": "527ddbb8",
   "metadata": {},
   "outputs": [],
   "source": []
  },
  {
   "cell_type": "code",
   "execution_count": null,
   "id": "24f36fcb",
   "metadata": {},
   "outputs": [],
   "source": []
  },
  {
   "cell_type": "markdown",
   "id": "9fc87b5a",
   "metadata": {},
   "source": [
    "25175 \n",
    "\n",
    "queue.rotate 활용\n",
    "\n",
    "x - 3을 한 후 나온 값만큼 rotate 진행\n",
    "\n",
    "deque 내용물은 리스트 컴프리헨션으로 진행"
   ]
  },
  {
   "cell_type": "code",
   "execution_count": 26,
   "id": "bf91b202",
   "metadata": {},
   "outputs": [
    {
     "name": "stdout",
     "output_type": "stream",
     "text": [
      "6 1 -1\n",
      "deque([1, 2, 3, 4, 5, 6])\n",
      "deque([3, 4, 5, 6, 1, 2])\n",
      "3\n"
     ]
    }
   ],
   "source": [
    "from collections import deque\n",
    "n,m,k = map(int,input().split())\n",
    "\n",
    "queue = deque([i for i in range(1,n+1)])\n",
    "\n",
    "queue.rotate(-(k-3))\n",
    "queue.rotate(-(m-1))\n",
    "\n",
    "print(queue.popleft())\n",
    "\n",
    "\n",
    "# 정답!\n",
    "\n",
    "# list의 제일 왼쪽을 출력값으로 선정하여, k,m만큼 회전한 후 출력"
   ]
  },
  {
   "cell_type": "code",
   "execution_count": 32,
   "id": "1e3ff99f",
   "metadata": {},
   "outputs": [
    {
     "name": "stdout",
     "output_type": "stream",
     "text": [
      "15\n",
      "1073807361\n"
     ]
    }
   ],
   "source": [
    "#2903\n",
    "import math\n",
    "n = int(input())\n",
    "\n",
    "x = math.pow((1+math.pow(2,n)),2)\n",
    "\n",
    "print(int(x))\n",
    "\n",
    "# 정답\n",
    "\n",
    "# 규칙을 찾아보니 (1+2^n)^2이므로 정수형으로 계산 후 출력"
   ]
  },
  {
   "cell_type": "markdown",
   "id": "f841027e",
   "metadata": {},
   "source": [
    "1362_펫\n",
    "\n",
    "문제\n",
    "당신은 게임으로 펫을 기르고 있습니다. 이 펫은 웃는 표정, 슬픈 표정을 가지고 있으며, 만약 죽는다면 '드러눕습니다.'\n",
    "\n",
    "펫에게는 적정 체중이 있습니다. 펫의 실제 체중이 적정 체중의 1/2배를 초과하면서 적정 체중의 2배 미만이라면 펫은 행복합니다. 펫의 실제 체중이 0 이하일 경우 펫은 사망하게 되며, 그 외의 경우 펫은 슬픕니다.\n",
    "\n",
    "당신은 콘솔을 통해 펫에게 아래의 두 가지 작용을 할 수 있습니다.\n",
    "\n",
    "'E'와 숫자를 입력해 펫을 운동시킬 수 있습니다. 입력된 숫자(n)만큼의 시간(분; minute)이 지나면 펫의 실제 체중이 n 감소합니다.\n",
    "'F'와 숫자를 입력해 펫에게 먹이를 줄 수 있습니다. 입력된 숫자(n)만큼 펫에게 먹이를 주면 펫의 실제 체중이 n 증가합니다.\n",
    "각 작용에 입력할 수 있는 숫자는 1 이상, 999 이하의 정수입니다. 매 작용이 끝날 때마다 펫은 자신의 상태를 표시하며, 펫이 중간에 죽는다면 이후의 작용은 무시됩니다.\n",
    "\n",
    "입력\n",
    "입력은 번호를 가진 시나리오들로 구성됩니다. 시나리오는 1번부터 시작되며 1씩 증가합니다.\n",
    "\n",
    "적정 체중(o)와 실제 체중(w)가 한 줄에 입력됨으로써 시나리오가 시작됩니다(10 ≤ o, w ≤ 1000). 그 다음 줄부터 펫에 가할 작용이 한 줄에 하나씩 주어지며, \"# 0\"을 마지막 줄로 하여 시나리오가 종료됩니다. \"# 0\"은 처리하지 않습니다.\n",
    "\n",
    "펫에게 가할 각 작용은 'E' 또는 'F'로 시작하며, 공백을 두고 숫자 n (1 ≤ n ≤ 999)이 주어집니다.\n",
    "\n",
    "모든 시나리오가 끝나면 \"0 0\"이 입력되며, \"0 0\"은 처리하지 않습니다.\n",
    "\n",
    "출력\n",
    "각 시나리오에 대하여, 시나리오 번호와 모든 작용이 완료된 후 펫의 상태를 공백으로 구분하여 한 줄씩 출력합니다.\n",
    "\n",
    "행복한 경우, \":-)\"을 출력합니다.\n",
    "슬픈 경우 \":-(\"을 출력합니다.\n",
    "사망한 경우 \"RIP\"를 출력합니다.\n",
    "\n",
    "예제 입력 1 \n",
    "100 100\n",
    "F 10\n",
    "F 10\n",
    "E 20\n",
    "# 0\n",
    "50 30\n",
    "F 5\n",
    "E 20\n",
    "# 0\n",
    "0 0\n",
    "예제 출력 1 \n",
    "1 :-)\n",
    "2 :-(\n",
    "\n"
   ]
  },
  {
   "cell_type": "markdown",
   "id": "17ef8795",
   "metadata": {},
   "source": [
    "풀이 1)\n",
    "\n",
    "적정무게 / 현재무게\n",
    "E / n -> n만큼 몸무게 감소\n",
    "F / n -> n만큼 몸무게 증가\n",
    "\n",
    "펫이 중간에 죽으면 뒤에 입력을 받지 않음\n",
    "\n",
    "샵 0이 입력되면 중간적으로 현재 무게에 대한 결과값 출력\n",
    "\n",
    "0 0이 입력되면 프로그램 종료\n",
    "\n",
    "무게 판정을 함수로 표현하면 좋을듯"
   ]
  },
  {
   "cell_type": "code",
   "execution_count": 1,
   "id": "f6d567a6",
   "metadata": {},
   "outputs": [
    {
     "ename": "KeyboardInterrupt",
     "evalue": "Interrupted by user",
     "output_type": "error",
     "traceback": [
      "\u001b[0;31m---------------------------------------------------------------------------\u001b[0m",
      "\u001b[0;31mKeyboardInterrupt\u001b[0m                         Traceback (most recent call last)",
      "Input \u001b[0;32mIn [1]\u001b[0m, in \u001b[0;36m<cell line: 8>\u001b[0;34m()\u001b[0m\n\u001b[1;32m      6\u001b[0m     \u001b[38;5;28;01melse\u001b[39;00m:\n\u001b[1;32m      7\u001b[0m         \u001b[38;5;28mprint\u001b[39m(\u001b[38;5;124m\"\u001b[39m\u001b[38;5;124m:-(\u001b[39m\u001b[38;5;124m\"\u001b[39m)\n\u001b[0;32m----> 8\u001b[0m o, w \u001b[38;5;241m=\u001b[39m \u001b[38;5;28mmap\u001b[39m(\u001b[38;5;28mint\u001b[39m,\u001b[38;5;28;43minput\u001b[39;49m\u001b[43m(\u001b[49m\u001b[43m)\u001b[49m\u001b[38;5;241m.\u001b[39msplit())    \n\u001b[1;32m     11\u001b[0m \u001b[38;5;28;01mwhile\u001b[39;00m \u001b[38;5;28;01mTrue\u001b[39;00m:\n\u001b[1;32m     12\u001b[0m     cmd, k \u001b[38;5;241m=\u001b[39m \u001b[38;5;28minput\u001b[39m()\u001b[38;5;241m.\u001b[39msplit()\n",
      "File \u001b[0;32m~/opt/anaconda3/lib/python3.9/site-packages/ipykernel/kernelbase.py:1075\u001b[0m, in \u001b[0;36mKernel.raw_input\u001b[0;34m(self, prompt)\u001b[0m\n\u001b[1;32m   1071\u001b[0m \u001b[38;5;28;01mif\u001b[39;00m \u001b[38;5;129;01mnot\u001b[39;00m \u001b[38;5;28mself\u001b[39m\u001b[38;5;241m.\u001b[39m_allow_stdin:\n\u001b[1;32m   1072\u001b[0m     \u001b[38;5;28;01mraise\u001b[39;00m StdinNotImplementedError(\n\u001b[1;32m   1073\u001b[0m         \u001b[38;5;124m\"\u001b[39m\u001b[38;5;124mraw_input was called, but this frontend does not support input requests.\u001b[39m\u001b[38;5;124m\"\u001b[39m\n\u001b[1;32m   1074\u001b[0m     )\n\u001b[0;32m-> 1075\u001b[0m \u001b[38;5;28;01mreturn\u001b[39;00m \u001b[38;5;28;43mself\u001b[39;49m\u001b[38;5;241;43m.\u001b[39;49m\u001b[43m_input_request\u001b[49m\u001b[43m(\u001b[49m\n\u001b[1;32m   1076\u001b[0m \u001b[43m    \u001b[49m\u001b[38;5;28;43mstr\u001b[39;49m\u001b[43m(\u001b[49m\u001b[43mprompt\u001b[49m\u001b[43m)\u001b[49m\u001b[43m,\u001b[49m\n\u001b[1;32m   1077\u001b[0m \u001b[43m    \u001b[49m\u001b[38;5;28;43mself\u001b[39;49m\u001b[38;5;241;43m.\u001b[39;49m\u001b[43m_parent_ident\u001b[49m\u001b[43m[\u001b[49m\u001b[38;5;124;43m\"\u001b[39;49m\u001b[38;5;124;43mshell\u001b[39;49m\u001b[38;5;124;43m\"\u001b[39;49m\u001b[43m]\u001b[49m\u001b[43m,\u001b[49m\n\u001b[1;32m   1078\u001b[0m \u001b[43m    \u001b[49m\u001b[38;5;28;43mself\u001b[39;49m\u001b[38;5;241;43m.\u001b[39;49m\u001b[43mget_parent\u001b[49m\u001b[43m(\u001b[49m\u001b[38;5;124;43m\"\u001b[39;49m\u001b[38;5;124;43mshell\u001b[39;49m\u001b[38;5;124;43m\"\u001b[39;49m\u001b[43m)\u001b[49m\u001b[43m,\u001b[49m\n\u001b[1;32m   1079\u001b[0m \u001b[43m    \u001b[49m\u001b[43mpassword\u001b[49m\u001b[38;5;241;43m=\u001b[39;49m\u001b[38;5;28;43;01mFalse\u001b[39;49;00m\u001b[43m,\u001b[49m\n\u001b[1;32m   1080\u001b[0m \u001b[43m\u001b[49m\u001b[43m)\u001b[49m\n",
      "File \u001b[0;32m~/opt/anaconda3/lib/python3.9/site-packages/ipykernel/kernelbase.py:1120\u001b[0m, in \u001b[0;36mKernel._input_request\u001b[0;34m(self, prompt, ident, parent, password)\u001b[0m\n\u001b[1;32m   1117\u001b[0m             \u001b[38;5;28;01mbreak\u001b[39;00m\n\u001b[1;32m   1118\u001b[0m \u001b[38;5;28;01mexcept\u001b[39;00m \u001b[38;5;167;01mKeyboardInterrupt\u001b[39;00m:\n\u001b[1;32m   1119\u001b[0m     \u001b[38;5;66;03m# re-raise KeyboardInterrupt, to truncate traceback\u001b[39;00m\n\u001b[0;32m-> 1120\u001b[0m     \u001b[38;5;28;01mraise\u001b[39;00m \u001b[38;5;167;01mKeyboardInterrupt\u001b[39;00m(\u001b[38;5;124m\"\u001b[39m\u001b[38;5;124mInterrupted by user\u001b[39m\u001b[38;5;124m\"\u001b[39m) \u001b[38;5;28;01mfrom\u001b[39;00m \u001b[38;5;28mNone\u001b[39m\n\u001b[1;32m   1121\u001b[0m \u001b[38;5;28;01mexcept\u001b[39;00m \u001b[38;5;167;01mException\u001b[39;00m:\n\u001b[1;32m   1122\u001b[0m     \u001b[38;5;28mself\u001b[39m\u001b[38;5;241m.\u001b[39mlog\u001b[38;5;241m.\u001b[39mwarning(\u001b[38;5;124m\"\u001b[39m\u001b[38;5;124mInvalid Message:\u001b[39m\u001b[38;5;124m\"\u001b[39m, exc_info\u001b[38;5;241m=\u001b[39m\u001b[38;5;28;01mTrue\u001b[39;00m)\n",
      "\u001b[0;31mKeyboardInterrupt\u001b[0m: Interrupted by user"
     ]
    }
   ],
   "source": [
    "\n",
    "\n",
    "def pet(o,w):\n",
    "    if w > o/2 and w < o*2:\n",
    "        print(\":-)\")\n",
    "    elif w <= 0:\n",
    "            print(\"RIP\")\n",
    "    else:\n",
    "        print(\":-(\")\n",
    "o, w = map(int,input().split())    \n",
    "\n",
    "\n",
    "while True:\n",
    "    cmd, k = input().split()\n",
    "    if cmd == 'F':\n",
    "        if w >0:\n",
    "            w += int(k)\n",
    "    elif cmd == 'E':\n",
    "        w -= int(k)\n",
    "    elif cmd == '#':\n",
    "        pet(o,w)\n",
    "        o, w = map(int,input().split())\n",
    "        if o<0:\n",
    "            break\n",
    "            \n",
    "    elif cmd == '0':\n",
    "        print(0)\n",
    "        break"
   ]
  },
  {
   "cell_type": "code",
   "execution_count": null,
   "id": "080ca605",
   "metadata": {},
   "outputs": [],
   "source": [
    "https://www.acmicpc.net/problem/1362"
   ]
  },
  {
   "cell_type": "markdown",
   "id": "452c707e",
   "metadata": {},
   "source": [
    "https://www.acmicpc.net/problem/15667\n",
    "    2018 연세대학교 프로그래밍 경진대회\n",
    "\n",
    "    \n",
    "문제\n",
    "2015, 2016, 2017년에 이어 올해도 연세대학교 컴퓨터과학과 프로그래밍 경진대회가 열린다.\n",
    "\n",
    "도현이는 4년 연속 교내대회가 개최된다는 것에 감격하여, 사비를 털 각오로 화려한 개막식을 준비했다.\n",
    "\n",
    "도현이가 원하는 것은 폭죽으로, 강의실 A528에서 천장을 다 뚫어버리며 터지는 화려한 폭죽을 모두가 좋아할 것이라 생각했다. 도현이는 아래와 같이 터지는 폭죽을 주문하려 한다.\n",
    "\n",
    "처음 발사된 폭죽이 만든 하나의 대형 불꽃은 적당한 높이에 도달하면 화려한 폭발과 함께 K개의 중형 불꽃으로 갈라진다.\n",
    "각 K개의 중형 불꽃은 다시 각각 K개의 소형 불꽃으로 갈라지며 터진다.\n",
    "그 이후 모든 불꽃은 소멸한다.\n",
    "도현이는 적당한 폭죽을 찾아보려 했지만, 폭죽 판매처에서는 K의 값을 알려주지 않았고,\n",
    "\n",
    "대신 폭죽 하나당 만들어지는 총 불꽃의 수(처음 터진 대형 불꽃을 포함해, 중형 불꽃과 소형 불꽃을 모두 포함한 수)만을 알려줬다. 결국 도현이는 어떤 폭죽이 적당할지 알아내지 못해 폭죽을 구매하지 못했다.\n",
    "\n",
    "이에 도현이는 이 난제를 해결해주는 학생에게 이번 대회에서 맞은 문제 수를 하나 늘려주기로 하였다. 여러분은 대회에서 우승하기 위해, 폭죽이 만들 모든 불꽃의 개수가 주어지면 K의 값을 찾아보도록 하자.\n",
    "\n",
    "입력\n",
    "총 불꽃의 수 N이 주어진다. (3 ≤ N ≤ 10101)\n",
    "\n",
    "출력\n",
    "K의 값을 출력한다. 이 값은 정수임이 보장되며, 불가능한 경우는 입력으로 주어지지 않는다.\n",
    "\n",
    "예제 입력 1 \n",
    "21\n",
    "예제 출력 1 \n",
    "4"
   ]
  },
  {
   "cell_type": "code",
   "execution_count": null,
   "id": "8f267daf",
   "metadata": {},
   "outputs": [],
   "source": []
  },
  {
   "cell_type": "markdown",
   "id": "9fceb447",
   "metadata": {},
   "source": [
    "풀이 1) \n",
    "\n",
    "21 -> 4^2 + 4 + 1 = 21\n",
    "\n",
    "0 = k^2 + k-N+1\n",
    "\n",
    "-1+root(1-4(-N+!))/2 = k\n",
    "\n",
    "\n",
    "\n",
    "k^2 = k-n+!"
   ]
  },
  {
   "cell_type": "code",
   "execution_count": 6,
   "id": "e2a1516c",
   "metadata": {},
   "outputs": [
    {
     "name": "stdout",
     "output_type": "stream",
     "text": [
      "21\n",
      "4\n"
     ]
    }
   ],
   "source": [
    "N = int(input())\n",
    "import math\n",
    "\n",
    "k = (-1+math.sqrt(4*N-3))/2\n",
    "\n",
    "print(int(k))\n",
    "\n",
    "# 근의공식을 활용함 정답!"
   ]
  },
  {
   "cell_type": "markdown",
   "id": "33ac6743",
   "metadata": {},
   "source": [
    "https://www.acmicpc.net/problem/3622\n",
    "    \n",
    "어떤 호박의 활로윈 여행\n",
    "\n",
    "대부분의 사람들은 잘 모르는 사실이지만 지구와 멀리 떨어지지 않은 별에는 지능이 있는 호박들이 모여 산다. 이 벌은 매우 똑똑하고, 여행을 즐긴다. 할로윈 연휴 시즌에 이 별에서 가장 인기있는 여행 코스는 지구를 방문하는 것이다.\n",
    "\n",
    "호박은 지능을 가지고 있지만, 스스로 움직일 수 없다. 따라서, 호박은 연휴동안 자신을 도와줄 사람을 찾아야 한다. 이 과정은 아래와 같다.\n",
    "\n",
    "먼저, 사람을 한 명 고른 다음, 특별한 생물학적 조작을 통해 호박 자신의 모습을 꾸미게 한다. 보통은 호박의 몸에 이런 저런 구멍을 내어 치장하고, 안에 촛불을 켠다.\n",
    "\n",
    "사실, 할로윈은 호박별의 호박들이 즐기는 축제이다. 대부분의 사람은 할로윈의 거리에 울려 퍼지는 비명 소리의 절반 이상이 호박 외계인에 의한 것을 모른다는 사실을 보면, 딱히 대단한 반전은 아니다.\n",
    "\n",
    "특별한 전송 장치가 있어야 위와 같은 생물학적 조작 과정을 거칠 수 있다. 전송 장치는 두 개의 금으로 만든 고리로 이루어져 있는데, 알 수 없는 이유 때문에 이 고리 두 개는 반드시 하나의 동일한 판으로부터 잘라내어야 한다. 고리의 크기는 호박의 특성을 나타내기 때문에, 호박마다 다르다. 다라서, 호박들은 지구에 첫 여행을 오기 전에 반드시 자신만의 고리를 만드는 작업을 해야 한다.\n",
    "\n",
    "호박별의 외계인 진욱이는 방항 동안 편의점 아르바이트로 엄청난 돈을 모았고, 태어나서 처음으로 지구로 여행을 가려고 한다. 고리를 만들기 위한 금판을 구매한 진욱이는 이 금판으로부터 자신에게 꼭 맞는 두 개의 고리를 잘라낼 수 있는지 여부를 알고싶어 한다. 만약, 잘라낼 수 없는 경우에는 새 금판을 사기 위해 다시 편의점으로 돌아가야 하고, 영영 학교를 졸업할 수 없을 것이다.\n",
    "\n",
    "입력\n",
    "첫 줄에 공백으로 구분된 다섯 개의 정수 A, a, B, b, P가 주어진다. ( 0 < A, a, B, b, P ≤ 1000000, a < A , b < B)\n",
    "\n",
    "A와 B는 두 고리의 바깥 반지름, a와 b는 두 고리의 안쪽 반지름이며 P는 판의 반지름이다. (힌트 그림 참고)\n",
    "\n",
    "출력\n",
    "만일 진욱이가 조건을 만족하는 두 고리를 만들 수 있다면 \"Yes\" 를, 만들 수 없다면 \"No\" 를 출력한다.\n",
    "\n",
    "예제 입력 1 \n",
    "2 1 5 3 6\n",
    "예제 출력 1 \n",
    "Yes"
   ]
  },
  {
   "cell_type": "markdown",
   "id": "748133ef",
   "metadata": {},
   "source": [
    "풀이 1)\n",
    "\n",
    "<반례>\n",
    "p가 A,B보다 작은 경우 -> 고리안에 고리가 있더라도 큰고리보다 P가 작으면 불가능\n",
    "\n",
    "\n",
    "\n",
    "동일한 판의 두 개 고리로 전송장치를 만듦\n",
    "고리크기는 호박마다 다름\n",
    "\n",
    "자신의 사이즈에 맞는 고리 2개를 자를 수 있는가?\n",
    "\n",
    "2가지 case가 존재함\n",
    "\n",
    "1. 고리안에 고리가 있는 경우\n",
    "\n",
    "둘 중 사이즈가 큰 고리가 있다면\n",
    "\n",
    "B b A a 에서 b > A를 만족하거나 a > B를 만족하면됨\n",
    "\n",
    "2. 고리 옆에 고리가 있는 경우\n",
    "\n",
    "A + B < P를 만족하면 됨\n",
    "\n",
    "기본적인 가정\n",
    "\n",
    "P가 A나 B보다는 같거나 커야 함\n",
    "\n",
    "A와 B는 1이 될 수 없음"
   ]
  },
  {
   "cell_type": "code",
   "execution_count": 13,
   "id": "5600c946",
   "metadata": {},
   "outputs": [
    {
     "name": "stdout",
     "output_type": "stream",
     "text": [
      "2 1 5 3 6\n",
      "Yes\n"
     ]
    }
   ],
   "source": [
    "A,a,B,b,P = map(int,input().split())\n",
    "\n",
    "if P < A or P < B:\n",
    "    print(\"No\")\n",
    "\n",
    "\n",
    "\n",
    "if b >=A or a >= B:\n",
    "    print(\"Yes\")\n",
    "elif A + B <= P:\n",
    "    print('Yes')\n",
    "else:\n",
    "    print('No')"
   ]
  },
  {
   "cell_type": "code",
   "execution_count": 6,
   "id": "3bf08bab",
   "metadata": {},
   "outputs": [
    {
     "name": "stdout",
     "output_type": "stream",
     "text": [
      "The i#put consists of N test ca#es. The number of th#m (N) is given on the first #ine of the#input#file.\n",
      "Efficiency ratio is  100.0 %\n"
     ]
    }
   ],
   "source": [
    "\n",
    "test_case = []\n",
    "\n",
    "\n",
    "test = input()\n",
    "if test == \"\":\n",
    "    \n",
    "    test_case.clear()\n",
    "\n",
    "else:\n",
    "    test_case.append(test)\n",
    "        \n",
    "        \n",
    "        \n",
    "    a = len(test_case)\n",
    "    r = a - test_case.count(\"#\")\n",
    "        \n",
    "    x = float(r / a) * 100\n",
    "    print(\"Efficiency ratio is \", + round(x, 1), \"%\")"
   ]
  },
  {
   "cell_type": "code",
   "execution_count": 11,
   "id": "73084175",
   "metadata": {},
   "outputs": [
    {
     "name": "stdout",
     "output_type": "stream",
     "text": [
      "0\n"
     ]
    }
   ],
   "source": [
    "\n",
    "test_case = [\"The i#put consists of N test ca#es. The number of th#m (N) is given on the first #ine of the#input#file.\"]\n",
    "\n",
    "a = len(test_case)\n",
    "r = a - test_case.count(\"#\")\n",
    "             \n",
    "print(test_case.count(\"#\"))"
   ]
  },
  {
   "cell_type": "code",
   "execution_count": 23,
   "id": "e9c6b922",
   "metadata": {},
   "outputs": [
    {
     "name": "stdout",
     "output_type": "stream",
     "text": [
      "3\n",
      "Pr#nt ex##tly one##ine for#eac# te#t c#se.\n",
      "\n",
      "Efficiency ratio is 78.6%.\n",
      "None.\n",
      "\n",
      "Efficiency ratio is 100%.\n",
      "The i#put consists of\n",
      "N test ca#es. The number\n",
      "of th#m (N) is given on\n",
      "the first #ine\n",
      "of the#input#file.\n",
      "\n",
      "Efficiency ratio is 94%.\n"
     ]
    }
   ],
   "source": [
    "n = int(input())\n",
    "\n",
    "test_case = []\n",
    "\n",
    "cnt = 0\n",
    "\n",
    "while cnt<n:\n",
    "\n",
    "    test = input()\n",
    "\n",
    "    if test == \"\":\n",
    "\n",
    "        test_case2 = ''.join(test_case)\n",
    "\n",
    "        a = len(test_case2)\n",
    "\n",
    "        r = a - test_case2.count(\"#\")    \n",
    "\n",
    "        x = float(r / a) * 100\n",
    "        if int(x)==x:\n",
    "            x = int(x)\n",
    "        else: \n",
    "            x = round(x,1)\n",
    "        print(\"Efficiency ratio is \", + x, \"%.\",sep=\"\")\n",
    "        cnt+=1\n",
    "        test_case.clear()\n",
    "\n",
    "    else:\n",
    "\n",
    "        test_case.append(test)"
   ]
  },
  {
   "cell_type": "code",
   "execution_count": null,
   "id": "3b92e530",
   "metadata": {},
   "outputs": [],
   "source": []
  },
  {
   "cell_type": "code",
   "execution_count": 32,
   "id": "e3b6e1a2",
   "metadata": {},
   "outputs": [
    {
     "name": "stdout",
     "output_type": "stream",
     "text": [
      "3\n",
      "Pr#nt ex##tly one##ine for#eac# te#t c#se.\n",
      "\n",
      "Efficiency ratio is 78.6%.\n",
      "None.\n",
      "\n",
      "Efficiency ratio is 100%.\n",
      "The i#put consists of N test ca#es. The number of th#m (N) is given on the first #ine of the#input#file.\n",
      "\n",
      "Efficiency ratio is 94.2%.\n"
     ]
    }
   ],
   "source": [
    "n = int(input())\n",
    "test = \"\"\n",
    "count = 0\n",
    "while (1):\n",
    "    data = input()\n",
    "    if data == \"\":\n",
    "        A = len(test)\n",
    "        R = A - test.count(\"#\")\n",
    "        x = round(R/A*100, 1)\n",
    "        if x == int(x):\n",
    "            x = int(x)\n",
    "        print(f'Efficiency ratio is {x}%.')\n",
    "        count += 1\n",
    "        if count == n:\n",
    "            break\n",
    "        test = \"\"\n",
    "    else:\n",
    "        test += data"
   ]
  },
  {
   "cell_type": "code",
   "execution_count": 34,
   "id": "c7eab74f",
   "metadata": {},
   "outputs": [
    {
     "ename": "KeyboardInterrupt",
     "evalue": "Interrupted by user",
     "output_type": "error",
     "traceback": [
      "\u001b[0;31m---------------------------------------------------------------------------\u001b[0m",
      "\u001b[0;31mKeyboardInterrupt\u001b[0m                         Traceback (most recent call last)",
      "Input \u001b[0;32mIn [34]\u001b[0m, in \u001b[0;36m<cell line: 1>\u001b[0;34m()\u001b[0m\n\u001b[0;32m----> 1\u001b[0m n \u001b[38;5;241m=\u001b[39m \u001b[38;5;28mint\u001b[39m(\u001b[38;5;28;43minput\u001b[39;49m\u001b[43m(\u001b[49m\u001b[43m)\u001b[49m)\n\u001b[1;32m      2\u001b[0m test \u001b[38;5;241m=\u001b[39m \u001b[38;5;124m\"\u001b[39m\u001b[38;5;124m\"\u001b[39m\n\u001b[1;32m      3\u001b[0m cnt \u001b[38;5;241m=\u001b[39m \u001b[38;5;241m0\u001b[39m\n",
      "File \u001b[0;32m~/opt/anaconda3/lib/python3.9/site-packages/ipykernel/kernelbase.py:1075\u001b[0m, in \u001b[0;36mKernel.raw_input\u001b[0;34m(self, prompt)\u001b[0m\n\u001b[1;32m   1071\u001b[0m \u001b[38;5;28;01mif\u001b[39;00m \u001b[38;5;129;01mnot\u001b[39;00m \u001b[38;5;28mself\u001b[39m\u001b[38;5;241m.\u001b[39m_allow_stdin:\n\u001b[1;32m   1072\u001b[0m     \u001b[38;5;28;01mraise\u001b[39;00m StdinNotImplementedError(\n\u001b[1;32m   1073\u001b[0m         \u001b[38;5;124m\"\u001b[39m\u001b[38;5;124mraw_input was called, but this frontend does not support input requests.\u001b[39m\u001b[38;5;124m\"\u001b[39m\n\u001b[1;32m   1074\u001b[0m     )\n\u001b[0;32m-> 1075\u001b[0m \u001b[38;5;28;01mreturn\u001b[39;00m \u001b[38;5;28;43mself\u001b[39;49m\u001b[38;5;241;43m.\u001b[39;49m\u001b[43m_input_request\u001b[49m\u001b[43m(\u001b[49m\n\u001b[1;32m   1076\u001b[0m \u001b[43m    \u001b[49m\u001b[38;5;28;43mstr\u001b[39;49m\u001b[43m(\u001b[49m\u001b[43mprompt\u001b[49m\u001b[43m)\u001b[49m\u001b[43m,\u001b[49m\n\u001b[1;32m   1077\u001b[0m \u001b[43m    \u001b[49m\u001b[38;5;28;43mself\u001b[39;49m\u001b[38;5;241;43m.\u001b[39;49m\u001b[43m_parent_ident\u001b[49m\u001b[43m[\u001b[49m\u001b[38;5;124;43m\"\u001b[39;49m\u001b[38;5;124;43mshell\u001b[39;49m\u001b[38;5;124;43m\"\u001b[39;49m\u001b[43m]\u001b[49m\u001b[43m,\u001b[49m\n\u001b[1;32m   1078\u001b[0m \u001b[43m    \u001b[49m\u001b[38;5;28;43mself\u001b[39;49m\u001b[38;5;241;43m.\u001b[39;49m\u001b[43mget_parent\u001b[49m\u001b[43m(\u001b[49m\u001b[38;5;124;43m\"\u001b[39;49m\u001b[38;5;124;43mshell\u001b[39;49m\u001b[38;5;124;43m\"\u001b[39;49m\u001b[43m)\u001b[49m\u001b[43m,\u001b[49m\n\u001b[1;32m   1079\u001b[0m \u001b[43m    \u001b[49m\u001b[43mpassword\u001b[49m\u001b[38;5;241;43m=\u001b[39;49m\u001b[38;5;28;43;01mFalse\u001b[39;49;00m\u001b[43m,\u001b[49m\n\u001b[1;32m   1080\u001b[0m \u001b[43m\u001b[49m\u001b[43m)\u001b[49m\n",
      "File \u001b[0;32m~/opt/anaconda3/lib/python3.9/site-packages/ipykernel/kernelbase.py:1120\u001b[0m, in \u001b[0;36mKernel._input_request\u001b[0;34m(self, prompt, ident, parent, password)\u001b[0m\n\u001b[1;32m   1117\u001b[0m             \u001b[38;5;28;01mbreak\u001b[39;00m\n\u001b[1;32m   1118\u001b[0m \u001b[38;5;28;01mexcept\u001b[39;00m \u001b[38;5;167;01mKeyboardInterrupt\u001b[39;00m:\n\u001b[1;32m   1119\u001b[0m     \u001b[38;5;66;03m# re-raise KeyboardInterrupt, to truncate traceback\u001b[39;00m\n\u001b[0;32m-> 1120\u001b[0m     \u001b[38;5;28;01mraise\u001b[39;00m \u001b[38;5;167;01mKeyboardInterrupt\u001b[39;00m(\u001b[38;5;124m\"\u001b[39m\u001b[38;5;124mInterrupted by user\u001b[39m\u001b[38;5;124m\"\u001b[39m) \u001b[38;5;28;01mfrom\u001b[39;00m \u001b[38;5;28mNone\u001b[39m\n\u001b[1;32m   1121\u001b[0m \u001b[38;5;28;01mexcept\u001b[39;00m \u001b[38;5;167;01mException\u001b[39;00m:\n\u001b[1;32m   1122\u001b[0m     \u001b[38;5;28mself\u001b[39m\u001b[38;5;241m.\u001b[39mlog\u001b[38;5;241m.\u001b[39mwarning(\u001b[38;5;124m\"\u001b[39m\u001b[38;5;124mInvalid Message:\u001b[39m\u001b[38;5;124m\"\u001b[39m, exc_info\u001b[38;5;241m=\u001b[39m\u001b[38;5;28;01mTrue\u001b[39;00m)\n",
      "\u001b[0;31mKeyboardInterrupt\u001b[0m: Interrupted by user"
     ]
    }
   ],
   "source": [
    "n = int(input())\n",
    "test = \"\"\n",
    "cnt = 0\n",
    "while (1):\n",
    "    data = input()\n",
    "    if data == \"\":\n",
    "        A = len(test)\n",
    "        R = A - test.count(\"#\")  \n",
    "        x = round(R/A*100, 1)\n",
    "        if x == int(x):\n",
    "            x = int(x)\n",
    "        print(f'Efficiency ratio is {x}%.')\n",
    "        cnt+=1\n",
    "        if cnt == n:\n",
    "            break\n",
    "        test = \"\"\n",
    "    else:\n",
    "        test += data"
   ]
  },
  {
   "cell_type": "code",
   "execution_count": 33,
   "id": "b8285189",
   "metadata": {},
   "outputs": [
    {
     "name": "stdout",
     "output_type": "stream",
     "text": [
      "3\n",
      "Pr#nt ex##tly one##ine for#eac# te#t c#se.\n",
      "\n",
      "Efficiency ratio is 78.6%.\n",
      "None.\n",
      "\n",
      "Efficiency ratio is 100%.\n",
      "The i#put consists of\n",
      "N test ca#es. The number\n",
      "of th#m (N) is given on\n",
      "the first #ine\n",
      "of the#input#file.\n",
      "\n",
      "Efficiency ratio is 94%.\n"
     ]
    }
   ],
   "source": [
    "n = int(input())\n",
    "\n",
    "test = \"\"\n",
    "\n",
    "count = 0\n",
    "\n",
    "while (1):\n",
    "\n",
    "    data = input()\n",
    "\n",
    "    if data == \"\":\n",
    "\n",
    "        A = len(test)\n",
    "\n",
    "        R = A - test.count(\"#\")\n",
    "\n",
    "        x = round(R/A*100, 1)\n",
    "\n",
    "        if x == int(x):\n",
    "\n",
    "            x = int(x)\n",
    "\n",
    "        print(f'Efficiency ratio is {x}%.')\n",
    "\n",
    "        count += 1\n",
    "\n",
    "        if count == n:\n",
    "\n",
    "            break\n",
    "\n",
    "        test = \"\"\n",
    "\n",
    "    else:\n",
    "\n",
    "        test += data"
   ]
  },
  {
   "cell_type": "code",
   "execution_count": null,
   "id": "4eec4b6f",
   "metadata": {},
   "outputs": [],
   "source": [
    "while True:\n",
    "    total = int(input())\n",
    "    if total == 0:\n",
    "        break\n",
    "\n",
    "    r = input().split(',')\n",
    "    list = []\n",
    "    for i in r:\n",
    "        if len(i) > 1:   #하이픈\n",
    "            a, b = map(int, i.split('-'))\n",
    "            if a <= b:  #low <= high인 경우만.\n",
    "                for k in range(a, b + 1):\n",
    "                    list.append(k)\n",
    "        else:  #양의정수 하나\n",
    "            list.append(int(i))\n",
    "    listset = set(list)\n",
    "\n",
    "    flist = []\n",
    "    for i in listset:\n",
    "        if i <= total:  #전체 페이지수보다 작거나 같은 것만 넣어줌\n",
    "            flist.append(i)\n",
    "            \n",
    "    print(len(flist))"
   ]
  },
  {
   "cell_type": "code",
   "execution_count": null,
   "id": "918d2187",
   "metadata": {},
   "outputs": [
    {
     "name": "stdout",
     "output_type": "stream",
     "text": [
      "30\n",
      "[0, 0, 0, 0, 0, 0, 0, 0, 0, 0, 0, 0, 0, 0, 0, 0, 0, 0, 0, 0, 0, 0, 0, 0, 0, 0, 0, 0, 0, 0, 0]\n",
      "10-15,25-28,8-4,13-20,9,8-8\n",
      "17\n",
      "[0, 0, 0, 0, 0, 0, 0, 0, 1, 1, 1, 1, 1, 1, 1, 1, 1, 1, 1, 1, 1, 0, 0, 0, 0, 1, 1, 1, 1, 0, 0]\n",
      "19\n",
      "[0, 0, 0, 0, 0, 0, 0, 0, 0, 0, 0, 0, 0, 0, 0, 0, 0, 0, 0, 0, 0, 0, 0, 0, 0, 0, 0, 0, 0, 0, 0]\n",
      "10-15,25-28,8-4,13-20,9,8-8\n",
      "17\n",
      "[0, 0, 0, 0, 0, 0, 0, 0, 1, 1, 1, 1, 1, 1, 1, 1, 1, 1, 1, 1, 1, 0, 0, 0, 0, 1, 1, 1, 1, 0, 0]\n"
     ]
    }
   ],
   "source": [
    "\n",
    "def page(a,b,lst):\n",
    "    for i in range(a,b+1):\n",
    "        if lst[i]!=1:\n",
    "            lst[i]=1\n",
    "    return lst\n",
    "\n",
    "while True:\n",
    "    total = int(input())\n",
    "    \n",
    "    if total ==0:\n",
    "        break\n",
    "    lst = [0]*(31)\n",
    "    print(lst)\n",
    "    r = input().split(',')\n",
    "    \n",
    "    for i in r:\n",
    "        if len(i)==1:\n",
    "            lst[int(i)]=1\n",
    "        else:\n",
    "            a, b = map(int, i.split('-'))\n",
    "            if a <= b:\n",
    "                for j in range(a,b+1):\n",
    "                    if lst[j]!=1:\n",
    "                        lst[j]=1\n",
    "    print(lst.count(1))\n",
    "    print(lst)\n",
    "    \n"
   ]
  },
  {
   "cell_type": "code",
   "execution_count": null,
   "id": "f0a8d091",
   "metadata": {},
   "outputs": [],
   "source": [
    "10 11 12 13 14 15  25 26 27 28\n",
    "16 17 18 19 20\n",
    "9\n",
    "8\n",
    "\n",
    "\n",
    "https://www.acmicpc.net/problem/1543\n",
    "    "
   ]
  },
  {
   "cell_type": "code",
   "execution_count": null,
   "id": "6ee3951c",
   "metadata": {},
   "outputs": [],
   "source": []
  },
  {
   "cell_type": "code",
   "execution_count": null,
   "id": "2192dead",
   "metadata": {},
   "outputs": [],
   "source": []
  }
 ],
 "metadata": {
  "kernelspec": {
   "display_name": "Python 3 (ipykernel)",
   "language": "python",
   "name": "python3"
  },
  "language_info": {
   "codemirror_mode": {
    "name": "ipython",
    "version": 3
   },
   "file_extension": ".py",
   "mimetype": "text/x-python",
   "name": "python",
   "nbconvert_exporter": "python",
   "pygments_lexer": "ipython3",
   "version": "3.9.12"
  }
 },
 "nbformat": 4,
 "nbformat_minor": 5
}
