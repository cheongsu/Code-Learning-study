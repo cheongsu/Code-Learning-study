{
 "cells": [
  {
   "cell_type": "markdown",
   "id": "9e3b299b",
   "metadata": {},
   "source": [
    "23972\n",
    "\n",
    "문제\n",
    "어느 날, 민주는 꿈에서 악마를 만나게 되었다. 악마는 자신에게 K원을 지불하면, 지불하고 남은 금액을 N배로 만들어준다고 한다.\n",
    "\n",
    "민주는 자신이 최소 몇 원을 가지고 있어야 악마에게 K원을 지불했을 때 손해를 보지 않는지 알고 싶다.\n",
    "\n",
    "악마가 제안한 K와 N이 주어졌을 때, 민주가 손해 보지 않기 위해 가지고 있어야 하는 최소 금액 X를 구해주자. 단, 금액은 정수여야 한다.\n",
    "\n",
    "입력\n",
    "첫째 줄에 악마가 제안한 정수 K와 N이 공백을 사이에 두고 주어진다. (1 ≤ K, N ≤ 200,000,000)\n",
    "\n",
    "출력\n",
    "민주가 손해 보지 않기 위해 가지고 있어야 하는 최소 금액 X를 출력한다.\n",
    "\n",
    "항상 민주가 손해를 보게 된다면 -1을 출력한다.\n",
    "\n",
    "예제 입력 1 \n",
    "24 2 / k n\n",
    "예제 출력 1 \n",
    "48 / x\n",
    "예제 입력 2 \n",
    "36 3\n",
    "예제 출력 2 \n",
    "54\n",
    "\n",
    "손해의 개념\n",
    "\n",
    "가진 돈을 x라 할때,\n",
    "\n",
    "(x-24)*2 >= x 이면 손해는 아니다.\n",
    "\n",
    "(x-36)*3 >= x\n",
    "\n",
    "\n",
    "(x*n-k*n-x = 0\n",
    "\n",
    "손해인 경우\n",
    "\n",
    "x(n-1)-kn < 0\n",
    "\n",
    "n(x-k)-x < 0\n",
    "\n",
    "n <= 1 <  x/(x-k)이므로\n",
    "\n",
    "n==1이면 항상 손해이다 -1을 출력한다.\n",
    "\n"
   ]
  },
  {
   "cell_type": "code",
   "execution_count": 20,
   "id": "38ff5cbe",
   "metadata": {},
   "outputs": [
    {
     "name": "stdout",
     "output_type": "stream",
     "text": [
      "200000000 199999999\n",
      "200000001\n"
     ]
    }
   ],
   "source": [
    "import math\n",
    "k, n = map(int,input().split())\n",
    "\n",
    "if n==1:\n",
    "    print(-1)\n",
    "\n",
    "else:\n",
    "    x = k*n/(n-1)\n",
    "    print(math.ceil(x))\n",
    "    \n",
    "# 부동소수점 문제가 발생하여 ceil을 사용할 수 없음"
   ]
  },
  {
   "cell_type": "code",
   "execution_count": 21,
   "id": "a65ea6dc",
   "metadata": {
    "scrolled": true
   },
   "outputs": [
    {
     "name": "stdout",
     "output_type": "stream",
     "text": [
      "24 2\n",
      "48\n"
     ]
    }
   ],
   "source": [
    "\n",
    "k, n = map(int,input().split())\n",
    "\n",
    "if n==1:\n",
    "    print(-1)\n",
    "\n",
    "else:\n",
    "    result = (k*n)//(n-1)\n",
    "    if (k*n)%(n-1):\n",
    "        print(result+1)\n",
    "    else:\n",
    "        print(result)"
   ]
  },
  {
   "cell_type": "markdown",
   "id": "b410a4ca",
   "metadata": {},
   "source": [
    "1247 부호 풀이 )\n",
    "\n",
    "for 문을 세 번 순환해야 한다.\n",
    "\n",
    "for i in range(3):"
   ]
  },
  {
   "cell_type": "code",
   "execution_count": 22,
   "id": "c4a137b9",
   "metadata": {
    "scrolled": true
   },
   "outputs": [
    {
     "name": "stdout",
     "output_type": "stream",
     "text": [
      "3\n",
      "0\n",
      "0\n",
      "0\n",
      "0\n",
      "10\n",
      "1\n",
      "2\n",
      "4\n",
      "8\n",
      "16\n",
      "32\n",
      "64\n",
      "128\n",
      "256\n",
      "-512\n",
      "-\n",
      "6\n",
      "9223372036854775807\n",
      "9223372036854775806\n",
      "9223372036854775805\n",
      "-9223372036854775807\n",
      "-9223372036854775806\n",
      "-9223372036854775804\n",
      "+\n"
     ]
    }
   ],
   "source": [
    "for i in range(3):\n",
    "    num = int(input())\n",
    "    sum = 0\n",
    "    for j in range(num):\n",
    "        temp = int(input())\n",
    "        sum += temp\n",
    "    if sum==0:\n",
    "        print(0)\n",
    "    elif sum < 0 :\n",
    "        print('-')\n",
    "    else:\n",
    "        print('+')\n",
    "    \n",
    "    "
   ]
  },
  {
   "cell_type": "code",
   "execution_count": 33,
   "id": "14a7fa57",
   "metadata": {
    "scrolled": false
   },
   "outputs": [
    {
     "name": "stdout",
     "output_type": "stream",
     "text": [
      "7\n",
      "ra?????\n",
      "raaaaar\n"
     ]
    }
   ],
   "source": [
    "# 17502\n",
    "\n",
    "n = int(input())\n",
    "\n",
    "my_str = input()\n",
    "my_str = list(my_str)\n",
    "\n",
    "for i in range(n):\n",
    "    if my_str[i]=='?':\n",
    "        if my_str[-i-1]=='?':\n",
    "            my_str[i]='a'\n",
    "            my_str[-i-1]='a'\n",
    "        else:\n",
    "            my_str[i]=my_str[-i-1]\n",
    "\n",
    "print(''.join(my_str))"
   ]
  },
  {
   "cell_type": "code",
   "execution_count": 39,
   "id": "f7f4b4c5",
   "metadata": {},
   "outputs": [
    {
     "name": "stdout",
     "output_type": "stream",
     "text": [
      "5\n",
      "AAA\n",
      "1 2\n",
      "ABBA\n",
      "1 3\n",
      "ABBBA\n",
      "1 3\n",
      "ABAB\n",
      "0 1\n",
      "ABBAA\n",
      "0 2\n"
     ]
    }
   ],
   "source": [
    "def recursion(s, l, r):\n",
    "    global count\n",
    "    count += 1 \n",
    "    if l >= r: return 1,count\n",
    "    elif s[l] != s[r]: return 0,count\n",
    "    else: return recursion(s, l+1, r-1)\n",
    "\n",
    "def isPalindrome(s):\n",
    "    return recursion(s, 0, len(s)-1)\n",
    "\n",
    "n = int(input())\n",
    "\n",
    "for i in range(n):\n",
    "    my_str = input()\n",
    "    count = 0\n",
    "    result, temp = isPalindrome(my_str)\n",
    "    print(result, temp)\n"
   ]
  },
  {
   "cell_type": "code",
   "execution_count": 44,
   "id": "b9ad4e0d",
   "metadata": {},
   "outputs": [
    {
     "name": "stdout",
     "output_type": "stream",
     "text": [
      "5 2\n",
      "100 76 85 93 98\n",
      "98\n"
     ]
    }
   ],
   "source": [
    "\n",
    "n, m = map(int,input().split())\n",
    "\n",
    "my_list = list(map(int,input().split()))\n",
    "\n",
    "def bubbleSort(arr):\n",
    "    \n",
    "    length = len(arr) - 1\n",
    "    \n",
    "    for i in range(length):\n",
    "        for j in range(length-i):\n",
    "            if(arr[j] > arr[j+1]):\n",
    "                arr[j], arr[j+1] = arr[j+1], arr[j]\n",
    "                \n",
    "    return arr\n",
    "\n",
    "my_list = bubbleSort(my_list)\n",
    "\n",
    "print(my_list[-m])"
   ]
  },
  {
   "cell_type": "markdown",
   "id": "bc554461",
   "metadata": {},
   "source": []
  }
 ],
 "metadata": {
  "kernelspec": {
   "display_name": "Python 3 (ipykernel)",
   "language": "python",
   "name": "python3"
  },
  "language_info": {
   "codemirror_mode": {
    "name": "ipython",
    "version": 3
   },
   "file_extension": ".py",
   "mimetype": "text/x-python",
   "name": "python",
   "nbconvert_exporter": "python",
   "pygments_lexer": "ipython3",
   "version": "3.9.12"
  }
 },
 "nbformat": 4,
 "nbformat_minor": 5
}
