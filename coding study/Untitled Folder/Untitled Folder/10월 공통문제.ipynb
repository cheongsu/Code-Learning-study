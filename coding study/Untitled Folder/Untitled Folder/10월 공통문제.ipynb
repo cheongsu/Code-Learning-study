{
 "cells": [
  {
   "cell_type": "markdown",
   "id": "9d198a48",
   "metadata": {},
   "source": [
    "3566 대형 스크린\n",
    "\n",
    "문제\n",
    "상근이는 모니터를 여러개 붙여서 대형 모니터를 만드는 일을 하고 있다. \n",
    "\n",
    "고객은 대형 모니터의 가로, 세로 해상도(픽셀)과 가로 세로 크기(밀리미터)를 상근이에게 주문한다. 상근이는 고객의 주문 값보다 크거나 같은 해상도, 크거나 같은 크기의 대형 모니터를 만들어야 한다. 이때, 제조비가 최소가 되어야 한다.\n",
    "\n",
    "대형 모니터는 항상 같은 종류의 모니터로 만들어야 한다. 대형 모니터의 해상도, 크기는 모니터를 붙인 형태로 각각을 더하면 되고, 가격은 사용한 모니터의 가격의 합이다.\n",
    "\n",
    "상근이의 창고에는 모니터가 여러 종류가 있고, 각각의 해상도와 크기, 가격은 모두 알고 있다. 모니터를 회전 시켜서 대형 모니터를 만들 수 있다. 하지만, 대형 모니터에 포함된 모니터는 모두 같은 방향이어야 한다. 상근이는 모니터를 매우 많이 가지고 있어, 필요한 만큼 사용할 수 있다.\n",
    "\n",
    "입력\n",
    "첫째 줄에 대형 모니터의 가로 세로 해상도, 가로 세로 크기 rh, rv, sh, sv가 주어진다. 각 값은 100보다 크거나 같고, 10,000보다 작거나 같은 정수이다.\n",
    "\n",
    "다음 줄에는 상근이가 가지고 있는 모니터 종류의 개수 n이 주어진다. (1 ≤ n ≤ 100)\n",
    "\n",
    "다음 n개 줄에는 각 모니터의 가로 세로 해상도, 가로 세로 크기, 가격 rh,i, rv,i, sh,i, sv,i, pi 가 주어진다. 이 값도 모두 100보다 크거나 같고, 10,000보다 작거나 같다.\n",
    "\n",
    "출력\n",
    "첫째 줄에 대형 모니터를 만드는 가격 중 가장 저렴한 가격을 출력한다.\n",
    "\n",
    "예제 입력 1 \n",
    "1024 1024 300 300\n",
    "3\n",
    "1024 768 295 270 200\n",
    "1280 1024 365 301 250\n",
    "1280 800 350 270 210\n",
    "\n",
    "예제 출력 1 \n",
    "250"
   ]
  },
  {
   "cell_type": "markdown",
   "id": "3c8e66a4",
   "metadata": {},
   "source": [
    "문제 풀이 1)\n",
    "\n",
    "- 문제 해석\n",
    "\n",
    "모니터의 종류가 여러 개 주어진다.\n",
    "\n",
    "각 모니터는 서로 종류가 다르므로 독립적으로 시행된다. 붙이거나 합칠 수 없다.\n",
    "\n",
    "처음의 입력된 대형 모니터 사이즈를 만족하기 위해 프로그램이 진행된다.\n",
    "\n",
    "각각의 종류의 모니터를 여러 개 이어 붙여서 원하는 모니터를 만들면 된다.\n",
    "\n",
    "그 중 최솟값으로 만들 수 있는 종류를 선택해서 만드는데 드는 비용을 출력한다.\n",
    "\n",
    "모니터를 회전 시켜서 사용할 수 있다. 가로세로가 서로 다르기 때문에.\n",
    "\n",
    "모니터는 같은 방향으로만 이어붙일 수 있다. 가로면 가로, 세로면 세로\n",
    "\n",
    "\n",
    "<풀이>\n",
    "\n",
    "case는 모니터의 개수 x2를 점검한다\n",
    "\n",
    "점검하는 함수를 만들고 점검 진행 후 부족한 부분이 있다면 x2를 진행하여 보완한다. - 보완 시 금액은 2배로 늘린다.\n",
    "\n",
    "원하는 대형 모니터를 완성하면 금액을 리스트에 저장한 후 가장 큰 값을 출력한다. "
   ]
  },
  {
   "cell_type": "code",
   "execution_count": 12,
   "id": "7451234f",
   "metadata": {},
   "outputs": [
    {
     "name": "stdout",
     "output_type": "stream",
     "text": [
      "1024 1024 300 300\n",
      "3\n",
      "1024 768 295 270 200\n",
      "1280 1024 365 301 250\n",
      "1280 800 350 270 210\n"
     ]
    },
    {
     "ename": "TypeError",
     "evalue": "'<' not supported between instances of 'NoneType' and 'NoneType'",
     "output_type": "error",
     "traceback": [
      "\u001b[0;31m---------------------------------------------------------------------------\u001b[0m",
      "\u001b[0;31mTypeError\u001b[0m                                 Traceback (most recent call last)",
      "Input \u001b[0;32mIn [12]\u001b[0m, in \u001b[0;36m<cell line: 47>\u001b[0;34m()\u001b[0m\n\u001b[1;32m     44\u001b[0m     result\u001b[38;5;241m.\u001b[39mappend(make_screen(my_list[i],target))\n\u001b[1;32m     45\u001b[0m     result\u001b[38;5;241m.\u001b[39mappend(make_screen(spin(my_list[i]),target))\n\u001b[0;32m---> 47\u001b[0m \u001b[38;5;28mprint\u001b[39m(\u001b[38;5;28;43mmin\u001b[39;49m\u001b[43m(\u001b[49m\u001b[43mresult\u001b[49m\u001b[43m)\u001b[49m)\n",
      "\u001b[0;31mTypeError\u001b[0m: '<' not supported between instances of 'NoneType' and 'NoneType'"
     ]
    }
   ],
   "source": [
    "\n",
    "target = list(map(int,input().split()))\n",
    "\n",
    "n = int(input())\n",
    "\n",
    "my_list = []\n",
    "for i in range(n):\n",
    "    my_list.append(list(map(int,input().split())))\n",
    "\n",
    "def make_screen(lst,target):\n",
    "    while True:\n",
    "        if lst[0]>=target[0] and lst[2]>=target[2]:\n",
    "            if lst[1]>=target[1] and lst[3]>=target[3]:\n",
    "                return lst[4]\n",
    "                break\n",
    "            else:\n",
    "                lst[1] = lst[1]*2\n",
    "                lst[3] = lst[3]*2\n",
    "                lst[4] = lst[4]*2                \n",
    "        else:\n",
    "            if lst[1]>=target[1] and lst[3]>=target[3]:\n",
    "                lst[0] = lst[0]*2\n",
    "                lst[2] = lst[2]*2\n",
    "                lst[4] = lst[4]*2\n",
    "            else:\n",
    "                break\n",
    "\n",
    "def spin(lst):\n",
    "    temp1 = lst[0]\n",
    "    lst[0] = lst[1]\n",
    "    lst[1] = temp1\n",
    "    temp2 = lst[2]\n",
    "    lst[2] = lst[3]\n",
    "    lst[3] = temp2\n",
    "    return lst\n",
    "\n",
    "result = []\n",
    "\n",
    "for i in range(n):\n",
    "    result.append(make_screen(my_list[i],target))\n",
    "    result.append(make_screen(spin(my_list[i]),target))\n",
    "\n",
    "print(min(result))\n",
    "    \n",
    "    "
   ]
  },
  {
   "cell_type": "markdown",
   "id": "55cf2455",
   "metadata": {},
   "source": [
    "-> 틀렸습니다\n",
    "\n",
    "1024 1024 300 300\n",
    "3\n",
    "1024 768 295 270 200\n",
    "1280 1024 365 301 250\n",
    "1280 800 350 270 210\n",
    "\n",
    "\n",
    "같은 방향을 고려해야 한다를 수정해야 함\n",
    "즉, 가로 세로 중 하나가 부족하면 해당 방향으로 모니터를 붙여 해결할 수 있지만\n",
    "두 방향 모두 부족하다면 해결 할 수 없다는 뜻\n"
   ]
  },
  {
   "cell_type": "code",
   "execution_count": null,
   "id": "ecd8a7b1",
   "metadata": {},
   "outputs": [],
   "source": []
  },
  {
   "cell_type": "code",
   "execution_count": null,
   "id": "433623bf",
   "metadata": {},
   "outputs": [],
   "source": []
  },
  {
   "cell_type": "markdown",
   "id": "fba19d04",
   "metadata": {},
   "source": [
    "25175 \n",
    "\n",
    "queue.rotate 활용\n",
    "\n",
    "x - 3을 한 후 나온 값만큼 rotate 진행\n",
    "\n",
    "deque 내용물은 리스트 컴프리헨션으로 진행"
   ]
  },
  {
   "cell_type": "code",
   "execution_count": 26,
   "id": "f88ddfce",
   "metadata": {},
   "outputs": [
    {
     "name": "stdout",
     "output_type": "stream",
     "text": [
      "6 1 -1\n",
      "deque([1, 2, 3, 4, 5, 6])\n",
      "deque([3, 4, 5, 6, 1, 2])\n",
      "3\n"
     ]
    }
   ],
   "source": [
    "from collections import deque\n",
    "n,m,k = map(int,input().split())\n",
    "\n",
    "queue = deque([i for i in range(1,n+1)])\n",
    "\n",
    "queue.rotate(-(k-3))\n",
    "queue.rotate(-(m-1))\n",
    "\n",
    "print(queue.popleft())\n",
    "\n",
    "\n",
    "# 정답!\n",
    "\n",
    "# list의 제일 왼쪽을 출력값으로 선정하여, k,m만큼 회전한 후 출력"
   ]
  },
  {
   "cell_type": "code",
   "execution_count": 32,
   "id": "84ac49ca",
   "metadata": {},
   "outputs": [
    {
     "name": "stdout",
     "output_type": "stream",
     "text": [
      "15\n",
      "1073807361\n"
     ]
    }
   ],
   "source": [
    "#2903\n",
    "import math\n",
    "n = int(input())\n",
    "\n",
    "x = math.pow((1+math.pow(2,n)),2)\n",
    "\n",
    "print(int(x))\n",
    "\n",
    "# 정답\n",
    "\n",
    "# 규칙을 찾아보니 (1+2^n)^2이므로 정수형으로 계산 후 출력"
   ]
  },
  {
   "cell_type": "code",
   "execution_count": null,
   "id": "fae64b68",
   "metadata": {},
   "outputs": [],
   "source": []
  }
 ],
 "metadata": {
  "kernelspec": {
   "display_name": "Python 3 (ipykernel)",
   "language": "python",
   "name": "python3"
  },
  "language_info": {
   "codemirror_mode": {
    "name": "ipython",
    "version": 3
   },
   "file_extension": ".py",
   "mimetype": "text/x-python",
   "name": "python",
   "nbconvert_exporter": "python",
   "pygments_lexer": "ipython3",
   "version": "3.9.12"
  }
 },
 "nbformat": 4,
 "nbformat_minor": 5
}
