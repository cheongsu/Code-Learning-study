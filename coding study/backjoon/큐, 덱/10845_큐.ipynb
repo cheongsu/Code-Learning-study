{
 "cells": [
  {
   "cell_type": "markdown",
   "id": "cde84879",
   "metadata": {},
   "source": [
    "먼저 명령어 수 N 입력 받기\n",
    "\n",
    "N크기만큼 반복문 실행\n",
    "\n",
    "반복문 시작할 때, input으로 명령어 cmd 입력\n",
    "\n",
    "큐의 사이즈가 정해져 있지 않으므로 동적 리스트 활용\n",
    "\n",
    "push append 사용\n",
    "front는 list[0]\n",
    "back = list[-1]\n",
    "\n",
    "pop = del list[0]\n",
    "empty len(list)\n",
    "size len(list) \n",
    "\n",
    "풀이2)\n",
    "\n",
    "deque 활용\n",
    "\n",
    "push = appendleft\n",
    "front back 동일\n",
    "pop = popleft 활용\n",
    "size, empty 동일"
   ]
  },
  {
   "cell_type": "code",
   "execution_count": 6,
   "id": "ae238d8f",
   "metadata": {},
   "outputs": [
    {
     "name": "stdout",
     "output_type": "stream",
     "text": [
      "15\n",
      "push 1\n",
      "push 2\n",
      "front\n",
      "1\n",
      "back\n",
      "2\n",
      "size\n",
      "2\n",
      "empty\n",
      "0\n",
      "pop\n",
      "1\n",
      "pop\n",
      "2\n",
      "pop\n",
      "-1\n",
      "size\n",
      "0\n",
      "empty\n",
      "1\n",
      "pop\n",
      "-1\n",
      "push 3\n",
      "emty\n",
      "front\n",
      "3\n"
     ]
    }
   ],
   "source": [
    "from collections import deque\n",
    "\n",
    "import sys\n",
    "input = sys.stdin.readline\n",
    "N = int(input())\n",
    "queue = deque()\n",
    "for i in range(N):\n",
    "    cmd = input().split()\n",
    "    \n",
    "    if cmd[0] == \"push\":\n",
    "        queue.append(int(cmd[1]))\n",
    "    \n",
    "    if cmd[0] == \"pop\":\n",
    "        if len(queue)==0:\n",
    "            print(-1)\n",
    "        else:\n",
    "            print(queue.popleft())\n",
    "    \n",
    "    if cmd[0] == \"size\":\n",
    "        print(len(queue))\n",
    "    \n",
    "    if cmd[0] == \"empty\":\n",
    "        if len(queue)==0:\n",
    "            print(1)\n",
    "        else:\n",
    "            print(0)\n",
    "    \n",
    "    if cmd[0] == \"front\":\n",
    "        if len(queue)==0:\n",
    "            print(-1)\n",
    "        else:\n",
    "            print(queue[0])\n",
    "    \n",
    "    if cmd[0] == \"back\":\n",
    "        if len(queue)==0:\n",
    "            print(-1)\n",
    "        else:\n",
    "            print(queue[-1])\n",
    "            \n",
    "\n",
    "# 시간초과 발생 -> readline 변경 후 정답!            "
   ]
  },
  {
   "cell_type": "code",
   "execution_count": 3,
   "id": "f35aa5d2",
   "metadata": {},
   "outputs": [
    {
     "name": "stdout",
     "output_type": "stream",
     "text": [
      "push 3\n",
      "deque(['3', '2', '3', '2', '1'])\n",
      "3\n"
     ]
    }
   ],
   "source": [
    "cmd = input().split()\n",
    "    \n",
    "if cmd[0] == \"push\":\n",
    "    queue.appendleft(cmd[1])\n",
    "    \n",
    "print(queue)\n",
    "print(queue[0])"
   ]
  },
  {
   "cell_type": "code",
   "execution_count": null,
   "id": "0d078289",
   "metadata": {},
   "outputs": [],
   "source": []
  }
 ],
 "metadata": {
  "kernelspec": {
   "display_name": "Python 3 (ipykernel)",
   "language": "python",
   "name": "python3"
  },
  "language_info": {
   "codemirror_mode": {
    "name": "ipython",
    "version": 3
   },
   "file_extension": ".py",
   "mimetype": "text/x-python",
   "name": "python",
   "nbconvert_exporter": "python",
   "pygments_lexer": "ipython3",
   "version": "3.9.12"
  }
 },
 "nbformat": 4,
 "nbformat_minor": 5
}
