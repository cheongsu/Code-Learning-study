{
 "cells": [
  {
   "cell_type": "markdown",
   "id": "65cdfbd2",
   "metadata": {},
   "source": [
    "문제\n",
    "요세푸스 문제는 다음과 같다.\n",
    "\n",
    "1번부터 N번까지 N명의 사람이 원을 이루면서 앉아있고, 양의 정수 K(≤ N)가 주어진다. 이제 순서대로 K번째 사람을 제거한다. 한 사람이 제거되면 남은 사람들로 이루어진 원을 따라 이 과정을 계속해 나간다. 이 과정은 N명의 사람이 모두 제거될 때까지 계속된다. 원에서 사람들이 제거되는 순서를 (N, K)-요세푸스 순열이라고 한다. 예를 들어 (7, 3)-요세푸스 순열은 <3, 6, 2, 7, 5, 1, 4>이다.\n",
    "\n",
    "N과 K가 주어지면 (N, K)-요세푸스 순열을 구하는 프로그램을 작성하시오.\n",
    "\n",
    "입력\n",
    "첫째 줄에 N과 K가 빈 칸을 사이에 두고 순서대로 주어진다. (1 ≤ K ≤ N ≤ 1,000)\n",
    "\n",
    "출력\n",
    "예제와 같이 요세푸스 순열을 출력한다.\n",
    "\n",
    "예제 입력 1 \n",
    "7 3\n",
    "예제 출력 1 \n",
    "<3, 6, 2, 7, 5, 1, 4>\n",
    "\n",
    "예시 \n",
    "\n",
    "1234567\n"
   ]
  },
  {
   "cell_type": "markdown",
   "id": "f2eb0062",
   "metadata": {},
   "source": [
    "풀이 1)\n",
    "\n",
    "deque를 사용하여 리스트를 회전시킨다. 3번 회전시키고 한번 pop을 진행한다."
   ]
  },
  {
   "cell_type": "code",
   "execution_count": null,
   "id": "a8e795d9",
   "metadata": {},
   "outputs": [],
   "source": [
    "from collections import deque\n",
    "import sys\n",
    "\n",
    "n,m = map(int,sys.stdin.readline().split())\n",
    "\n",
    "queue = deque()\n",
    "for i in range(n):\n",
    "    queue.append(i+1)\n",
    "\n",
    "result = []    \n",
    "    \n",
    "while len(queue) > 0:\n",
    "    queue.rotate(-m)\n",
    "    result.append(queue[-1])\n",
    "    queue.pop()\n",
    "\n",
    "print(result)\n",
    "\n",
    "list_str = str(result)[1:-1]\n",
    "print('<',list_str,'>',sep='')"
   ]
  },
  {
   "cell_type": "markdown",
   "id": "9d21e343",
   "metadata": {},
   "source": [
    "풀이 2)\n",
    "\n",
    "출력이 문자열형태였으므로 오류발생\n",
    "\n",
    "출력을 int형태로 나눠서 출력"
   ]
  },
  {
   "cell_type": "code",
   "execution_count": 20,
   "id": "90f2c640",
   "metadata": {},
   "outputs": [
    {
     "name": "stdout",
     "output_type": "stream",
     "text": [
      "7 3\n",
      "[3, 6, 2, 7, 5, 1, 4]\n",
      "<3, 6, 2, 7, 5, 1, 4>\n"
     ]
    }
   ],
   "source": [
    "from collections import deque\n",
    "\n",
    "n,m = map(int,input().split())\n",
    "\n",
    "queue = deque()\n",
    "for i in range(n):\n",
    "    queue.append(i+1)\n",
    "\n",
    "result = []    \n",
    "    \n",
    "while len(queue) > 0:\n",
    "    queue.rotate(-m)\n",
    "    result.append(queue[-1])\n",
    "    queue.pop()\n",
    "\n",
    "print('<',end='')\n",
    "for i in range(n-1):\n",
    "    print(result[i],end=', ')\n",
    "print(result[-1],end='')\n",
    "print('>')\n",
    "\n",
    "# 정답!"
   ]
  },
  {
   "cell_type": "code",
   "execution_count": null,
   "id": "ec55f50c",
   "metadata": {},
   "outputs": [],
   "source": []
  }
 ],
 "metadata": {
  "kernelspec": {
   "display_name": "Python 3 (ipykernel)",
   "language": "python",
   "name": "python3"
  },
  "language_info": {
   "codemirror_mode": {
    "name": "ipython",
    "version": 3
   },
   "file_extension": ".py",
   "mimetype": "text/x-python",
   "name": "python",
   "nbconvert_exporter": "python",
   "pygments_lexer": "ipython3",
   "version": "3.9.12"
  }
 },
 "nbformat": 4,
 "nbformat_minor": 5
}
