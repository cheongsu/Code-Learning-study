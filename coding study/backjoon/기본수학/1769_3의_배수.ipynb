{
 "cells": [
  {
   "cell_type": "markdown",
   "id": "806ce0c9",
   "metadata": {},
   "source": [
    "풀이\n",
    "\n",
    "문자열 형식으로 입력 받음\n",
    "입력값의 크기만큼 반복문을 실행 후, \n",
    "각 자리수를 int로 변환하여 합침\n",
    "\n",
    "합친 값이 10보다 크면 다시 해당 값을 문자열로 변환 후 반복문 실행\n",
    "\n",
    "즉 이중 반복문을 활용하여\n",
    "\n",
    "밖의 반복문은 크기가 10미만인지 확인, 안의 반복문은 각 자릿수를 더하는 연산 실행\n",
    "\n",
    "10미만이면 반복문 종료 후 count를 반복문 실행 횟수만큼 계산하여 출력\n",
    "\n",
    "남은 한자리수를 3으로 나눠 나머지가 0인지 확인 후 출력"
   ]
  },
  {
   "cell_type": "code",
   "execution_count": 3,
   "id": "2fced456",
   "metadata": {},
   "outputs": [
    {
     "name": "stdout",
     "output_type": "stream",
     "text": [
      "999\n",
      "2\n",
      "YES\n"
     ]
    }
   ],
   "source": [
    "num = input()\n",
    "count = 0\n",
    "while len(num)>1:\n",
    "    count +=1\n",
    "    temp = 0\n",
    "    for i in range(len(num)):\n",
    "        temp += int(num[i])\n",
    "    num = str(temp)\n",
    "\n",
    "print(count)\n",
    "\n",
    "if int(num)%3==0:\n",
    "    print('YES')\n",
    "else:\n",
    "    print(\"NO\")\n",
    "    \n",
    "    # 정답!!"
   ]
  },
  {
   "cell_type": "code",
   "execution_count": null,
   "id": "270d0ee6",
   "metadata": {},
   "outputs": [],
   "source": []
  }
 ],
 "metadata": {
  "kernelspec": {
   "display_name": "Python 3 (ipykernel)",
   "language": "python",
   "name": "python3"
  },
  "language_info": {
   "codemirror_mode": {
    "name": "ipython",
    "version": 3
   },
   "file_extension": ".py",
   "mimetype": "text/x-python",
   "name": "python",
   "nbconvert_exporter": "python",
   "pygments_lexer": "ipython3",
   "version": "3.9.12"
  }
 },
 "nbformat": 4,
 "nbformat_minor": 5
}
