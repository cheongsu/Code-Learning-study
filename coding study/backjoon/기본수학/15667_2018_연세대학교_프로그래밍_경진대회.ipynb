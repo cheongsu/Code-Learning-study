{
 "cells": [
  {
   "cell_type": "markdown",
   "id": "435f87b1",
   "metadata": {},
   "source": [
    "    \n",
    "문제\n",
    "2015, 2016, 2017년에 이어 올해도 연세대학교 컴퓨터과학과 프로그래밍 경진대회가 열린다.\n",
    "\n",
    "도현이는 4년 연속 교내대회가 개최된다는 것에 감격하여, 사비를 털 각오로 화려한 개막식을 준비했다.\n",
    "\n",
    "도현이가 원하는 것은 폭죽으로, 강의실 A528에서 천장을 다 뚫어버리며 터지는 화려한 폭죽을 모두가 좋아할 것이라 생각했다. 도현이는 아래와 같이 터지는 폭죽을 주문하려 한다.\n",
    "\n",
    "처음 발사된 폭죽이 만든 하나의 대형 불꽃은 적당한 높이에 도달하면 화려한 폭발과 함께 K개의 중형 불꽃으로 갈라진다.\n",
    "각 K개의 중형 불꽃은 다시 각각 K개의 소형 불꽃으로 갈라지며 터진다.\n",
    "그 이후 모든 불꽃은 소멸한다.\n",
    "도현이는 적당한 폭죽을 찾아보려 했지만, 폭죽 판매처에서는 K의 값을 알려주지 않았고,\n",
    "\n",
    "대신 폭죽 하나당 만들어지는 총 불꽃의 수(처음 터진 대형 불꽃을 포함해, 중형 불꽃과 소형 불꽃을 모두 포함한 수)만을 알려줬다. 결국 도현이는 어떤 폭죽이 적당할지 알아내지 못해 폭죽을 구매하지 못했다.\n",
    "\n",
    "이에 도현이는 이 난제를 해결해주는 학생에게 이번 대회에서 맞은 문제 수를 하나 늘려주기로 하였다. 여러분은 대회에서 우승하기 위해, 폭죽이 만들 모든 불꽃의 개수가 주어지면 K의 값을 찾아보도록 하자.\n",
    "\n",
    "입력\n",
    "총 불꽃의 수 N이 주어진다. (3 ≤ N ≤ 10101)\n",
    "\n",
    "출력\n",
    "K의 값을 출력한다. 이 값은 정수임이 보장되며, 불가능한 경우는 입력으로 주어지지 않는다.\n",
    "\n",
    "예제 입력 1 \n",
    "21\n",
    "예제 출력 1 \n",
    "4"
   ]
  },
  {
   "cell_type": "markdown",
   "id": "62fa31d9",
   "metadata": {},
   "source": [
    "풀이 1) \n",
    "\n",
    "21 -> 4^2 + 4 + 1 = 21\n",
    "\n",
    "0 = k^2 + k-N+1\n",
    "\n",
    "-1+root(1-4(-N+!))/2 = k\n",
    "\n",
    "\n",
    "\n",
    "k^2 = k-n+!"
   ]
  },
  {
   "cell_type": "code",
   "execution_count": null,
   "id": "ab016ae6",
   "metadata": {},
   "outputs": [],
   "source": [
    "N = int(input())\n",
    "import math\n",
    "\n",
    "k = (-1+math.sqrt(4*N-3))/2\n",
    "\n",
    "print(int(k))\n",
    "\n",
    "# 근의공식을 활용함 정답!"
   ]
  },
  {
   "cell_type": "code",
   "execution_count": null,
   "id": "1a38a667",
   "metadata": {},
   "outputs": [],
   "source": []
  }
 ],
 "metadata": {
  "kernelspec": {
   "display_name": "Python 3 (ipykernel)",
   "language": "python",
   "name": "python3"
  },
  "language_info": {
   "codemirror_mode": {
    "name": "ipython",
    "version": 3
   },
   "file_extension": ".py",
   "mimetype": "text/x-python",
   "name": "python",
   "nbconvert_exporter": "python",
   "pygments_lexer": "ipython3",
   "version": "3.9.12"
  }
 },
 "nbformat": 4,
 "nbformat_minor": 5
}
