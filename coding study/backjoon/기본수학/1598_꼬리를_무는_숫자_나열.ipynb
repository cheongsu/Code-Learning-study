{
 "cells": [
  {
   "cell_type": "code",
   "execution_count": null,
   "id": "e8f04798",
   "metadata": {},
   "outputs": [],
   "source": [
    "https://www.acmicpc.net/problem/1598"
   ]
  },
  {
   "cell_type": "code",
   "execution_count": null,
   "id": "283f3342",
   "metadata": {},
   "outputs": [],
   "source": []
  },
  {
   "cell_type": "code",
   "execution_count": null,
   "id": "61739de1",
   "metadata": {},
   "outputs": [],
   "source": []
  },
  {
   "cell_type": "code",
   "execution_count": null,
   "id": "b6bbf2ff",
   "metadata": {},
   "outputs": [],
   "source": [
    "A, B = map(int,input().split())\n",
    "\n",
    "def fuc2(A):\n",
    "    if A%4==0:\n",
    "        return A//4-1\n",
    "    else:\n",
    "        return A//4\n",
    "\n",
    "C = max(fuc2(A)-fuc2(B),fuc2(B)-fuc2(A))\n",
    "\n",
    "\n",
    "def fuc(A):\n",
    "    if A%4==0:\n",
    "        return 4\n",
    "    else:\n",
    "        return A%4\n",
    "\n",
    "D = max(fuc(A)-fuc(B),fuc(B)-fuc(A))\n",
    "\n",
    "print(C+D)\n"
   ]
  }
 ],
 "metadata": {
  "kernelspec": {
   "display_name": "Python 3 (ipykernel)",
   "language": "python",
   "name": "python3"
  },
  "language_info": {
   "codemirror_mode": {
    "name": "ipython",
    "version": 3
   },
   "file_extension": ".py",
   "mimetype": "text/x-python",
   "name": "python",
   "nbconvert_exporter": "python",
   "pygments_lexer": "ipython3",
   "version": "3.9.12"
  }
 },
 "nbformat": 4,
 "nbformat_minor": 5
}
