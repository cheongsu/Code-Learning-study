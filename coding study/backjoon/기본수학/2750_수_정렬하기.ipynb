{
 "cells": [
  {
   "cell_type": "markdown",
   "id": "7d566ffe",
   "metadata": {},
   "source": [
    "문제\n",
    "N개의 수가 주어졌을 때, 이를 오름차순으로 정렬하는 프로그램을 작성하시오.\n",
    "\n",
    "입력\n",
    "첫째 줄에 수의 개수 N(1 ≤ N ≤ 1,000)이 주어진다. 둘째 줄부터 N개의 줄에는 수 주어진다. 이 수는 절댓값이 1,000보다 작거나 같은 정수이다. 수는 중복되지 않는다.\n",
    "\n",
    "출력\n",
    "첫째 줄부터 N개의 줄에 오름차순으로 정렬한 결과를 한 줄에 하나씩 출력한다.\n",
    "\n",
    "\n",
    "예제 입력 1 \n",
    "5\n",
    "5\n",
    "2\n",
    "3\n",
    "4\n",
    "1\n",
    "예제 출력 1 \n",
    "1\n",
    "2\n",
    "3\n",
    "4\n",
    "5\n",
    "\n",
    "거품정렬, 삽입정렬 활용"
   ]
  },
  {
   "cell_type": "markdown",
   "id": "e5df14c6",
   "metadata": {},
   "source": [
    "풀이 1)\n",
    "거품정렬 활용\n",
    "\n",
    "거품정렬이란 서로 인접한 두 원소의 대소를 비교하고, 조건에 맞지 않는다면 자리를 교환하며 정렬하는 알고리즘이다. \n",
    "\n",
    "1) 입력값을 리스트로 저장한다\n",
    "2) for 반복문을 이중으로 활용하고 범위는 리스트의 크기로 설정하여, 앞 뒤 숫자를 비교한 뒤 뒤 숫자가 크다면 앞 숫자와 자리를 변경한다.\n",
    "\n",
    "3) 정렬된 값을 하나씩 출력한다.\n",
    "\n",
    "\n",
    "\n",
    "j=0 01 12 23 34 45\n",
    "\n",
    "j=1 12 23 34 45\n",
    "\n",
    "j=2 23 34 45\n",
    "\n",
    "j=3 34 45\n",
    "\n",
    "j=4 45\n",
    "\n",
    "주의)\n",
    "정수를 다루므로 input()값을 int()를 통해 정수로 변환해줘야 함"
   ]
  },
  {
   "cell_type": "code",
   "execution_count": 20,
   "id": "e34476f3",
   "metadata": {
    "scrolled": true
   },
   "outputs": [
    {
     "name": "stdout",
     "output_type": "stream",
     "text": [
      "5\n",
      "5\n",
      "2\n",
      "3\n",
      "4\n",
      "1\n",
      "1\n",
      "2\n",
      "3\n",
      "4\n",
      "5\n"
     ]
    }
   ],
   "source": [
    "len = int(input())\n",
    "list = []\n",
    "for i in range(len):\n",
    "    num = int(input())\n",
    "    list.append(num)\n",
    "    \n",
    "for i in range(len):\n",
    "    for j in range(0,len-1):\n",
    "        if list[j]>list[j+1]:\n",
    "            a = list[j]\n",
    "            list[j] = list[j+1]\n",
    "            list[j+1] = a\n",
    "            \n",
    "for i in list:\n",
    "    print(i)\n",
    "    \n",
    "    "
   ]
  },
  {
   "cell_type": "markdown",
   "id": "c11a2cef",
   "metadata": {},
   "source": [
    "풀이 2)\n",
    "\n",
    "삽입정렬\n",
    "\n",
    "정의 : target과 앞의 원소들을 비교 탐색 후 삽입하는 것\n",
    "\n",
    "1. 현재 타겟이 되는 숫자와 이전 위치에 있는 원소를 비교\n",
    "2. 타겟이 되는 숫자가 이전 위치에 있던 원소보다 작다면 위치를 교환\n",
    "3. 그 다음 타겟을 찾아 위와 같은 방법을 반복\n",
    "\n",
    "출처 : https://st-lab.tistory.com/179\n",
    "\n"
   ]
  },
  {
   "cell_type": "code",
   "execution_count": 22,
   "id": "654d73be",
   "metadata": {},
   "outputs": [
    {
     "name": "stdout",
     "output_type": "stream",
     "text": [
      "5\n",
      "5\n",
      "2\n",
      "3\n",
      "4\n",
      "1\n",
      "1\n",
      "2\n",
      "3\n",
      "4\n",
      "5\n"
     ]
    }
   ],
   "source": [
    "len = int(input())\n",
    "list = []\n",
    "for i in range(len):\n",
    "    num = int(input())\n",
    "    list.append(num)\n",
    "    \n",
    "for i in range(1,len):\n",
    "    for j in range(i):\n",
    "        if list[i-j]<list[i-j-1]:\n",
    "            temp = list[i-j]\n",
    "            list[i-j]=list[i-j-1]\n",
    "            list[i-j-1]=temp\n",
    "        else:\n",
    "            break\n",
    "\n",
    "for i in list:\n",
    "    print(i)\n",
    "               "
   ]
  },
  {
   "cell_type": "code",
   "execution_count": null,
   "id": "abaf491f",
   "metadata": {},
   "outputs": [],
   "source": []
  }
 ],
 "metadata": {
  "kernelspec": {
   "display_name": "Python 3 (ipykernel)",
   "language": "python",
   "name": "python3"
  },
  "language_info": {
   "codemirror_mode": {
    "name": "ipython",
    "version": 3
   },
   "file_extension": ".py",
   "mimetype": "text/x-python",
   "name": "python",
   "nbconvert_exporter": "python",
   "pygments_lexer": "ipython3",
   "version": "3.9.12"
  }
 },
 "nbformat": 4,
 "nbformat_minor": 5
}
