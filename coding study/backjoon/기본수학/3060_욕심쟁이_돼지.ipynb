{
 "cells": [
  {
   "cell_type": "markdown",
   "id": "4f77c294",
   "metadata": {},
   "source": [
    "https://www.acmicpc.net/problem/3060\n",
    "\n",
    "예제 입력 1 \n",
    "2\n",
    "21\n",
    "1 2 3 4 5 6\n",
    "21\n",
    "1 2 3 4 5 7\n",
    "예제 출력 1 \n",
    "2\n",
    "1"
   ]
  },
  {
   "cell_type": "code",
   "execution_count": null,
   "id": "7f40094d",
   "metadata": {},
   "outputs": [],
   "source": [
    "그냥 계산인듯??\n",
    "\n",
    "리스트 6을 만들고 \n",
    "\n",
    "deque로 rotate돌리면서 입력받아도 되고"
   ]
  },
  {
   "cell_type": "code",
   "execution_count": 17,
   "id": "ce5a8d14",
   "metadata": {},
   "outputs": [
    {
     "name": "stdout",
     "output_type": "stream",
     "text": [
      "2\n",
      "21\n",
      "1 2 3 4 5 6\n",
      "2\n",
      "21\n",
      "2 3 4 5 6 7\n",
      "1\n"
     ]
    }
   ],
   "source": [
    "from collections import deque\n",
    "\n",
    "\n",
    "\n",
    "\n",
    "N = int(input())\n",
    "\n",
    "for i in range(N):\n",
    "    day = int(input())\n",
    "    deq = deque(list(map(int,input().split())))\n",
    "    count = 1\n",
    "    while sum(deq)<=day:\n",
    "        for j in range(6):\n",
    "            deq[j] = deq[-1]+deq[1]+deq[3]\n",
    "            deq.rotate(1)\n",
    "        count+=1\n",
    "    print(count)\n",
    "    \n",
    "# 시간초과"
   ]
  },
  {
   "cell_type": "code",
   "execution_count": 6,
   "id": "c2fd06bc",
   "metadata": {},
   "outputs": [
    {
     "name": "stdout",
     "output_type": "stream",
     "text": [
      "1\n",
      "1\n"
     ]
    }
   ],
   "source": [
    "deq = deque()\n",
    "\n",
    "deq.append(1)\n",
    "print(deq[0])\n",
    "\n",
    "print(sum(deq))"
   ]
  },
  {
   "cell_type": "code",
   "execution_count": 13,
   "id": "c3e194b5",
   "metadata": {},
   "outputs": [
    {
     "name": "stdout",
     "output_type": "stream",
     "text": [
      "1 2 3 4 5 6\n",
      "deque([1, 2, 3, 4, 5, 6])\n"
     ]
    }
   ],
   "source": [
    "deq = deque(list(map(int,input().split())))\n",
    "print(deq)"
   ]
  },
  {
   "cell_type": "code",
   "execution_count": null,
   "id": "cf6c9a6c",
   "metadata": {},
   "outputs": [],
   "source": [
    "간단하게 모든 숫자가 3배가 된다고 생각하면 될듯??\n",
    "\n"
   ]
  },
  {
   "cell_type": "code",
   "execution_count": 27,
   "id": "e587ddca",
   "metadata": {},
   "outputs": [
    {
     "name": "stdout",
     "output_type": "stream",
     "text": [
      "2\n",
      "21\n",
      "21\n",
      "1 2 3 4 5 6\n",
      "[1, 2, 3, 4, 5, 6]\n",
      "1\n",
      "1\n",
      "21\n",
      "21\n",
      "2 3 4 5 6 7\n",
      "[2, 3, 4, 5, 6, 7]\n",
      "1\n"
     ]
    },
    {
     "ename": "OverflowError",
     "evalue": "cannot convert float infinity to integer",
     "output_type": "error",
     "traceback": [
      "\u001b[0;31m---------------------------------------------------------------------------\u001b[0m",
      "\u001b[0;31mOverflowError\u001b[0m                             Traceback (most recent call last)",
      "Input \u001b[0;32mIn [27]\u001b[0m, in \u001b[0;36m<cell line: 3>\u001b[0;34m()\u001b[0m\n\u001b[1;32m      8\u001b[0m count \u001b[38;5;241m=\u001b[39m \u001b[38;5;241m1\u001b[39m\n\u001b[1;32m     10\u001b[0m \u001b[38;5;28mprint\u001b[39m(count)\n\u001b[0;32m---> 11\u001b[0m \u001b[38;5;28;01mwhile\u001b[39;00m \u001b[38;5;28;43mint\u001b[39;49m\u001b[43m(\u001b[49m\u001b[38;5;28;43msum\u001b[39;49m\u001b[43m(\u001b[49m\u001b[43mlst\u001b[49m\u001b[43m)\u001b[49m\u001b[38;5;241;43m*\u001b[39;49m\u001b[43mmath\u001b[49m\u001b[38;5;241;43m.\u001b[39;49m\u001b[43mpow\u001b[49m\u001b[43m(\u001b[49m\u001b[38;5;241;43m3\u001b[39;49m\u001b[43m,\u001b[49m\u001b[43mcount\u001b[49m\u001b[38;5;241;43m-\u001b[39;49m\u001b[38;5;241;43m1\u001b[39;49m\u001b[43m)\u001b[49m\u001b[43m)\u001b[49m \u001b[38;5;241m>\u001b[39m day:\n\u001b[1;32m     12\u001b[0m     count \u001b[38;5;241m+\u001b[39m\u001b[38;5;241m=\u001b[39m\u001b[38;5;241m1\u001b[39m\n\u001b[1;32m     13\u001b[0m \u001b[38;5;28mprint\u001b[39m(count)\n",
      "\u001b[0;31mOverflowError\u001b[0m: cannot convert float infinity to integer"
     ]
    }
   ],
   "source": [
    "N = int(input())\n",
    "import math\n",
    "for i in range(N):\n",
    "    day = int(input())\n",
    "    lst = list(map(int,input().split()))\n",
    "    count = 1 \n",
    "    while sum(lst)*math.pow(3,count-1) > day:\n",
    "        count +=1\n",
    "    print(count)"
   ]
  },
  {
   "cell_type": "code",
   "execution_count": 22,
   "id": "62de184a",
   "metadata": {},
   "outputs": [
    {
     "name": "stdout",
     "output_type": "stream",
     "text": [
      "1 2 3 4 5 6\n",
      "63.0\n"
     ]
    }
   ],
   "source": [
    "\n",
    "import math\n",
    "lst = list(map(int,input().split()))\n",
    "print(sum(lst)*math.pow(3,1))"
   ]
  },
  {
   "cell_type": "code",
   "execution_count": 26,
   "id": "fda44e4b",
   "metadata": {},
   "outputs": [
    {
     "name": "stdout",
     "output_type": "stream",
     "text": [
      "27.0\n"
     ]
    }
   ],
   "source": [
    "\n",
    "count = 1\n",
    "print(sum(lst)*math.pow(3,count-1))"
   ]
  },
  {
   "cell_type": "code",
   "execution_count": null,
   "id": "699add7e",
   "metadata": {},
   "outputs": [],
   "source": [
    "진행될수록 입력값 합의 *4만큼씩 증가\n",
    "\n",
    "증가한 값이 사료 N보다 큰지 확인\n",
    "\n"
   ]
  },
  {
   "cell_type": "code",
   "execution_count": 33,
   "id": "fa877cb6",
   "metadata": {},
   "outputs": [
    {
     "name": "stdout",
     "output_type": "stream",
     "text": [
      "2\n",
      "21\n",
      "1 2 3 4 5 6\n",
      "2\n",
      "21\n",
      "1 2 3 4 5 7\n",
      "1\n"
     ]
    }
   ],
   "source": [
    "T = int(input())\n",
    "\n",
    "\n",
    "for i in range(T):\n",
    "    N = int(input())\n",
    "    num = list(map(int,input().split()))\n",
    "    target = sum(num)\n",
    "    count = 1\n",
    "    while target <= N:\n",
    "        count +=1\n",
    "        target*=4\n",
    "    \n",
    "    print(count)"
   ]
  },
  {
   "cell_type": "markdown",
   "id": "84113f2e",
   "metadata": {},
   "source": []
  }
 ],
 "metadata": {
  "kernelspec": {
   "display_name": "Python 3 (ipykernel)",
   "language": "python",
   "name": "python3"
  },
  "language_info": {
   "codemirror_mode": {
    "name": "ipython",
    "version": 3
   },
   "file_extension": ".py",
   "mimetype": "text/x-python",
   "name": "python",
   "nbconvert_exporter": "python",
   "pygments_lexer": "ipython3",
   "version": "3.9.12"
  }
 },
 "nbformat": 4,
 "nbformat_minor": 5
}
