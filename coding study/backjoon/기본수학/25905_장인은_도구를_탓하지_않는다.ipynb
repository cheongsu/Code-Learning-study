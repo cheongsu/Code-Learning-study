{
 "cells": [
  {
   "cell_type": "code",
   "execution_count": null,
   "id": "bbd42bc7",
   "metadata": {},
   "outputs": [],
   "source": [
    "https://www.acmicpc.net/problem/25905"
   ]
  },
  {
   "cell_type": "code",
   "execution_count": null,
   "id": "c26d8e6f",
   "metadata": {},
   "outputs": [],
   "source": []
  },
  {
   "cell_type": "code",
   "execution_count": null,
   "id": "ca3db341",
   "metadata": {},
   "outputs": [],
   "source": [
    "from decimal import Decimal\n",
    "lit = [0 for _ in range(10)]\n",
    "for i in range(10):\n",
    "    lit[a] = float(input())\n",
    " \n",
    "    \n",
    "lit.sort(reverse=True)\n",
    "result = Decimal(1.0)\n",
    "for j in range(9):\n",
    "    result *= Decimal(lit[j])/(j+1)\n",
    "\n",
    "    \n",
    "print(result*(10**9))\n",
    "\n",
    "# from decimal import Decimal\n",
    "\n",
    "# p = [0 for _ in range(10)]\n",
    "\n",
    "# for i in range(10):\n",
    "#     p[i] = float(input())\n",
    "\n",
    "# p.sort(reverse=True)\n",
    "\n",
    "# result = Decimal(1.0)\n",
    "\n",
    "# for i in range(9):\n",
    "#     result *= Decimal(p[i])/(i+1)\n",
    "\n",
    "# print(result*(10**9))"
   ]
  }
 ],
 "metadata": {
  "kernelspec": {
   "display_name": "Python 3 (ipykernel)",
   "language": "python",
   "name": "python3"
  },
  "language_info": {
   "codemirror_mode": {
    "name": "ipython",
    "version": 3
   },
   "file_extension": ".py",
   "mimetype": "text/x-python",
   "name": "python",
   "nbconvert_exporter": "python",
   "pygments_lexer": "ipython3",
   "version": "3.9.12"
  }
 },
 "nbformat": 4,
 "nbformat_minor": 5
}
