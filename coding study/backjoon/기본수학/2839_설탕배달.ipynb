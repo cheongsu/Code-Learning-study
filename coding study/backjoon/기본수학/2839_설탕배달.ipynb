{
 "cells": [
  {
   "cell_type": "markdown",
   "id": "134ebab7",
   "metadata": {},
   "source": [
    "문제\n",
    "상근이는 요즘 설탕공장에서 설탕을 배달하고 있다. 상근이는 지금 사탕가게에 설탕을 정확하게 N킬로그램을 배달해야 한다. 설탕공장에서 만드는 설탕은 봉지에 담겨져 있다. 봉지는 3킬로그램 봉지와 5킬로그램 봉지가 있다.\n",
    "\n",
    "상근이는 귀찮기 때문에, 최대한 적은 봉지를 들고 가려고 한다. 예를 들어, 18킬로그램 설탕을 배달해야 할 때, 3킬로그램 봉지 6개를 가져가도 되지만, 5킬로그램 3개와 3킬로그램 1개를 배달하면, 더 적은 개수의 봉지를 배달할 수 있다.\n",
    "\n",
    "상근이가 설탕을 정확하게 N킬로그램 배달해야 할 때, 봉지 몇 개를 가져가면 되는지 그 수를 구하는 프로그램을 작성하시오.\n",
    "\n",
    "입력\n",
    "첫째 줄에 N이 주어진다. (3 ≤ N ≤ 5000)\n",
    "\n",
    "출력\n",
    "상근이가 배달하는 봉지의 최소 개수를 출력한다. 만약, 정확하게 N킬로그램을 만들 수 없다면 -1을 출력한다.\n",
    "\n",
    "예제 입력 1 \n",
    "18\n",
    "예제 출력 1 \n",
    "4\n",
    "예제 입력 2 \n",
    "4\n",
    "예제 출력 2 \n",
    "-1\n",
    "예제 입력 3 \n",
    "6\n",
    "예제 출력 3 \n",
    "2\n",
    "예제 입력 4 \n",
    "9\n",
    "예제 출력 4 \n",
    "3\n",
    "예제 입력 5 \n",
    "11\n",
    "예제 출력 5 \n",
    "3\n",
    "\n",
    "출처\n",
    "Contest > Croatian Open Competition in Informatics > COCI 2010/2011 > Contest #7 1번\n",
    "\n",
    "문제를 번역한 사람: baekjoon\n",
    "데이터를 추가한 사람: hyunynim, jh05013"
   ]
  },
  {
   "cell_type": "markdown",
   "id": "abc0e95a",
   "metadata": {},
   "source": [
    "풀이 1)\n",
    "\n",
    "N이 3과 5의 조합으로 나누어떨어지는 수인지 확인 후,\n",
    "떨어지지 않으면 -1을 출력한다.\n",
    "\n",
    "떨어진다면 봉투합이 최소가 되는 즉 5 봉투가 최대로 포함될 수 있는 봉투의 합 개수를 출력한다. \n",
    "\n",
    "중복되지 않는 수 조합은\n",
    "\n",
    "3의 배수 : 3 6 9 12 15 18 21 ...\n",
    "\n",
    "5의 배수 : 5 10 15 20 25 30 35 40 ...\n",
    "\n",
    "5+3의배수: 8 11 14 17 20 23 26 29 32 35 38 ...\n",
    "\n",
    "10+3의배수: 13 16 19 22 25 28 31 34 37 40 ...\n",
    "\n",
    "위 수 배열에 포함되지 않는다면 -1을 출력하게 된다.\n",
    "\n",
    "위에 포함 되지 않는 수 배열은\n",
    "\n",
    "1 2 4 7이다. 8 이상의 수는 모두 포함된다.\n",
    "\n",
    "최대한 5의 봉투로 많이 담아야 하므로,\n",
    "\n",
    "5로 나누었을 때\n",
    "\n",
    "나머지가 0인 경우 5 10 15 20 25 ... 는 print(num//5)\n",
    "\n",
    "나머지가 1인 경우 6 11 16 21 26 ... 는 5*x + 6으로 구성되므로 print(num//5+1)\n",
    "\n",
    "나머지가 2인 경우 12 17 22 27 32 ... 는 5*x + 12로 구성되므로\n",
    "print(num//5+2)\n",
    "\n",
    "나머지가 3인 경우 13 18 23 28 33 ... 는 5*x + 3으로 구성되므로\n",
    "print(num//5+1)\n",
    "\n",
    "나머지가 4인 경우 14 19 24 29 34 ... 는 5*x + 9로 구성되므로\n",
    "print(num//5+2)\n",
    "\n",
    "로 계산된다."
   ]
  },
  {
   "cell_type": "code",
   "execution_count": 27,
   "id": "8769a7db",
   "metadata": {},
   "outputs": [
    {
     "name": "stdout",
     "output_type": "stream",
     "text": [
      "11\n",
      "3\n"
     ]
    }
   ],
   "source": [
    "num = int(input())\n",
    "\n",
    "if num==1 or num==2 or num==4 or num==7 :\n",
    "    print(-1)\n",
    "    \n",
    "elif num % 5 == 0:\n",
    "        print(num//5)\n",
    "elif num % 5 == 1:\n",
    "        print(num//5 + 1)\n",
    "elif num % 5 == 2:\n",
    "    print(num//5 + 2)\n",
    "elif num % 5 == 3:\n",
    "    print(num//5 + 1)\n",
    "elif num % 5 == 4:\n",
    "    print(num//5 + 2)\n",
    "    "
   ]
  },
  {
   "cell_type": "markdown",
   "id": "86acd67a",
   "metadata": {},
   "source": [
    "수식이 정리되었으므로 더 간단하게 표현할 수 있다."
   ]
  },
  {
   "cell_type": "code",
   "execution_count": null,
   "id": "7fab8268",
   "metadata": {},
   "outputs": [],
   "source": [
    "num = int(input())\n",
    "\n",
    "if num==1 or num==2 or num==4 or num==7 :\n",
    "    print(-1)\n",
    "    \n",
    "elif num % 5 == 0:\n",
    "        print(num//5)\n",
    "elif num % 5 == 1 or num % 5 ==3:\n",
    "    print(num//5 + 1)\n",
    "elif num % 5 == 2 or num % 5 ==4:\n",
    "    print(num//5 + 2)\n"
   ]
  },
  {
   "cell_type": "markdown",
   "id": "1aeedca1",
   "metadata": {},
   "source": [
    "풀이 2)\n",
    "\n",
    "문제 상황을 그대로 반영하여 while과 if문으로 해결할 수 있다.\n",
    "\n",
    "https://velog.io/@goplanit/Algorithm-%EB%B0%B1%EC%A4%80-2839%EB%B2%88-%EC%84%A4%ED%83%95-%EB%B0%B0%EB%8B%AC%ED%8C%8C%EC%9D%B4%EC%8D%AC"
   ]
  },
  {
   "cell_type": "code",
   "execution_count": 34,
   "id": "436f7eda",
   "metadata": {},
   "outputs": [
    {
     "name": "stdout",
     "output_type": "stream",
     "text": [
      "11\n",
      "3\n"
     ]
    }
   ],
   "source": [
    "num = int(input())\n",
    "\n",
    "count = 0\n",
    "while num >= 0:\n",
    "    if num % 5 ==0:\n",
    "        count += num//5\n",
    "        print(count)\n",
    "        break\n",
    "    \n",
    "    num -= 3\n",
    "    count += 1\n",
    "\n",
    "else:\n",
    "    print(-1)\n"
   ]
  },
  {
   "cell_type": "code",
   "execution_count": null,
   "id": "39ba29fb",
   "metadata": {},
   "outputs": [],
   "source": []
  }
 ],
 "metadata": {
  "kernelspec": {
   "display_name": "Python 3 (ipykernel)",
   "language": "python",
   "name": "python3"
  },
  "language_info": {
   "codemirror_mode": {
    "name": "ipython",
    "version": 3
   },
   "file_extension": ".py",
   "mimetype": "text/x-python",
   "name": "python",
   "nbconvert_exporter": "python",
   "pygments_lexer": "ipython3",
   "version": "3.9.12"
  }
 },
 "nbformat": 4,
 "nbformat_minor": 5
}
