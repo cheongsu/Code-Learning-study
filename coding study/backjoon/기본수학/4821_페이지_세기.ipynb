{
 "cells": [
  {
   "cell_type": "markdown",
   "id": "1a191bc4",
   "metadata": {},
   "source": [
    "https://www.acmicpc.net/problem/4821"
   ]
  },
  {
   "cell_type": "code",
   "execution_count": null,
   "id": "9f862c3d",
   "metadata": {},
   "outputs": [],
   "source": [
    "풀이"
   ]
  },
  {
   "cell_type": "code",
   "execution_count": 8,
   "id": "b29bc052",
   "metadata": {},
   "outputs": [
    {
     "name": "stdout",
     "output_type": "stream",
     "text": [
      "30\n",
      "10-15,25-28,8-4,13-20,9,8-8\n",
      "17\n",
      "19\n",
      "10-15,25-28,8-4,13-20,9,8-8\n",
      "12\n",
      "0\n"
     ]
    }
   ],
   "source": [
    "while True:\n",
    "    total = int(input())\n",
    "    if total ==0:\n",
    "        break\n",
    "    lst = [0]*(1002) # 페이지 공간을 미리 확보해서 0으로 세팅\n",
    "    r = input().split(',')\n",
    "    for i in r:\n",
    "        if '-' not in i and int(i)<=total:\n",
    "            lst[int(i)]=1    # 출력할 페이지를 1로 저장\n",
    "        else:\n",
    "            a, b = map(int, i.split('-'))\n",
    "            if a <= b and a <= total:\n",
    "                b = min(b,total)\n",
    "                for j in range(a,b+1):\n",
    "                    if lst[j]!=1: \n",
    "                        lst[j]=1 # 입력된 연속된 페이지가 1이 아니라면 1로 저장\n",
    "    \n",
    "    print(lst.count(1)) # 1의 개수를 세서 출력\n",
    "\n"
   ]
  },
  {
   "cell_type": "markdown",
   "id": "1ba77ed3",
   "metadata": {},
   "source": []
  },
  {
   "cell_type": "code",
   "execution_count": null,
   "id": "fbaa399a",
   "metadata": {},
   "outputs": [],
   "source": []
  }
 ],
 "metadata": {
  "kernelspec": {
   "display_name": "Python 3 (ipykernel)",
   "language": "python",
   "name": "python3"
  },
  "language_info": {
   "codemirror_mode": {
    "name": "ipython",
    "version": 3
   },
   "file_extension": ".py",
   "mimetype": "text/x-python",
   "name": "python",
   "nbconvert_exporter": "python",
   "pygments_lexer": "ipython3",
   "version": "3.9.12"
  }
 },
 "nbformat": 4,
 "nbformat_minor": 5
}
