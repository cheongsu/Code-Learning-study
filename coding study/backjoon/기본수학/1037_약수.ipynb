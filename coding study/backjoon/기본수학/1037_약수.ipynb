{
 "cells": [
  {
   "cell_type": "code",
   "execution_count": null,
   "id": "a79c5138",
   "metadata": {},
   "outputs": [],
   "source": [
    "입력값 중 max부터 1씩 증가하는데\n",
    "약수로 모두 나머지 0이 될 때 stop 후 출력\n",
    "유일한 약수인지 확인 할 수 있는 방법은??"
   ]
  },
  {
   "cell_type": "code",
   "execution_count": 7,
   "id": "21faf489",
   "metadata": {},
   "outputs": [
    {
     "name": "stdout",
     "output_type": "stream",
     "text": [
      "1\n",
      "7\n",
      "14\n"
     ]
    }
   ],
   "source": [
    "size = int(input())\n",
    "\n",
    "lst = list(map(int,input().split()))\n",
    "target = max(lst)+1\n",
    "while True:\n",
    "    count = 0\n",
    "    for i in range(size):\n",
    "        if target%lst[i]==0:\n",
    "            count +=1\n",
    "    if count == size:\n",
    "        print(target)\n",
    "        break\n",
    "    target +=1"
   ]
  },
  {
   "cell_type": "code",
   "execution_count": null,
   "id": "b0e9ba44",
   "metadata": {},
   "outputs": [],
   "source": [
    "유일한 약수인지 확인 할 수 있는 방법은??\n",
    "\n",
    "반례 1 7 -> 49\n",
    "\n"
   ]
  },
  {
   "cell_type": "code",
   "execution_count": 12,
   "id": "b0323215",
   "metadata": {},
   "outputs": [
    {
     "name": "stdout",
     "output_type": "stream",
     "text": [
      "14\n",
      "14 26456 2 28 13228 3307 7 23149 8 6614 46298 56 4 92596\n",
      "185192\n"
     ]
    }
   ],
   "source": [
    "size = int(input())\n",
    "\n",
    "lst = list(map(int,input().split()))\n",
    "\n",
    "print(max(lst)*min(lst))"
   ]
  },
  {
   "cell_type": "code",
   "execution_count": 17,
   "id": "a849bfe4",
   "metadata": {},
   "outputs": [
    {
     "name": "stdout",
     "output_type": "stream",
     "text": [
      "2 1\n",
      "1\n",
      "2\n"
     ]
    }
   ],
   "source": [
    "A,B = map(int,input().split())\n",
    "\n",
    "\n",
    "for j in range(min(A,B),0,-1):\n",
    "    if A%j==0 and B%j==0:\n",
    "        print(j)\n",
    "        break\n",
    "\n",
    "for i in range(max(A,B),A*B+1):\n",
    "    if i%A==0 and i%B==0:\n",
    "        print(i)\n",
    "        break"
   ]
  },
  {
   "cell_type": "code",
   "execution_count": null,
   "id": "5b465008",
   "metadata": {},
   "outputs": [],
   "source": []
  }
 ],
 "metadata": {
  "kernelspec": {
   "display_name": "Python 3 (ipykernel)",
   "language": "python",
   "name": "python3"
  },
  "language_info": {
   "codemirror_mode": {
    "name": "ipython",
    "version": 3
   },
   "file_extension": ".py",
   "mimetype": "text/x-python",
   "name": "python",
   "nbconvert_exporter": "python",
   "pygments_lexer": "ipython3",
   "version": "3.9.12"
  }
 },
 "nbformat": 4,
 "nbformat_minor": 5
}
