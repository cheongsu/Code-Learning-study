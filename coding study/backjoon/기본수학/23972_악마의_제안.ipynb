{
 "cells": [
  {
   "cell_type": "markdown",
   "id": "a1a9f5c6",
   "metadata": {},
   "source": [
    "23972\n",
    "\n",
    "문제\n",
    "어느 날, 민주는 꿈에서 악마를 만나게 되었다. 악마는 자신에게 K원을 지불하면, 지불하고 남은 금액을 N배로 만들어준다고 한다.\n",
    "\n",
    "민주는 자신이 최소 몇 원을 가지고 있어야 악마에게 K원을 지불했을 때 손해를 보지 않는지 알고 싶다.\n",
    "\n",
    "악마가 제안한 K와 N이 주어졌을 때, 민주가 손해 보지 않기 위해 가지고 있어야 하는 최소 금액 X를 구해주자. 단, 금액은 정수여야 한다.\n",
    "\n",
    "입력\n",
    "첫째 줄에 악마가 제안한 정수 K와 N이 공백을 사이에 두고 주어진다. (1 ≤ K, N ≤ 200,000,000)\n",
    "\n",
    "출력\n",
    "민주가 손해 보지 않기 위해 가지고 있어야 하는 최소 금액 X를 출력한다.\n",
    "\n",
    "항상 민주가 손해를 보게 된다면 -1을 출력한다.\n",
    "\n",
    "예제 입력 1 \n",
    "24 2 / k n\n",
    "예제 출력 1 \n",
    "48 / x\n",
    "예제 입력 2 \n",
    "36 3\n",
    "예제 출력 2 \n",
    "54\n",
    "\n",
    "손해의 개념\n",
    "\n",
    "가진 돈을 x라 할때,\n",
    "\n",
    "(x-24)*2 >= x 이면 손해는 아니다.\n",
    "\n",
    "(x-36)*3 >= x\n",
    "\n",
    "\n",
    "(x*n-k*n-x = 0\n",
    "\n",
    "손해인 경우\n",
    "\n",
    "x(n-1)-kn < 0\n",
    "\n",
    "n(x-k)-x < 0\n",
    "\n",
    "n <= 1 <  x/(x-k)이므로\n",
    "\n",
    "n==1이면 항상 손해이다 -1을 출력한다.\n",
    "\n"
   ]
  },
  {
   "cell_type": "code",
   "execution_count": null,
   "id": "0d0e6678",
   "metadata": {},
   "outputs": [],
   "source": [
    "import math\n",
    "k, n = map(int,input().split())\n",
    "\n",
    "if n==1:\n",
    "    print(-1)\n",
    "\n",
    "else:\n",
    "    x = k*n/(n-1)\n",
    "    print(math.ceil(x))\n",
    "    \n",
    "# 부동소수점 문제가 발생하여 ceil을 사용할 수 없음"
   ]
  },
  {
   "cell_type": "code",
   "execution_count": null,
   "id": "249aaed3",
   "metadata": {},
   "outputs": [],
   "source": []
  }
 ],
 "metadata": {
  "kernelspec": {
   "display_name": "Python 3 (ipykernel)",
   "language": "python",
   "name": "python3"
  },
  "language_info": {
   "codemirror_mode": {
    "name": "ipython",
    "version": 3
   },
   "file_extension": ".py",
   "mimetype": "text/x-python",
   "name": "python",
   "nbconvert_exporter": "python",
   "pygments_lexer": "ipython3",
   "version": "3.9.12"
  }
 },
 "nbformat": 4,
 "nbformat_minor": 5
}
