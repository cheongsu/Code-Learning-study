{
 "cells": [
  {
   "cell_type": "code",
   "execution_count": null,
   "id": "762dbf9b",
   "metadata": {},
   "outputs": [],
   "source": [
    "n = int(input())\n",
    "\n",
    "test = \"\"\n",
    "\n",
    "count = 0\n",
    "\n",
    "while (1):\n",
    "\n",
    "    data = input()\n",
    "\n",
    "    if data == \"\":\n",
    "\n",
    "        A = len(test)\n",
    "\n",
    "        R = A - test.count(\"#\")\n",
    "\n",
    "        x = round(R/A*100, 1)\n",
    "\n",
    "        if x == int(x):\n",
    "\n",
    "            x = int(x)\n",
    "\n",
    "        print(f'Efficiency ratio is {x}%.')\n",
    "\n",
    "        count += 1\n",
    "\n",
    "        if count == n:\n",
    "\n",
    "            break\n",
    "\n",
    "        test = \"\"\n",
    "\n",
    "    else:\n",
    "\n",
    "        test += data"
   ]
  }
 ],
 "metadata": {
  "kernelspec": {
   "display_name": "Python 3 (ipykernel)",
   "language": "python",
   "name": "python3"
  },
  "language_info": {
   "codemirror_mode": {
    "name": "ipython",
    "version": 3
   },
   "file_extension": ".py",
   "mimetype": "text/x-python",
   "name": "python",
   "nbconvert_exporter": "python",
   "pygments_lexer": "ipython3",
   "version": "3.9.12"
  }
 },
 "nbformat": 4,
 "nbformat_minor": 5
}
