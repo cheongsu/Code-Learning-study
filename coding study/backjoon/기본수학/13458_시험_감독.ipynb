{
 "cells": [
  {
   "cell_type": "markdown",
   "id": "f5edd541",
   "metadata": {},
   "source": [
    "https://www.acmicpc.net/problem/13458\n",
    "\n",
    "시험장 N개 - 응시자 A_i명\n",
    "\n",
    "총감독 : B명 감시가능\n",
    "부총감독 : C명 감시가능\n",
    "\n",
    "각 시험장에 총감독은 오직 1명만 가능 + 1명 무조건 배치 해야 함\n",
    "\n",
    "부감독관은 여러 명 가능\n",
    "\n",
    "각 시험장마다 응시생을 모두 감시해야 함\n",
    "이때 필요한 감독관 수의 최소를 구하라\n",
    "\n",
    "각 숫자를 입력받고,\n",
    "총감독을 모든 값에 빼준다음\n",
    "0보다 큰 값이 있으면 부감독의 몫만큼 더해준다.\n",
    "\n",
    "이중 반복문 시간초과 발생"
   ]
  },
  {
   "cell_type": "code",
   "execution_count": 24,
   "id": "459c1d61",
   "metadata": {},
   "outputs": [
    {
     "name": "stdout",
     "output_type": "stream",
     "text": [
      "5\n",
      "10 9 10 9 10\n",
      "7 2\n",
      "13\n"
     ]
    }
   ],
   "source": [
    "N = int(input())\n",
    "s_list = list(map(int,input().split()))\n",
    "B, C = map(int,input().split())\n",
    "\n",
    "\n",
    "for i in range(N):\n",
    "    s_list[i] -= B\n",
    "result = 0    \n",
    "for j in range(N):\n",
    "    if s_list[j]>0:\n",
    "        result += s_list[j]//C  # 몫과 나머지를 활용하여 필요한 감독 수를 센다\n",
    "        if s_list[j]%C!=0:\n",
    "            result +=1\n",
    "    \n",
    "print(result+N)\n",
    "\n",
    "# 정답\n"
   ]
  },
  {
   "cell_type": "code",
   "execution_count": 17,
   "id": "5fba21a4",
   "metadata": {},
   "outputs": [
    {
     "name": "stdout",
     "output_type": "stream",
     "text": [
      "1\n"
     ]
    }
   ],
   "source": [
    "print(4//4)"
   ]
  },
  {
   "cell_type": "code",
   "execution_count": null,
   "id": "e0b157e0",
   "metadata": {},
   "outputs": [],
   "source": []
  }
 ],
 "metadata": {
  "kernelspec": {
   "display_name": "Python 3 (ipykernel)",
   "language": "python",
   "name": "python3"
  },
  "language_info": {
   "codemirror_mode": {
    "name": "ipython",
    "version": 3
   },
   "file_extension": ".py",
   "mimetype": "text/x-python",
   "name": "python",
   "nbconvert_exporter": "python",
   "pygments_lexer": "ipython3",
   "version": "3.9.12"
  }
 },
 "nbformat": 4,
 "nbformat_minor": 5
}
