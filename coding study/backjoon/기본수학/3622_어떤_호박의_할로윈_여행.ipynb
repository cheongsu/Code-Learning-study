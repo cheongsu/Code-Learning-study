{
 "cells": [
  {
   "cell_type": "code",
   "execution_count": null,
   "id": "0795c0ab",
   "metadata": {},
   "outputs": [],
   "source": [
    "https://www.acmicpc.net/problem/3622"
   ]
  },
  {
   "cell_type": "code",
   "execution_count": null,
   "id": "d13a8a42",
   "metadata": {},
   "outputs": [],
   "source": []
  },
  {
   "cell_type": "code",
   "execution_count": null,
   "id": "79a9d397",
   "metadata": {},
   "outputs": [],
   "source": [
    "풀이 1)\n",
    "\n",
    "<반례>\n",
    "p가 A,B보다 작은 경우 -> 고리안에 고리가 있더라도 큰고리보다 P가 작으면 불가능\n",
    "\n",
    "\n",
    "\n",
    "동일한 판의 두 개 고리로 전송장치를 만듦\n",
    "고리크기는 호박마다 다름\n",
    "\n",
    "자신의 사이즈에 맞는 고리 2개를 자를 수 있는가?\n",
    "\n",
    "2가지 case가 존재함\n",
    "\n",
    "1. 고리안에 고리가 있는 경우\n",
    "\n",
    "둘 중 사이즈가 큰 고리가 있다면\n",
    "\n",
    "B b A a 에서 b > A를 만족하거나 a > B를 만족하면됨\n",
    "\n",
    "2. 고리 옆에 고리가 있는 경우\n",
    "\n",
    "A + B < P를 만족하면 됨\n",
    "\n",
    "기본적인 가정\n",
    "\n",
    "P가 A나 B보다는 같거나 커야 함\n",
    "\n",
    "A와 B는 1이 될 수 없음"
   ]
  },
  {
   "cell_type": "markdown",
   "id": "159cabbd",
   "metadata": {},
   "source": [
    "```python\n",
    "풀이 1)\n",
    "\n",
    "<반례>\n",
    "p가 A,B보다 작은 경우 -> 고리안에 고리가 있더라도 큰고리보다 P가 작으면 불가능\n",
    "\n",
    "동일한 판의 두 개 고리로 전송장치를 만듦\n",
    "고리크기는 호박마다 다름\n",
    "\n",
    "자신의 사이즈에 맞는 고리 2개를 자를 수 있는가?\n",
    "\n",
    "2가지 case가 존재함\n",
    "\n",
    "1. 고리안에 고리가 있는 경우\n",
    "\n",
    "둘 중 사이즈가 큰 고리가 있다면\n",
    "\n",
    "B b A a 에서 b > A를 만족하거나 a > B를 만족하면됨\n",
    "\n",
    "2. 고리 옆에 고리가 있는 경우\n",
    "\n",
    "A + B < P를 만족하면 됨\n",
    "\n",
    "기본적인 가정\n",
    "\n",
    "P가 A나 B보다는 같거나 커야 함\n",
    "\n",
    "A와 B는 1이 될 수 없음\n",
    "```"
   ]
  },
  {
   "cell_type": "code",
   "execution_count": null,
   "id": "d4167400",
   "metadata": {},
   "outputs": [],
   "source": [
    "#모범답안\n",
    "\n",
    "A, a, B, b, P = map(int, input().split())\n",
    "\n",
    "if A <= P and B <= P:\n",
    "    if A + B <= P:\n",
    "        print('Yes')\n",
    "    else:\n",
    "        if A < B:\n",
    "            if A <= b:\n",
    "                print('Yes')\n",
    "            else: print('No')\n",
    "        elif A == B:\n",
    "            print('No')\n",
    "        else:\n",
    "            if B <= a:\n",
    "                print('Yes')\n",
    "            else: print('No')\n",
    "else:\n",
    "    print('No')"
   ]
  },
  {
   "cell_type": "code",
   "execution_count": null,
   "id": "632aa971",
   "metadata": {},
   "outputs": [],
   "source": []
  },
  {
   "cell_type": "code",
   "execution_count": null,
   "id": "f8a31570",
   "metadata": {},
   "outputs": [],
   "source": []
  }
 ],
 "metadata": {
  "kernelspec": {
   "display_name": "Python 3 (ipykernel)",
   "language": "python",
   "name": "python3"
  },
  "language_info": {
   "codemirror_mode": {
    "name": "ipython",
    "version": 3
   },
   "file_extension": ".py",
   "mimetype": "text/x-python",
   "name": "python",
   "nbconvert_exporter": "python",
   "pygments_lexer": "ipython3",
   "version": "3.9.12"
  }
 },
 "nbformat": 4,
 "nbformat_minor": 5
}
