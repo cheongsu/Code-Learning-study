{
 "cells": [
  {
   "cell_type": "markdown",
   "id": "27f5f2ef",
   "metadata": {},
   "source": [
    "https://www.acmicpc.net/problem/22950\n",
    "    \n",
    "예제 입력 1 \n",
    "8\n",
    "10000000\n",
    "6\n",
    "예제 출력 1 \n",
    "YES\n",
    "예제 입력 2 \n",
    "5\n",
    "00110\n",
    "2\n",
    "예제 출력 2 \n",
    "NO"
   ]
  },
  {
   "cell_type": "markdown",
   "id": "04bdcea2",
   "metadata": {},
   "source": [
    "풀이\n",
    "import math\n",
    "sum = 0 \n",
    "N을 입력받은 후 \n",
    "num = input() 문자열 형태로 받는다\n",
    "for i in range(N):\n",
    "    k = num[(-i-1)]\n",
    "    sum += math.pow(2,i)*k\n",
    "\n",
    "target = math.pow(2,int(input()))\n",
    "\n",
    "if sum%target == 0:\n",
    "    print()\n",
    "else:\n"
   ]
  },
  {
   "cell_type": "code",
   "execution_count": null,
   "id": "a4cb9b9d",
   "metadata": {},
   "outputs": [],
   "source": []
  },
  {
   "cell_type": "code",
   "execution_count": 14,
   "id": "41dc5d02",
   "metadata": {},
   "outputs": [
    {
     "name": "stdout",
     "output_type": "stream",
     "text": [
      "8\n",
      "10000000\n",
      "0.0\n",
      "0.0\n",
      "0.0\n",
      "0.0\n",
      "0.0\n",
      "0.0\n",
      "0.0\n",
      "128.0\n",
      "6\n",
      "64.0\n",
      "YES\n"
     ]
    }
   ],
   "source": [
    "import math\n",
    "\n",
    "sum = 0\n",
    "N = int(input())\n",
    "num = input()\n",
    "for i in range(N):\n",
    "    k = int(num[-i-1])\n",
    "    sum += math.pow(2,i)*k\n",
    "\n",
    "\n",
    "target = math.pow(2,int(input()))\n",
    "\n",
    "if sum < target or target == 0:\n",
    "    print(\"NO\")\n",
    "\n",
    "if int(sum)%int(target) == 0:\n",
    "    print(\"YES\")\n",
    "else:\n",
    "    print(\"NO\")\n",
    "    \n",
    "    # 런타임에러"
   ]
  },
  {
   "cell_type": "code",
   "execution_count": null,
   "id": "08598f8f",
   "metadata": {},
   "outputs": [],
   "source": []
  },
  {
   "cell_type": "code",
   "execution_count": 3,
   "id": "1f6b1914",
   "metadata": {},
   "outputs": [
    {
     "name": "stdout",
     "output_type": "stream",
     "text": [
      "8\n",
      "10000000\n",
      "6\n",
      "10000000\n",
      "YES\n"
     ]
    }
   ],
   "source": [
    "n = int(input())\n",
    "m = str(input())\n",
    "k = int(input())\n",
    "if m.lstrip(\"0\") == \"\":\n",
    "    print(\"YES\")\n",
    "else:\n",
    "    m_ = int(m.lstrip(\"0\"), 2)\n",
    "    if m_ % (2**k) == 0:\n",
    "        print(\"YES\")\n",
    "    else:\n",
    "        print(\"NO\")\n",
    "        \n",
    "# 정답코드"
   ]
  },
  {
   "cell_type": "code",
   "execution_count": null,
   "id": "a036be7b",
   "metadata": {},
   "outputs": [],
   "source": []
  },
  {
   "cell_type": "markdown",
   "id": "5b304e9a",
   "metadata": {},
   "source": [
    "<런타임에러 발생 원인>\n",
    "\n",
    "배열에 할당된 크기를 넘어서 접근했을 때\n",
    "전역 배열의 크기가 메모리 제한을 초과할 때\n",
    "지역 배열의 크기가 스택 크기 제한을 넘어갈 때\n",
    "0으로 나눌 떄\n",
    "라이브러리에서 예외를 발생시켰을 때\n",
    "재귀 호출이 너무 깊어질 때\n",
    "이미 해제된 메모리를 또 참조할 때"
   ]
  }
 ],
 "metadata": {
  "kernelspec": {
   "display_name": "Python 3 (ipykernel)",
   "language": "python",
   "name": "python3"
  },
  "language_info": {
   "codemirror_mode": {
    "name": "ipython",
    "version": 3
   },
   "file_extension": ".py",
   "mimetype": "text/x-python",
   "name": "python",
   "nbconvert_exporter": "python",
   "pygments_lexer": "ipython3",
   "version": "3.9.12"
  }
 },
 "nbformat": 4,
 "nbformat_minor": 5
}
