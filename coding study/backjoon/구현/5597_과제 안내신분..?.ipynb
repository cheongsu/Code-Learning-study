{
 "cells": [
  {
   "cell_type": "code",
   "execution_count": null,
   "id": "4cc74e6c",
   "metadata": {},
   "outputs": [],
   "source": [
    "lst = [i for i in range(1,31)]\n",
    "\n",
    "for j in range(28):\n",
    "    a = int(input())\n",
    "    lst.remove(a)\n",
    "    \n",
    "print(min(lst))\n",
    "print(max(lst))"
   ]
  }
 ],
 "metadata": {
  "kernelspec": {
   "display_name": "Python 3 (ipykernel)",
   "language": "python",
   "name": "python3"
  },
  "language_info": {
   "codemirror_mode": {
    "name": "ipython",
    "version": 3
   },
   "file_extension": ".py",
   "mimetype": "text/x-python",
   "name": "python",
   "nbconvert_exporter": "python",
   "pygments_lexer": "ipython3",
   "version": "3.9.12"
  }
 },
 "nbformat": 4,
 "nbformat_minor": 5
}
