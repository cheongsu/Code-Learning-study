{
 "cells": [
  {
   "cell_type": "code",
   "execution_count": null,
   "id": "a114c500",
   "metadata": {},
   "outputs": [],
   "source": [
    "A ,B = map(int,input().split())\n",
    "\n",
    "print(B-A,B)"
   ]
  },
  {
   "cell_type": "markdown",
   "id": "53f776f6",
   "metadata": {},
   "source": [
    "https://www.acmicpc.net/status?problem_id=16430&user_id=limsoo1215&language_id=73&result_id=-1&from_mine=1"
   ]
  }
 ],
 "metadata": {
  "kernelspec": {
   "display_name": "Python 3 (ipykernel)",
   "language": "python",
   "name": "python3"
  },
  "language_info": {
   "codemirror_mode": {
    "name": "ipython",
    "version": 3
   },
   "file_extension": ".py",
   "mimetype": "text/x-python",
   "name": "python",
   "nbconvert_exporter": "python",
   "pygments_lexer": "ipython3",
   "version": "3.9.12"
  }
 },
 "nbformat": 4,
 "nbformat_minor": 5
}
