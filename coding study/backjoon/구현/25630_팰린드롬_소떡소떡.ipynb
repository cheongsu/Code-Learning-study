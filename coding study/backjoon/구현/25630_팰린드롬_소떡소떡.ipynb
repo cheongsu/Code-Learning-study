{
 "cells": [
  {
   "cell_type": "code",
   "execution_count": null,
   "id": "e35734e1",
   "metadata": {},
   "outputs": [],
   "source": [
    "\n",
    "N = int(input())//2\n",
    "string = input()\n",
    "count = 0\n",
    "for i in range(N):\n",
    "    if string[i]!=string[-i-1]:\n",
    "        count+=1\n",
    "        \n",
    "print(count)\n"
   ]
  },
  {
   "cell_type": "code",
   "execution_count": null,
   "id": "47f2c9da",
   "metadata": {},
   "outputs": [],
   "source": [
    "https://www.acmicpc.net/submit/25630/51741919"
   ]
  }
 ],
 "metadata": {
  "kernelspec": {
   "display_name": "Python 3 (ipykernel)",
   "language": "python",
   "name": "python3"
  },
  "language_info": {
   "codemirror_mode": {
    "name": "ipython",
    "version": 3
   },
   "file_extension": ".py",
   "mimetype": "text/x-python",
   "name": "python",
   "nbconvert_exporter": "python",
   "pygments_lexer": "ipython3",
   "version": "3.9.12"
  }
 },
 "nbformat": 4,
 "nbformat_minor": 5
}
