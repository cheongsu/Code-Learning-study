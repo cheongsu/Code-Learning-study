{
 "cells": [
  {
   "cell_type": "code",
   "execution_count": null,
   "id": "3b2fd807",
   "metadata": {},
   "outputs": [],
   "source": [
    "https://www.acmicpc.net/problem/5598"
   ]
  },
  {
   "cell_type": "code",
   "execution_count": null,
   "id": "66796947",
   "metadata": {},
   "outputs": [],
   "source": []
  },
  {
   "cell_type": "code",
   "execution_count": null,
   "id": "1be2efa4",
   "metadata": {},
   "outputs": [],
   "source": [
    "A = input()\n",
    "result=\"\"\n",
    "\n",
    "for i in range(len(A)):\n",
    "    if A[i]=='A':\n",
    "        result = result+\"X\"\n",
    "    elif A[i]=='B':\n",
    "        result = result+\"Y\"\n",
    "    elif A[i]=='C':\n",
    "        result = result+\"Z\"\n",
    "    else:\n",
    "        result = result + chr(ord(A[i])-3)\n",
    "    \n",
    "print(result)"
   ]
  }
 ],
 "metadata": {
  "kernelspec": {
   "display_name": "Python 3 (ipykernel)",
   "language": "python",
   "name": "python3"
  },
  "language_info": {
   "codemirror_mode": {
    "name": "ipython",
    "version": 3
   },
   "file_extension": ".py",
   "mimetype": "text/x-python",
   "name": "python",
   "nbconvert_exporter": "python",
   "pygments_lexer": "ipython3",
   "version": "3.9.12"
  }
 },
 "nbformat": 4,
 "nbformat_minor": 5
}
