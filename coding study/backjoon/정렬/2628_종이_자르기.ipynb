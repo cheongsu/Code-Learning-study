{
 "cells": [
  {
   "cell_type": "code",
   "execution_count": null,
   "id": "c1f689ce",
   "metadata": {},
   "outputs": [],
   "source": [
    "https://www.acmicpc.net/problem/2628"
   ]
  },
  {
   "cell_type": "code",
   "execution_count": null,
   "id": "3a4e90db",
   "metadata": {},
   "outputs": [],
   "source": []
  },
  {
   "cell_type": "code",
   "execution_count": null,
   "id": "9e44cd49",
   "metadata": {},
   "outputs": [],
   "source": [
    "r, c = map(int, input().split())\n",
    "#자르는 위치 저장\n",
    "row = [0, r]    # [0, 10]\n",
    "column = [0, c] #  [0, 8] \n",
    "\n",
    "for _ in range(int(input())):   # 자르는 횟수\n",
    "    r_or_c, linenumber = map(int, input().split())  \n",
    "    if r_or_c == 1:             # 세로가 1 가로가 0-> 세로는 r에 가로는 c \n",
    "        row.append(linenumber)\n",
    "    else :\n",
    "        column.append(linenumber)\n",
    "\n",
    "row.sort()     # [0, 4, 10]\n",
    "column.sort()  # [0, 2, 3, 8]\n",
    "               # 빼서 최대 길이 구하기\n",
    "\n",
    "subtracted_r = []  #[4, 6]\n",
    "subtracted_c = []  #[2, 1, 5]\n",
    "\n",
    "for i in range(len(row)-1):    # 0 1\n",
    "    subtracted_r.append(row[i + 1] - row[i])   # row[1]-row[0]   row[2]-row[1]\n",
    "for i in range(len(column) -1): # 0 1 2 \n",
    "    subtracted_c.append(column[i+1]- column[i]) #col[1]-col[0]  col[2]-col[1]  col[3]-col[2]\n",
    "\n",
    "print(max(subtracted_r) * max(subtracted_c))"
   ]
  }
 ],
 "metadata": {
  "kernelspec": {
   "display_name": "Python 3 (ipykernel)",
   "language": "python",
   "name": "python3"
  },
  "language_info": {
   "codemirror_mode": {
    "name": "ipython",
    "version": 3
   },
   "file_extension": ".py",
   "mimetype": "text/x-python",
   "name": "python",
   "nbconvert_exporter": "python",
   "pygments_lexer": "ipython3",
   "version": "3.9.12"
  }
 },
 "nbformat": 4,
 "nbformat_minor": 5
}
