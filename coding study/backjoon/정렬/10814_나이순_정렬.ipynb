{
 "cells": [
  {
   "cell_type": "markdown",
   "id": "c8e98914",
   "metadata": {},
   "source": [
    "문제\n",
    "온라인 저지에 가입한 사람들의 나이와 이름이 가입한 순서대로 주어진다. 이때, 회원들을 나이가 증가하는 순으로, 나이가 같으면 먼저 가입한 사람이 앞에 오는 순서로 정렬하는 프로그램을 작성하시오.\n",
    "\n",
    "입력\n",
    "첫째 줄에 온라인 저지 회원의 수 N이 주어진다. (1 ≤ N ≤ 100,000)\n",
    "\n",
    "둘째 줄부터 N개의 줄에는 각 회원의 나이와 이름이 공백으로 구분되어 주어진다. 나이는 1보다 크거나 같으며, 200보다 작거나 같은 정수이고, 이름은 알파벳 대소문자로 이루어져 있고, 길이가 100보다 작거나 같은 문자열이다. 입력은 가입한 순서로 주어진다.\n",
    "\n",
    "출력\n",
    "첫째 줄부터 총 N개의 줄에 걸쳐 온라인 저지 회원을 나이 순, 나이가 같으면 가입한 순으로 한 줄에 한 명씩 나이와 이름을 공백으로 구분해 출력한다\n",
    "\n",
    "\n",
    "예제 입력 1 \n",
    "3\n",
    "21 Junkyu\n",
    "21 Dohyun\n",
    "20 Sunyoung\n",
    "\n",
    "예제 출력 1 \n",
    "20 Sunyoung\n",
    "21 Junkyu\n",
    "21 Dohyun\n",
    "\n",
    "출처\n",
    "문제를 만든 사람: baekjoon"
   ]
  },
  {
   "cell_type": "markdown",
   "id": "c7aaa23e",
   "metadata": {},
   "source": [
    "풀이 1)\n",
    "\n",
    "\n",
    "입력값을 딕셔너리로 받은 다음, 나이순으로 정렬한다.\n",
    "\n",
    "이후 정렬된 값을 출력한다.\n",
    "\n",
    "나이가 동일하다면 입력 순서로 출력되기 때문에 안정정렬(stable sort)이다.\n",
    "\n",
    "안정정렬에는 삽입정렬, 병합정렬, 버블정렬이 있다.\n",
    "\n",
    "불안정정렬(unstable sort)에는 퀵정렬, 선택정렬, 계수정렬이 있다.\n",
    "\n",
    "다음은 안정정렬 중 버블정렬을 활용한 풀이이다.\n",
    "\n",
    "시간초과 발생"
   ]
  },
  {
   "cell_type": "code",
   "execution_count": 15,
   "id": "6de26d23",
   "metadata": {},
   "outputs": [
    {
     "name": "stdout",
     "output_type": "stream",
     "text": [
      "3\n",
      "21 Junkyu\n",
      "21 Dohyun\n",
      "20 Sunyoung\n",
      "20 Sunyoung\n",
      "21 Junkyu\n",
      "21 Dohyun\n"
     ]
    }
   ],
   "source": [
    "import sys\n",
    "num = int(input())\n",
    "\n",
    "array = [[0 for col in range(2)] for row in range(num)]\n",
    "for i in range(num):\n",
    "    year , name = input().split()\n",
    "    array[i][0] = int(year)\n",
    "    array[i][1] = name\n",
    "\n",
    "\n",
    "for i in range(num-1):\n",
    "    for j in range(0,num-1):\n",
    "        if array[j][0] > array[j+1][0]:\n",
    "            temp = array[j]\n",
    "            array[j] = array[j+1]\n",
    "            array[j+1] = temp\n",
    "\n",
    "            \n",
    "for i in range(num):\n",
    "    print(array[i][0],array[i][1])"
   ]
  },
  {
   "cell_type": "markdown",
   "id": "9c56d08b",
   "metadata": {},
   "source": [
    "풀이 2)\n",
    "\n",
    "시간초과로 빅오 N^1만 사용하여 진행\n",
    "\n"
   ]
  },
  {
   "cell_type": "code",
   "execution_count": 17,
   "id": "93277d57",
   "metadata": {},
   "outputs": [
    {
     "name": "stdout",
     "output_type": "stream",
     "text": [
      "3\n",
      "21 Junkyu\n",
      "21 Dohyun\n",
      "20 Sunyoung\n",
      "[(21, 'Junkyu'), (21, 'Dohyun'), (20, 'Sunyoung')]\n",
      "20 Sunyoung\n",
      "21 Junkyu\n",
      "21 Dohyun\n"
     ]
    }
   ],
   "source": [
    "num = int(input())\n",
    "\n",
    "array = []\n",
    "\n",
    "for i in range(num):\n",
    "    year , name = input().split()\n",
    "    year = int(year)\n",
    "    array.append((year,name))\n",
    "    \n",
    "array.sort(key = lambda x : x[0])\n",
    "\n",
    "\n",
    "for i in array:\n",
    "    print(i[0], i[1])"
   ]
  },
  {
   "cell_type": "code",
   "execution_count": null,
   "id": "d71fed42",
   "metadata": {},
   "outputs": [],
   "source": [
    "21 Junkyu\n",
    "21 Dohyun\n",
    "20 Sunyoung"
   ]
  }
 ],
 "metadata": {
  "kernelspec": {
   "display_name": "Python 3 (ipykernel)",
   "language": "python",
   "name": "python3"
  },
  "language_info": {
   "codemirror_mode": {
    "name": "ipython",
    "version": 3
   },
   "file_extension": ".py",
   "mimetype": "text/x-python",
   "name": "python",
   "nbconvert_exporter": "python",
   "pygments_lexer": "ipython3",
   "version": "3.9.12"
  }
 },
 "nbformat": 4,
 "nbformat_minor": 5
}
