{
 "cells": [
  {
   "cell_type": "markdown",
   "id": "675aede8",
   "metadata": {},
   "source": [
    "<문제>\n",
    "\n",
    "땅 위에 달팽이가 있다. 이 달팽이는 높이가 V미터인 나무 막대를 올라갈 것이다.\n",
    "\n",
    "달팽이는 낮에 A미터 올라갈 수 있다. 하지만, 밤에 잠을 자는 동안 B미터 미끄러진다. 또, 정상에 올라간 후에는 미끄러지지 않는다.\n",
    "\n",
    "달팽이가 나무 막대를 모두 올라가려면, 며칠이 걸리는지 구하는 프로그램을 작성하시오.\n",
    "\n",
    "<입력>\n",
    "첫째 줄에 세 정수 A, B, V가 공백으로 구분되어서 주어진다. (1 ≤ B < A ≤ V ≤ 1,000,000,000)\n",
    "\n",
    "<출력>\n",
    "첫째 줄에 달팽이가 나무 막대를 모두 올라가는데 며칠이 걸리는지 출력한다.\n",
    "\n",
    "\n",
    "예제 입력 1 \n",
    "2 1 5\n",
    "예제 출력 1 \n",
    "4\n",
    "예제 입력 2 \n",
    "5 1 6\n",
    "예제 출력 2 \n",
    "2\n",
    "예제 입력 3 \n",
    "100 99 1000000000\n",
    "예제 출력 3 \n",
    "999999901\n",
    "\n",
    "<출처>\n",
    "Contest > Croatian Open Competition in Informatics > COCI 2010/2011 > Contest #2 1번\n",
    "\n",
    "문제를 번역한 사람: baekjoon\n",
    "데이터를 추가한 사람: CHULMING, jm0707, tong39\n",
    "문제의 오타를 찾은 사람: hellogaon\n",
    "빠진 조건을 찾은 사람: jh05013\n"
   ]
  },
  {
   "cell_type": "markdown",
   "id": "52398c46",
   "metadata": {},
   "source": [
    "풀이 1)\n",
    "\n",
    "문제에서 일(count), 높이(pre)로 두고 날짜를 하루씩 증가시키면서 계산\n",
    "\n",
    "모든 날짜를 하루씩 더하면서 세기 때문에 N번의 연산이 필요함\n",
    "\n",
    "결과)\n",
    "시간 초과 발생"
   ]
  },
  {
   "cell_type": "code",
   "execution_count": 21,
   "id": "c6c5363b",
   "metadata": {},
   "outputs": [
    {
     "name": "stdout",
     "output_type": "stream",
     "text": [
      "a,b,v >>> 5 4 6\n",
      "2\n"
     ]
    }
   ],
   "source": [
    "\n",
    "a,b,v = map(int,input(\"a,b,v >>> \").split())\n",
    "count = 0 \n",
    "pre = 0\n",
    "while True:\n",
    "    count += 1\n",
    "    pre += a\n",
    "    if pre >= v :\n",
    "        print(count)\n",
    "        break\n",
    "    else:\n",
    "        pre -= b"
   ]
  },
  {
   "cell_type": "markdown",
   "id": "772bb4fd",
   "metadata": {},
   "source": [
    "풀이 2)\n",
    "\n",
    "밤낮 높이 편차(a-b)를 총 높이 v에 나눈 몫을 계산\n",
    "\n",
    "결과)\n",
    "\n",
    "아침에 올라가서 목적지에 도달하는 경우를 놓침\n",
    "\n",
    "ex) 5 / 4 / 6의 경우, 둘쨋날에 정상에 도달하지만\n",
    "풀이에 따르면 둘쨋날에 도달하지 못하고 5번째 날에 도달하게 됨\n"
   ]
  },
  {
   "cell_type": "code",
   "execution_count": 22,
   "id": "100e7404",
   "metadata": {},
   "outputs": [
    {
     "name": "stdout",
     "output_type": "stream",
     "text": [
      "a,b,v >>> 5 4 6\n",
      "5\n"
     ]
    }
   ],
   "source": [
    "a,b,v = map(int,input(\"a,b,v >>> \").split())\n",
    "\n",
    "result = v // (a-b)\n",
    "\n",
    "if (v % (a-b)) == 0:\n",
    "    print(result-1)\n",
    "else:\n",
    "    print(result + 1)"
   ]
  },
  {
   "cell_type": "markdown",
   "id": "e48d025a",
   "metadata": {},
   "source": [
    "풀이 3)\n",
    "\n",
    "count를 한번에 계산하기 위해서\n",
    "\n",
    "pre = count*a-(count-1)*b >= v\n",
    "\n",
    "count(a-b)+b >= v\n",
    "\n",
    "count >= (v-b)/(a-b)\n",
    "\n",
    "count가 최소일 경우만 구하므로,\n",
    "\n",
    "count는 (v-b)/(a-b)가 정수면 result = count\n",
    "(v-b)/(a-b)가 분수면 resultt = (v-b)//(a-b) + 1\n",
    "\n",
    "따라서 \n",
    "\n",
    "k = (v-b)/(a-b)\n",
    "if k==int(k):\n",
    "    print(k)\n",
    "else:\n",
    "    print(int(k)+1)\n",
    "    \n",
    "이 된다.\n",
    "\n",
    "\n",
    "**----**\n",
    "\n",
    "또한 input()을 sys.stdin.readline()으로 변경해서 사용한다면 시간을 줄일 수 있다. "
   ]
  },
  {
   "cell_type": "code",
   "execution_count": 20,
   "id": "1bb7656a",
   "metadata": {},
   "outputs": [
    {
     "name": "stdout",
     "output_type": "stream",
     "text": [
      "a,b,v >>> 100 99 1000000000\n",
      "999999901\n"
     ]
    }
   ],
   "source": [
    "a,b,v = map(int,input().split())\n",
    "\n",
    "k = (v-b)/(a-b)\n",
    "\n",
    "print(int(k) if k == int(k) else int(k)+1)\n"
   ]
  },
  {
   "cell_type": "code",
   "execution_count": null,
   "id": "8b0c3422",
   "metadata": {},
   "outputs": [],
   "source": []
  }
 ],
 "metadata": {
  "kernelspec": {
   "display_name": "Python 3 (ipykernel)",
   "language": "python",
   "name": "python3"
  },
  "language_info": {
   "codemirror_mode": {
    "name": "ipython",
    "version": 3
   },
   "file_extension": ".py",
   "mimetype": "text/x-python",
   "name": "python",
   "nbconvert_exporter": "python",
   "pygments_lexer": "ipython3",
   "version": "3.9.12"
  }
 },
 "nbformat": 4,
 "nbformat_minor": 5
}
