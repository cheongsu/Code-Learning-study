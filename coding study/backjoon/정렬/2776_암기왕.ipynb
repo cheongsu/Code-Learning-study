{
 "cells": [
  {
   "cell_type": "code",
   "execution_count": null,
   "id": "79316956",
   "metadata": {},
   "outputs": [],
   "source": [
    "https://www.acmicpc.net/problem/2776"
   ]
  },
  {
   "cell_type": "code",
   "execution_count": null,
   "id": "b7f94499",
   "metadata": {},
   "outputs": [],
   "source": []
  },
  {
   "cell_type": "code",
   "execution_count": null,
   "id": "bbf2cd85",
   "metadata": {},
   "outputs": [],
   "source": [
    "import sys\n",
    "T = int(input())\n",
    "for _ in range(T):\n",
    "    N = int(input())\n",
    "    num1 = set(sys.stdin.readline().split())\n",
    "    M = int(input())\n",
    "    num2 = list(sys.stdin.readline().split())\n",
    "    for i in num2:\n",
    "        if i in num1:\n",
    "            print(1)\n",
    "        else:\n",
    "            print(0)"
   ]
  }
 ],
 "metadata": {
  "kernelspec": {
   "display_name": "Python 3 (ipykernel)",
   "language": "python",
   "name": "python3"
  },
  "language_info": {
   "codemirror_mode": {
    "name": "ipython",
    "version": 3
   },
   "file_extension": ".py",
   "mimetype": "text/x-python",
   "name": "python",
   "nbconvert_exporter": "python",
   "pygments_lexer": "ipython3",
   "version": "3.9.12"
  }
 },
 "nbformat": 4,
 "nbformat_minor": 5
}
