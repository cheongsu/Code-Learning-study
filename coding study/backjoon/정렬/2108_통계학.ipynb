{
 "cells": [
  {
   "cell_type": "markdown",
   "id": "7dbe5cf1",
   "metadata": {},
   "source": [
    "문제\n",
    "수를 처리하는 것은 통계학에서 상당히 중요한 일이다. 통계학에서 N개의 수를 대표하는 기본 통계값에는 다음과 같은 것들이 있다. 단, N은 홀수라고 가정하자.\n",
    "\n",
    "산술평균 : N개의 수들의 합을 N으로 나눈 값\n",
    "중앙값 : N개의 수들을 증가하는 순서로 나열했을 경우 그 중앙에 위치하는 값\n",
    "최빈값 : N개의 수들 중 가장 많이 나타나는 값\n",
    "범위 : N개의 수들 중 최댓값과 최솟값의 차이\n",
    "N개의 수가 주어졌을 때, 네 가지 기본 통계값을 구하는 프로그램을 작성하시오.\n",
    "\n",
    "입력\n",
    "첫째 줄에 수의 개수 N(1 ≤ N ≤ 500,000)이 주어진다. 단, N은 홀수이다. 그 다음 N개의 줄에는 정수들이 주어진다. 입력되는 정수의 절댓값은 4,000을 넘지 않는다.\n",
    "\n",
    "출력\n",
    "\n",
    "첫째 줄에는 산술평균을 출력한다. 소수점 이하 첫째 자리에서 반올림한 값을 출력한다.\n",
    "\n",
    "둘째 줄에는 중앙값을 출력한다.\n",
    "\n",
    "셋째 줄에는 최빈값을 출력한다. 여러 개 있을 때에는 최빈값 중 두 번째로 작은 값을 출력한다.\n",
    "\n",
    "넷째 줄에는 범위를 출력한다.\n",
    "\n",
    "예제 입력 1 \n",
    "\n",
    "5\n",
    "1\n",
    "3\n",
    "8\n",
    "-2\n",
    "2\n",
    "예제 출력 1 \n",
    "2\n",
    "2\n",
    "1\n",
    "10\n",
    "\n",
    "예제 입력 2 \n",
    "1\n",
    "4000\n",
    "예제 출력 2 \n",
    "4000\n",
    "4000\n",
    "4000\n",
    "0\n",
    "\n",
    "예제 입력 3 \n",
    "5\n",
    "-1\n",
    "-2\n",
    "-3\n",
    "-1\n",
    "-2\n",
    "예제 출력 3 \n",
    "-2\n",
    "-2\n",
    "-1\n",
    "2\n",
    "\n",
    "예제 입력 4 \n",
    "3\n",
    "0\n",
    "0\n",
    "-1\n",
    "예제 출력 4 \n",
    "0\n",
    "0\n",
    "0\n",
    "1\n",
    "\n",
    "(0 + 0 + (-1)) / 3 = -0.333333... 이고 이를 첫째 자리에서 반올림하면 0이다. -0으로 출력하면 안된다.\n",
    "\n",
    "출처\n",
    "데이터를 추가한 사람: bjh3502, bsyun0571, djm03178, jungyh1509, palilo, YunGoon\n",
    "문제의 오타를 찾은 사람: jh05013, skynet"
   ]
  },
  {
   "cell_type": "markdown",
   "id": "be9485f5",
   "metadata": {},
   "source": [
    "풀이 1)\n",
    "\n",
    "n개의 숫자 입력 후 리스트 형태로 저장\n",
    "\n",
    "1. 산술평균 : sum/len(n)\n",
    "\n",
    "2. 중앙값 : 리스트 정렬 후 홀수개면 list[(len(n)+1)/2] 출력\n",
    "짝수개면 list[len(n)/2 + len(n)/2+! /2) 출력\n",
    "\n",
    "3. 최빈값 : 딕셔너리 사용, max값에 대해 딕셔너리 다시 만든 후 key만 리스트롤 정렬 \n",
    "리스트 크기가 1아 아니면 뒤에서 두 번째 값 출력\n",
    "\n",
    "4. 범위 : 최댓값과 최솟값의 차이는 리스트 정렬 후 끝값-첫값 출력"
   ]
  },
  {
   "cell_type": "code",
   "execution_count": 37,
   "id": "1b2b73e4",
   "metadata": {
    "scrolled": true
   },
   "outputs": [
    {
     "name": "stdout",
     "output_type": "stream",
     "text": [
      "5\n",
      "1\n",
      "3\n",
      "8\n",
      "-2\n",
      "2\n",
      "2\n",
      "2\n",
      "[(-2, 1), (1, 1), (2, 1), (3, 1), (8, 1)]\n",
      "1\n",
      "10\n"
     ]
    }
   ],
   "source": [
    "from collections import Counter\n",
    "\n",
    "num = int(input())\n",
    "\n",
    "my_list=[]\n",
    "for i in range(num):\n",
    "    my_list.append(int(input()))\n",
    "\n",
    "#산술평균\n",
    "\n",
    "a = round(sum(my_list)/num)\n",
    "print(a)\n",
    "\n",
    "# 중앙값\n",
    "my_list = sorted(my_list)\n",
    "if num % 2 == 0:\n",
    "    print((my_list[num//2-1]+my_list[num//2])/2)\n",
    "else:\n",
    "    print(my_list[num//2])\n",
    "    \n",
    "#최빈값\n",
    "\n",
    "c_list = Counter(my_list).most_common()\n",
    "if len(c_list) > 1:\n",
    "    if c_list[0][1] == c_list[1][1]:\n",
    "        print(c_list[1][0])\n",
    "    else:\n",
    "        print(c_list[0][0])\n",
    "else:\n",
    "    print(c_list[0][0])\n",
    "\n",
    "    \n",
    "# 범위\n",
    "\n",
    "print(my_list[-1]-my_list[0])\n"
   ]
  },
  {
   "cell_type": "markdown",
   "id": "ed51cc6b",
   "metadata": {},
   "source": [
    "코드 간결화"
   ]
  },
  {
   "cell_type": "code",
   "execution_count": 9,
   "id": "6c64b281",
   "metadata": {},
   "outputs": [
    {
     "name": "stdout",
     "output_type": "stream",
     "text": [
      "0\n"
     ]
    }
   ],
   "source": [
    "n = int(input())\n",
    "\n",
    "my_list = []\n",
    "for _ in range(n) :\n",
    "\tmy_list.append(int(input()))\n",
    "\n",
    "# 산술평균\n",
    "print(round(sum(my_list)/n))\n",
    "\n",
    "# 중앙값\n",
    "my_list.sort()\n",
    "print(my_list[int((n-1)/2)])\n",
    "\n",
    "# 최빈값\n",
    "c_list = Counter(my_list).most_common()\n",
    "print(c_list)\n",
    "if len(c_list) > 1:\n",
    "    if c_list[0][1] == c_list[1][1]:\n",
    "        print(c_list[1][0])\n",
    "    else:\n",
    "        print(c_list[0][0])\n",
    "else:\n",
    "    print(c_list[0][0])\n",
    "\n",
    "# 범위\n",
    "print(nums[-1]-nums[0])"
   ]
  },
  {
   "cell_type": "code",
   "execution_count": 11,
   "id": "610a59e4",
   "metadata": {},
   "outputs": [
    {
     "name": "stdout",
     "output_type": "stream",
     "text": [
      "[1, 2, 3, 4]\n"
     ]
    }
   ],
   "source": []
  },
  {
   "cell_type": "code",
   "execution_count": null,
   "id": "172a10a3",
   "metadata": {},
   "outputs": [],
   "source": []
  }
 ],
 "metadata": {
  "kernelspec": {
   "display_name": "Python 3 (ipykernel)",
   "language": "python",
   "name": "python3"
  },
  "language_info": {
   "codemirror_mode": {
    "name": "ipython",
    "version": 3
   },
   "file_extension": ".py",
   "mimetype": "text/x-python",
   "name": "python",
   "nbconvert_exporter": "python",
   "pygments_lexer": "ipython3",
   "version": "3.9.12"
  }
 },
 "nbformat": 4,
 "nbformat_minor": 5
}
