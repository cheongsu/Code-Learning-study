{
 "cells": [
  {
   "cell_type": "code",
   "execution_count": null,
   "id": "b4baba1a",
   "metadata": {},
   "outputs": [],
   "source": [
    "https://www.acmicpc.net/problem/2075"
   ]
  },
  {
   "cell_type": "code",
   "execution_count": null,
   "id": "46cad1ad",
   "metadata": {},
   "outputs": [],
   "source": []
  },
  {
   "cell_type": "raw",
   "id": "8a672e82",
   "metadata": {},
   "source": [
    "5\n",
    "12 7 9 15 5\n",
    "13 8 11 19 6\n",
    "21 10 26 31 16\n",
    "48 14 28 35 25\n",
    "52 20 32 41 49\n",
    "\n",
    "가장 큰 수 출력하기\n",
    "\n"
   ]
  },
  {
   "cell_type": "code",
   "execution_count": 1,
   "id": "517999d4",
   "metadata": {},
   "outputs": [
    {
     "name": "stdout",
     "output_type": "stream",
     "text": [
      "5\n",
      "12 7 9 15 5\n",
      "13 8 11 19 6\n",
      "21 10 26 31 16\n",
      "48 14 28 35 25\n",
      "52 20 32 41 49\n",
      "[[12, 7, 9, 15, 5], [13, 8, 11, 19, 6], [21, 10, 26, 31, 16], [48, 14, 28, 35, 25], [52, 20, 32, 41, 49]]\n"
     ]
    }
   ],
   "source": [
    "\n",
    "\n",
    "n = int(input())\n",
    "\n",
    "matrix = [list(map(int,input().split())) for i in range(n)]\n",
    "\n"
   ]
  },
  {
   "cell_type": "code",
   "execution_count": null,
   "id": "ece49429",
   "metadata": {},
   "outputs": [],
   "source": [
    "\n",
    "import heapq\n",
    "\n",
    "heap = []\n",
    "n = int(input())\n",
    "\n",
    "\n",
    "for _ in range(n):\n",
    "    lines = map(int,input().split())\n",
    "    for num in lines:\n",
    "        if len(heap) < n:\n",
    "            heapq.heappush(heap, num)\n",
    "        else:\n",
    "            if heap[0] < num:\n",
    "                heapq.heappop(heap)\n",
    "                heapq.heappush(heap,num)\n",
    "            \n",
    "print(heap[0])\n",
    "\n",
    "# 정답!"
   ]
  },
  {
   "cell_type": "code",
   "execution_count": null,
   "id": "e9f58938",
   "metadata": {},
   "outputs": [],
   "source": []
  }
 ],
 "metadata": {
  "kernelspec": {
   "display_name": "Python 3 (ipykernel)",
   "language": "python",
   "name": "python3"
  },
  "language_info": {
   "codemirror_mode": {
    "name": "ipython",
    "version": 3
   },
   "file_extension": ".py",
   "mimetype": "text/x-python",
   "name": "python",
   "nbconvert_exporter": "python",
   "pygments_lexer": "ipython3",
   "version": "3.9.12"
  }
 },
 "nbformat": 4,
 "nbformat_minor": 5
}
