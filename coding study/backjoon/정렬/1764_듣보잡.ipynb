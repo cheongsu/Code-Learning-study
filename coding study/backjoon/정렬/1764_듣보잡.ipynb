{
 "cells": [
  {
   "cell_type": "code",
   "execution_count": null,
   "id": "8ebb9481",
   "metadata": {},
   "outputs": [],
   "source": [
    "https://www.acmicpc.net/problem/1764"
   ]
  },
  {
   "cell_type": "code",
   "execution_count": null,
   "id": "1b8de27c",
   "metadata": {},
   "outputs": [],
   "source": []
  },
  {
   "cell_type": "code",
   "execution_count": null,
   "id": "b282733a",
   "metadata": {},
   "outputs": [],
   "source": [
    "3 4\n",
    "ohhenrie\n",
    "charlie\n",
    "baesangwook\n",
    "obama\n",
    "baesangwook\n",
    "ohhenrie\n",
    "clinton"
   ]
  },
  {
   "cell_type": "code",
   "execution_count": null,
   "id": "ccd30244",
   "metadata": {},
   "outputs": [],
   "source": [
    "m,n = map(int,input().split())\n",
    "\n",
    "my_list1 = []\n",
    "my_list2 = []\n",
    "\n",
    "for _ in range(m):\n",
    "    my_list1.append(input())\n",
    "    \n",
    "for _ in range(n):\n",
    "    my_list2.append(input())\n",
    "result = []\n",
    "\n",
    "for i in range(len(my_list1)):\n",
    "    if my_list1[i] in my_list2:\n",
    "        result.append(my_list1[i])\n",
    "        \n",
    "\n",
    "print(sorted(result))\n",
    "\n",
    "# 시간초과 "
   ]
  },
  {
   "cell_type": "code",
   "execution_count": 7,
   "id": "3ae17c63",
   "metadata": {
    "scrolled": true
   },
   "outputs": [
    {
     "name": "stdout",
     "output_type": "stream",
     "text": [
      "3 4\n",
      "ohhenrie\n",
      "charlie\n",
      "baesangwook\n",
      "obama\n",
      "baesangwook\n",
      "ohhenrie\n",
      "clinton\n",
      "2\n",
      "baesangwook\n",
      "ohhenrie\n"
     ]
    }
   ],
   "source": [
    "m,n = map(int,input().split())\n",
    "\n",
    "my_list1 = set()\n",
    "my_list2 = set()\n",
    "\n",
    "for _ in range(m):\n",
    "    my_list1.add(input())\n",
    "    \n",
    "for _ in range(n):\n",
    "    my_list2.add(input())\n",
    "\n",
    "result = list(my_list1 & my_list2)\n",
    "        \n",
    "print(len(result))\n",
    "result = sorted(result)\n",
    "\n",
    "for k in range(len(result)):\n",
    "    print(result[k])\n",
    "\n",
    "모든 리스트를 순환하면서 in과 not in을 확인하는 것은\n",
    "사실상 for문을 한번 더 사용 한 것 같은 시간효용이 든다\n",
    "\n",
    "따라서 set으로 관계를 정의해주는게 훨씬 빠르다\n",
    "\n"
   ]
  },
  {
   "cell_type": "code",
   "execution_count": 5,
   "id": "5e8e3e6d",
   "metadata": {
    "scrolled": true
   },
   "outputs": [
    {
     "name": "stdout",
     "output_type": "stream",
     "text": [
      "['Jason', 'Kevin', 'Smith', 'Smith']\n"
     ]
    }
   ],
   "source": [
    "result = ['Jason' , 'Smith', 'Kevin', 'Smith']\n",
    "print(sorted(result))"
   ]
  },
  {
   "cell_type": "code",
   "execution_count": null,
   "id": "d6b97c2c",
   "metadata": {},
   "outputs": [],
   "source": []
  }
 ],
 "metadata": {
  "kernelspec": {
   "display_name": "Python 3 (ipykernel)",
   "language": "python",
   "name": "python3"
  },
  "language_info": {
   "codemirror_mode": {
    "name": "ipython",
    "version": 3
   },
   "file_extension": ".py",
   "mimetype": "text/x-python",
   "name": "python",
   "nbconvert_exporter": "python",
   "pygments_lexer": "ipython3",
   "version": "3.9.12"
  }
 },
 "nbformat": 4,
 "nbformat_minor": 5
}
