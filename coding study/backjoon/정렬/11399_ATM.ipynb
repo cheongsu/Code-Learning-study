{
 "cells": [
  {
   "cell_type": "markdown",
   "id": "481e53b1",
   "metadata": {},
   "source": [
    "5\n",
    "3 1 4 3 2\n",
    "\n",
    "1 = 1\n",
    "\n",
    "1 2 = 3\n",
    "\n",
    "1 2 3 = 6 \n",
    "\n",
    "1 2 3 3 = 9\n",
    "\n",
    "1 2 3 3 4 = 13\n",
    "\n",
    "1 3 6 9 13 = 32\n",
    "\n",
    "https://www.acmicpc.net/problem/11399\n",
    "\n"
   ]
  },
  {
   "cell_type": "markdown",
   "id": "35621031",
   "metadata": {},
   "source": [
    "오름차순으로 정렬 후 중복해서 더한 후 출력\n",
    "\n",
    "<버블 정렬>\n",
    "\n",
    "이중 반복문을 활용하여, 왼쪽과 오른쪽이 다르면 교체하는 것을 n-1번 반복\n",
    "\n",
    "12 23 34 45\n",
    "\n",
    "12 23 34 45"
   ]
  },
  {
   "cell_type": "code",
   "execution_count": 3,
   "id": "be86d08d",
   "metadata": {},
   "outputs": [
    {
     "name": "stdout",
     "output_type": "stream",
     "text": [
      "5\n",
      "3 1 4 3 2\n",
      "32\n"
     ]
    }
   ],
   "source": [
    "n = int(input())\n",
    "my_list = list(map(int,input().split()))\n",
    "\n",
    "for i in range(n-1):\n",
    "    for j in range(n-1):\n",
    "        if my_list[j] > my_list[j+1]:\n",
    "            my_list[j],my_list[j+1] = my_list[j+1],my_list[j]\n",
    "\n",
    "            \n",
    "result = 0\n",
    "\n",
    "for k in range(n):\n",
    "    result += my_list[k]*(n-k)\n",
    "    \n",
    "print(result)\n",
    "\n",
    "# 정답!"
   ]
  },
  {
   "cell_type": "code",
   "execution_count": null,
   "id": "6495bf0e",
   "metadata": {},
   "outputs": [],
   "source": []
  }
 ],
 "metadata": {
  "kernelspec": {
   "display_name": "Python 3 (ipykernel)",
   "language": "python",
   "name": "python3"
  },
  "language_info": {
   "codemirror_mode": {
    "name": "ipython",
    "version": 3
   },
   "file_extension": ".py",
   "mimetype": "text/x-python",
   "name": "python",
   "nbconvert_exporter": "python",
   "pygments_lexer": "ipython3",
   "version": "3.9.12"
  }
 },
 "nbformat": 4,
 "nbformat_minor": 5
}
