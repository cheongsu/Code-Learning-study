{
 "cells": [
  {
   "cell_type": "code",
   "execution_count": 1,
   "id": "9d92e0a5",
   "metadata": {},
   "outputs": [
    {
     "ename": "SyntaxError",
     "evalue": "invalid syntax (2320683459.py, line 1)",
     "output_type": "error",
     "traceback": [
      "\u001b[0;36m  Input \u001b[0;32mIn [1]\u001b[0;36m\u001b[0m\n\u001b[0;31m    https://www.acmicpc.net/problem/1920\u001b[0m\n\u001b[0m          ^\u001b[0m\n\u001b[0;31mSyntaxError\u001b[0m\u001b[0;31m:\u001b[0m invalid syntax\n"
     ]
    }
   ],
   "source": [
    "https://www.acmicpc.net/problem/1920"
   ]
  },
  {
   "cell_type": "code",
   "execution_count": null,
   "id": "29ae10ec",
   "metadata": {},
   "outputs": [],
   "source": []
  },
  {
   "cell_type": "code",
   "execution_count": null,
   "id": "acfa99a4",
   "metadata": {},
   "outputs": [],
   "source": []
  },
  {
   "cell_type": "code",
   "execution_count": null,
   "id": "fcb33445",
   "metadata": {},
   "outputs": [],
   "source": []
  },
  {
   "cell_type": "code",
   "execution_count": null,
   "id": "ad5e41a4",
   "metadata": {},
   "outputs": [],
   "source": [
    "예제 입력 1 \n",
    "5\n",
    "4 1 5 2 3\n",
    "5\n",
    "1 3 7 9 5\n",
    "예제 출력 1 \n",
    "1\n",
    "1\n",
    "0\n",
    "0\n",
    "1"
   ]
  },
  {
   "cell_type": "code",
   "execution_count": 23,
   "id": "014fbbf7",
   "metadata": {},
   "outputs": [
    {
     "name": "stdout",
     "output_type": "stream",
     "text": [
      "5\n",
      "4 1 5 2 3\n",
      "5\n",
      "1 3 7 9 5\n",
      "1\n",
      "1\n",
      "0\n",
      "0\n",
      "1\n"
     ]
    }
   ],
   "source": [
    "\n",
    "# 이분탐색\n",
    "\n",
    "import sys\n",
    "input = sys.stdin.readline\n",
    "\n",
    "N = int(input())\n",
    "\n",
    "n_list = list(map(int,input().split()))\n",
    "\n",
    "M = int(input())\n",
    "\n",
    "m_list = list(map(int,input().split()))\n",
    "\n",
    "\n",
    "def search(target,data):\n",
    "    data.sort()\n",
    "    start = 0\n",
    "    end = N-1\n",
    "\n",
    "    while start <= end:\n",
    "        mid = (end+start)//2\n",
    "        if target == data[mid]:\n",
    "            print(1)\n",
    "            return 1\n",
    "        elif target < data[mid]:\n",
    "            end = mid-1\n",
    "        elif target > data[mid]:\n",
    "            start = mid+1\n",
    "\n",
    "    print(0)\n",
    "    return 0\n",
    "\n",
    "\n",
    "for i in range(M):\n",
    "    search(m_list[i],n_list)\n",
    "\n",
    "    # 시간초과"
   ]
  },
  {
   "cell_type": "code",
   "execution_count": 12,
   "id": "1cee767c",
   "metadata": {},
   "outputs": [
    {
     "name": "stdout",
     "output_type": "stream",
     "text": [
      "5\n",
      "4 1 5 2 3\n",
      "5\n",
      "1 3 7 9 5\n",
      "1\n",
      "1\n",
      "0\n",
      "0\n",
      "1\n"
     ]
    }
   ],
   "source": [
    "import sys\n",
    "\n",
    "N = int(input())\n",
    "\n",
    "n_list = sorted(list(map(int,input().split())))\n",
    "\n",
    "M = int(input())\n",
    "\n",
    "m_list = list(map(int,input().split()))\n",
    "\n",
    "\n",
    "\n",
    "def search(target,data,start,end):\n",
    "    \n",
    "    mid = (start+end)//2\n",
    "    if start > end:\n",
    "        print(0)\n",
    "        return 0\n",
    "    if target == data[mid]:\n",
    "        print(1)\n",
    "        return 1\n",
    "    elif target < data[mid]:\n",
    "        search(target,data,start,mid-1)\n",
    "    else:\n",
    "        search(target,data,mid+1,end)\n",
    "        \n",
    "for i in m_list:\n",
    "    search(i,n_list,0,N-1)\n",
    "       \n",
    "    # 정답!"
   ]
  },
  {
   "cell_type": "code",
   "execution_count": null,
   "id": "996588e6",
   "metadata": {},
   "outputs": [],
   "source": [
    "예제 입력 1 \n",
    "5\n",
    "4 1 5 2 3\n",
    "5\n",
    "1 3 7 9 5"
   ]
  },
  {
   "cell_type": "code",
   "execution_count": 9,
   "id": "646f76e6",
   "metadata": {},
   "outputs": [
    {
     "name": "stdout",
     "output_type": "stream",
     "text": [
      "5\n",
      "4 1 5 2 3\n",
      "5\n",
      "1 3 7 9 5\n",
      "1\n",
      "1\n",
      "0\n",
      "0\n",
      "1\n"
     ]
    }
   ],
   "source": [
    "n = int(input())\n",
    "\n",
    "N = sorted(list(map(int,input().split())))\n",
    "\n",
    "m = int(input())\n",
    "\n",
    "M = list(map(int,input().split()))\n",
    "\n",
    "\n",
    "def binary(l, N, start, end):\n",
    "    if start > end:\n",
    "        return 0\n",
    "    m = (start+end)//2\n",
    "    if l == N[m]:\n",
    "        return 1\n",
    "    elif l < N[m]:\n",
    "        return binary(l, N, start, m-1)\n",
    "    else:\n",
    "        return binary(l, N, m+1, end)\n",
    "\n",
    "for l in M:\n",
    "    start = 0\n",
    "    end = len(N)-1\n",
    "    print(binary(l,N,start,end))"
   ]
  },
  {
   "cell_type": "code",
   "execution_count": null,
   "id": "69e26457",
   "metadata": {},
   "outputs": [],
   "source": []
  }
 ],
 "metadata": {
  "kernelspec": {
   "display_name": "Python 3 (ipykernel)",
   "language": "python",
   "name": "python3"
  },
  "language_info": {
   "codemirror_mode": {
    "name": "ipython",
    "version": 3
   },
   "file_extension": ".py",
   "mimetype": "text/x-python",
   "name": "python",
   "nbconvert_exporter": "python",
   "pygments_lexer": "ipython3",
   "version": "3.9.12"
  }
 },
 "nbformat": 4,
 "nbformat_minor": 5
}
