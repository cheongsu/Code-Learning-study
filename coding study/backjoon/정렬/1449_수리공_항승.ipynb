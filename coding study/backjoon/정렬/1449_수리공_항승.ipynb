{
 "cells": [
  {
   "cell_type": "code",
   "execution_count": null,
   "id": "42c734c4",
   "metadata": {},
   "outputs": [],
   "source": [
    "https://www.acmicpc.net/problem/1449"
   ]
  },
  {
   "cell_type": "code",
   "execution_count": null,
   "id": "b5e0073d",
   "metadata": {},
   "outputs": [],
   "source": [
    "# 시작지점과 끝지점의 테이프 길이를 더함"
   ]
  },
  {
   "cell_type": "code",
   "execution_count": null,
   "id": "52e59ac6",
   "metadata": {},
   "outputs": [],
   "source": [
    "n, l = map(int, input().split())\n",
    "s = list(map(int, input().split()))\n",
    "s.sort()\n",
    "start = s[0]\n",
    "end = s[0] + l\n",
    "cnt = 1\n",
    "for i in range(n):\n",
    "    if start <= s[i] < end:\n",
    "        continue\n",
    "    else:\n",
    "        start = s[i]\n",
    "        end = s[i] + l\n",
    "        cnt += 1\n",
    "print(cnt)"
   ]
  }
 ],
 "metadata": {
  "kernelspec": {
   "display_name": "Python 3 (ipykernel)",
   "language": "python",
   "name": "python3"
  },
  "language_info": {
   "codemirror_mode": {
    "name": "ipython",
    "version": 3
   },
   "file_extension": ".py",
   "mimetype": "text/x-python",
   "name": "python",
   "nbconvert_exporter": "python",
   "pygments_lexer": "ipython3",
   "version": "3.9.12"
  }
 },
 "nbformat": 4,
 "nbformat_minor": 5
}
