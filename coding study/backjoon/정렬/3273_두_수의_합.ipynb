{
 "cells": [
  {
   "cell_type": "code",
   "execution_count": null,
   "id": "ac51850c",
   "metadata": {},
   "outputs": [],
   "source": [
    "\n",
    "n = int(input())\n",
    "\n",
    "my_list = list(map(int,input().split()))\n",
    "\n",
    "my_list.sort()\n",
    "\n",
    "x = int(input())\n",
    "\n",
    "left, right = 0, n-1\n",
    "ans = 0\n",
    "\n",
    "while left < right:\n",
    "    tmp = my_list[left] + my_list[right]\n",
    "    if tmp == x: ans +=1\n",
    "    if tmp < x:\n",
    "        left += 1\n",
    "        continue\n",
    "        \n",
    "    right -= 1\n",
    "print(ans)\n",
    "\n",
    "# 양 끝을 변수로 지정\n",
    "# 변수의 합이 x와 일치하는지 확인, 합이 x보다 작으면 left를 우로 한칸 이동\n",
    "# 반대로 합이 x보다 크면 right를 좌로 한칸 이동\n",
    "# 같으면 count +=1 후 right를 좌로 한칸 이동\n",
    "\n",
    "\n",
    "\n",
    "# 1 2 3 5 7 9 10 11 12"
   ]
  },
  {
   "cell_type": "code",
   "execution_count": null,
   "id": "a78eb77b",
   "metadata": {},
   "outputs": [],
   "source": []
  },
  {
   "cell_type": "code",
   "execution_count": null,
   "id": "83c103bb",
   "metadata": {},
   "outputs": [],
   "source": [
    "https://www.acmicpc.net/problem/3273"
   ]
  }
 ],
 "metadata": {
  "kernelspec": {
   "display_name": "Python 3 (ipykernel)",
   "language": "python",
   "name": "python3"
  },
  "language_info": {
   "codemirror_mode": {
    "name": "ipython",
    "version": 3
   },
   "file_extension": ".py",
   "mimetype": "text/x-python",
   "name": "python",
   "nbconvert_exporter": "python",
   "pygments_lexer": "ipython3",
   "version": "3.9.12"
  }
 },
 "nbformat": 4,
 "nbformat_minor": 5
}
