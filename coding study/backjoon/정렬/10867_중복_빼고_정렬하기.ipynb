{
 "cells": [
  {
   "cell_type": "markdown",
   "id": "a124e3df",
   "metadata": {},
   "source": [
    "https://www.acmicpc.net/problem/10867\n",
    "\n",
    "\n",
    "\n",
    "\n",
    "10\n",
    "1 4 2 3 1 4 2 3 1 2\n",
    "\n",
    "1 2 3 4\n",
    "\n",
    "중복제거 list(set())\n",
    "\n",
    "오름차순 정렬\n"
   ]
  },
  {
   "cell_type": "markdown",
   "id": "d07e59a4",
   "metadata": {},
   "source": [
    "<삽입정렬>\n",
    "\n",
    "def insertSort(arr):\n",
    "    \n",
    "    for i in range(1,len(arr)):\n",
    "        key = arr[i]\n",
    "        j = i - 1\n",
    "        \n",
    "        while j >= 0 and key < arr[j]:\n",
    "            arr[j+1] = arr[j]\n",
    "            j -= 1\n",
    "            \n",
    "        arr[j+1] = key\n",
    "        \n"
   ]
  },
  {
   "cell_type": "code",
   "execution_count": 8,
   "id": "f01d4b3f",
   "metadata": {
    "scrolled": false
   },
   "outputs": [
    {
     "name": "stdout",
     "output_type": "stream",
     "text": [
      "10\n",
      "1 4 2 3 1 4 2 3 1 2\n",
      "1 2 3 4 "
     ]
    }
   ],
   "source": [
    "n = int(input())\n",
    "\n",
    "my_list = list(map(int,input().split()))\n",
    "\n",
    "my_list = list(set(my_list))\n",
    "\n",
    "for i in range(1,len(my_list)):\n",
    "    key = my_list[i]\n",
    "    j = i-1\n",
    "    \n",
    "    while j >=0 and key < my_list[j]:\n",
    "        my_list[j+1] = my_list[j]\n",
    "        j = j-1\n",
    "    my_list[j+1] = key\n",
    "    \n",
    "for k in range(len(my_list)):\n",
    "    print(my_list[k],end=' ')"
   ]
  },
  {
   "cell_type": "code",
   "execution_count": 16,
   "id": "bc4f4793",
   "metadata": {},
   "outputs": [
    {
     "name": "stdout",
     "output_type": "stream",
     "text": [
      "9\n",
      "5 12 7 10 9 1 2 3 11\n",
      "13\n",
      "3\n"
     ]
    }
   ],
   "source": [
    "\n",
    "\n",
    "n = int(input())\n",
    "\n",
    "my_list = list(map(int,input().split()))\n",
    "\n",
    "my_list.sort()\n",
    "\n",
    "x = int(input())\n",
    "\n",
    "left, right = 0, n-1\n",
    "ans = 0\n",
    "\n",
    "while left < right:\n",
    "    tmp = my_list[left] + my_list[right]\n",
    "    if tmp == x: ans +=1\n",
    "    if tmp < x:\n",
    "        left += 1\n",
    "        continue\n",
    "        \n",
    "    right -= 1\n",
    "print(ans)\n",
    "\n",
    "# 양 끝을 변수로 지정\n",
    "# 변수의 합이 x와 일치하는지 확인, 합이 x보다 작으면 left를 우로 한칸 이동\n",
    "# 반대로 합이 x보다 크면 right를 좌로 한칸 이동\n",
    "# 같으면 count +=1 후 right를 좌로 한칸 이동\n",
    "\n",
    "\n",
    "\n",
    "# 1 2 3 5 7 9 10 11 12"
   ]
  },
  {
   "cell_type": "code",
   "execution_count": null,
   "id": "5c0b6bb2",
   "metadata": {},
   "outputs": [],
   "source": []
  }
 ],
 "metadata": {
  "kernelspec": {
   "display_name": "Python 3 (ipykernel)",
   "language": "python",
   "name": "python3"
  },
  "language_info": {
   "codemirror_mode": {
    "name": "ipython",
    "version": 3
   },
   "file_extension": ".py",
   "mimetype": "text/x-python",
   "name": "python",
   "nbconvert_exporter": "python",
   "pygments_lexer": "ipython3",
   "version": "3.9.12"
  }
 },
 "nbformat": 4,
 "nbformat_minor": 5
}
