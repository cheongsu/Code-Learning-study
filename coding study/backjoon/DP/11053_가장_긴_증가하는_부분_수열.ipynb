{
 "cells": [
  {
   "cell_type": "code",
   "execution_count": null,
   "id": "2f57a919",
   "metadata": {},
   "outputs": [],
   "source": [
    "# 모범답안\n",
    "\n",
    "n = int(input())\n",
    "a = list(map(int, input().split()))\n",
    "dp = [0 for i in range(n)]\n",
    "for i in range(n):\n",
    "    for j in range(i):\n",
    "        if a[i] > a[j] and dp[i] < dp[j]:\n",
    "            dp[i] = dp[j]\n",
    "    dp[i] += 1\n",
    "print(max(dp))"
   ]
  }
 ],
 "metadata": {
  "kernelspec": {
   "display_name": "Python 3 (ipykernel)",
   "language": "python",
   "name": "python3"
  },
  "language_info": {
   "codemirror_mode": {
    "name": "ipython",
    "version": 3
   },
   "file_extension": ".py",
   "mimetype": "text/x-python",
   "name": "python",
   "nbconvert_exporter": "python",
   "pygments_lexer": "ipython3",
   "version": "3.9.12"
  }
 },
 "nbformat": 4,
 "nbformat_minor": 5
}
