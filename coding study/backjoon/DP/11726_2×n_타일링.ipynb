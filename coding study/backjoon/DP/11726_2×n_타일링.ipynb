{
 "cells": [
  {
   "cell_type": "code",
   "execution_count": null,
   "id": "73aa6dd8",
   "metadata": {},
   "outputs": [],
   "source": [
    "https://www.acmicpc.net/problem/11726"
   ]
  },
  {
   "cell_type": "code",
   "execution_count": null,
   "id": "177d5464",
   "metadata": {},
   "outputs": [],
   "source": []
  },
  {
   "cell_type": "code",
   "execution_count": null,
   "id": "53bae572",
   "metadata": {},
   "outputs": [],
   "source": []
  },
  {
   "cell_type": "markdown",
   "id": "1fd21d8c",
   "metadata": {},
   "source": [
    "기본적인 점화식을 세울 수 있다.\n",
    "\n",
    "n = 1일 때, 방법은 1개이다\n",
    "\n",
    "n = 2일 때, 방법은 2개이다\n",
    "\n",
    "n = 3일 때는 n=2인 경우 + n=1인 경우로 표현될 수 있다.\n",
    "\n",
    "n = k일 때는 n=k-1 + n=k-2 인 경우의 합으로 표현될 수 있다.\n",
    "\n",
    "따라서 dp는\n",
    "\n",
    "def dp(n):\n",
    "    if n==1 :return 1\n",
    "    if n==2 :return 2\n",
    "    return dp(n-1)+dp(n-2)\n",
    "\n"
   ]
  },
  {
   "cell_type": "code",
   "execution_count": 5,
   "id": "94e34637",
   "metadata": {},
   "outputs": [
    {
     "name": "stdout",
     "output_type": "stream",
     "text": [
      "2\n",
      "2\n"
     ]
    }
   ],
   "source": [
    "n = int(input())\n",
    "\n",
    "def dp(n):\n",
    "    if n==1 :return 1\n",
    "    if n==2 :return 2\n",
    "    return (dp(n-1)+dp(n-2))%10007\n",
    "\n",
    "print(dp(n))\n",
    "\n",
    "# 시간초과\n",
    "\n",
    "# 모든 경우를 다 고려해야 하므로 시간초과 발생"
   ]
  },
  {
   "cell_type": "code",
   "execution_count": 10,
   "id": "e88025b8",
   "metadata": {},
   "outputs": [
    {
     "name": "stdout",
     "output_type": "stream",
     "text": [
      "9\n",
      "55\n"
     ]
    }
   ],
   "source": [
    "n = int(input())\n",
    "\n",
    "dp = [0]*1001\n",
    "\n",
    "dp[1] = 1\n",
    "dp[2] = 2\n",
    "\n",
    "for i in range(3,n+1):\n",
    "    dp[i] = dp[i-1]+dp[i-2]\n",
    "    \n",
    "print(dp[n]%10007)\n",
    "\n",
    "# 단순히 저장된 리스트에서 불러오는 연산만 진행하므로 반복문 횟수x2만큼 진행됨"
   ]
  },
  {
   "cell_type": "code",
   "execution_count": null,
   "id": "7877666b",
   "metadata": {},
   "outputs": [],
   "source": []
  }
 ],
 "metadata": {
  "kernelspec": {
   "display_name": "Python 3 (ipykernel)",
   "language": "python",
   "name": "python3"
  },
  "language_info": {
   "codemirror_mode": {
    "name": "ipython",
    "version": 3
   },
   "file_extension": ".py",
   "mimetype": "text/x-python",
   "name": "python",
   "nbconvert_exporter": "python",
   "pygments_lexer": "ipython3",
   "version": "3.9.12"
  }
 },
 "nbformat": 4,
 "nbformat_minor": 5
}
