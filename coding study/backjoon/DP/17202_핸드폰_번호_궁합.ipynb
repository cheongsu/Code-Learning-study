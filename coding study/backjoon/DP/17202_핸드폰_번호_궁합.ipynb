{
 "cells": [
  {
   "cell_type": "code",
   "execution_count": null,
   "id": "2c07329c",
   "metadata": {},
   "outputs": [],
   "source": [
    "https://www.acmicpc.net/problem/17202\n",
    "    "
   ]
  },
  {
   "cell_type": "code",
   "execution_count": null,
   "id": "05f94223",
   "metadata": {},
   "outputs": [],
   "source": []
  },
  {
   "cell_type": "code",
   "execution_count": null,
   "id": "491d2f9b",
   "metadata": {},
   "outputs": [],
   "source": [
    "a = input()\n",
    "b = input()\n",
    "string=''\n",
    "for i in range(8):\n",
    "    string += a[i] + b[i]\n",
    "\n",
    "while len(string)>2:\n",
    "    temp = \"\"\n",
    "    for j in range(len(string)-1):\n",
    "        temp += str((int(string[j]) + int(string[j+1]))%10)\n",
    "\n",
    "    string=temp\n",
    "print(string)"
   ]
  }
 ],
 "metadata": {
  "kernelspec": {
   "display_name": "Python 3 (ipykernel)",
   "language": "python",
   "name": "python3"
  },
  "language_info": {
   "codemirror_mode": {
    "name": "ipython",
    "version": 3
   },
   "file_extension": ".py",
   "mimetype": "text/x-python",
   "name": "python",
   "nbconvert_exporter": "python",
   "pygments_lexer": "ipython3",
   "version": "3.9.12"
  }
 },
 "nbformat": 4,
 "nbformat_minor": 5
}
