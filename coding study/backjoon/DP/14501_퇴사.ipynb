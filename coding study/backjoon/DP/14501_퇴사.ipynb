{
 "cells": [
  {
   "cell_type": "markdown",
   "id": "305bc289",
   "metadata": {},
   "source": [
    "https://www.acmicpc.net/problem/14501\n",
    "\n",
    "브루트포스이므로 모든 가능한 경우의 수를 다 따져서 확인한다.\n",
    "\n",
    "2쌍씩 리스트에 입력한다.\n",
    "\n",
    "\n"
   ]
  },
  {
   "cell_type": "code",
   "execution_count": 5,
   "id": "8891a078",
   "metadata": {},
   "outputs": [
    {
     "name": "stdout",
     "output_type": "stream",
     "text": [
      "7\n",
      "3 10\n",
      "5 20\n",
      "1 10ㅓ\n"
     ]
    },
    {
     "ename": "ValueError",
     "evalue": "invalid literal for int() with base 10: '10ㅓ'",
     "output_type": "error",
     "traceback": [
      "\u001b[0;31m---------------------------------------------------------------------------\u001b[0m",
      "\u001b[0;31mValueError\u001b[0m                                Traceback (most recent call last)",
      "Input \u001b[0;32mIn [5]\u001b[0m, in \u001b[0;36m<cell line: 7>\u001b[0;34m()\u001b[0m\n\u001b[1;32m      5\u001b[0m dp \u001b[38;5;241m=\u001b[39m []\n\u001b[1;32m      7\u001b[0m \u001b[38;5;28;01mfor\u001b[39;00m i \u001b[38;5;129;01min\u001b[39;00m \u001b[38;5;28mrange\u001b[39m(n):\n\u001b[0;32m----> 8\u001b[0m     a,b \u001b[38;5;241m=\u001b[39m \u001b[38;5;28mmap\u001b[39m(\u001b[38;5;28mint\u001b[39m,\u001b[38;5;28minput\u001b[39m()\u001b[38;5;241m.\u001b[39msplit())\n\u001b[1;32m      9\u001b[0m     t\u001b[38;5;241m.\u001b[39mappend(a)\n\u001b[1;32m     10\u001b[0m     p\u001b[38;5;241m.\u001b[39mappend(b)\n",
      "\u001b[0;31mValueError\u001b[0m: invalid literal for int() with base 10: '10ㅓ'"
     ]
    }
   ],
   "source": [
    "n = int(input())\n",
    "\n",
    "t = []\n",
    "p = []\n",
    "dp = []\n",
    "\n",
    "for i in range(n):\n",
    "    a,b = map(int,input().split())\n",
    "    t.append(a)\n",
    "    p.append(b)\n",
    "    dp.append(b)\n",
    "dp.append(0)\n",
    "\n",
    "for i in range(n-1,-1,-1):\n",
    "    if t[i] + 1 > n:\n",
    "        dp[i] = dp[i+1]\n",
    "    else:\n",
    "        dp[i] = max(dp[i+1],p[i] + dp[i+t[i]])\n",
    "print(dp[0])"
   ]
  },
  {
   "cell_type": "code",
   "execution_count": null,
   "id": "9adc4928",
   "metadata": {},
   "outputs": [],
   "source": []
  }
 ],
 "metadata": {
  "kernelspec": {
   "display_name": "Python 3 (ipykernel)",
   "language": "python",
   "name": "python3"
  },
  "language_info": {
   "codemirror_mode": {
    "name": "ipython",
    "version": 3
   },
   "file_extension": ".py",
   "mimetype": "text/x-python",
   "name": "python",
   "nbconvert_exporter": "python",
   "pygments_lexer": "ipython3",
   "version": "3.9.12"
  }
 },
 "nbformat": 4,
 "nbformat_minor": 5
}
