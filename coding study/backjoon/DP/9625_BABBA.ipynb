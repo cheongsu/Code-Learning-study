{
 "cells": [
  {
   "cell_type": "markdown",
   "id": "6611f0b7",
   "metadata": {},
   "source": [
    "다이나믹 프로그래밍 문제\n",
    "\n",
    "일반 풀이 1)\n",
    "\n",
    "k를 입력 받음\n",
    "\n",
    "k만큼 반복문 실행\n",
    "\n",
    "문자열 기준으로 이중 반복문을 진행하여\n",
    "\n",
    "새로운 문자 temp에 A면 B를 추가하고 B면 BA를 추가함"
   ]
  },
  {
   "cell_type": "code",
   "execution_count": 2,
   "id": "96dc083c",
   "metadata": {},
   "outputs": [
    {
     "name": "stdout",
     "output_type": "stream",
     "text": [
      "B\n",
      "C\n"
     ]
    }
   ],
   "source": [
    "a = \"B\"\n",
    "\n",
    "a = a + \"C\"\n",
    "\n",
    "for i in a:\n",
    "    print(i)"
   ]
  },
  {
   "cell_type": "code",
   "execution_count": 10,
   "id": "226c255d",
   "metadata": {},
   "outputs": [
    {
     "name": "stdout",
     "output_type": "stream",
     "text": [
      "10\n",
      "34 55\n"
     ]
    }
   ],
   "source": [
    "K = int(input())\n",
    "result = \"B\"\n",
    "\n",
    "\n",
    "for i in range(K-1):\n",
    "    temp = \"\"\n",
    "    for i in result:\n",
    "        if i ==\"A\":\n",
    "            temp += \"B\"\n",
    "        elif i == \"B\":\n",
    "            temp += \"BA\"\n",
    "    result = temp\n",
    "    \n",
    "print(result.count(\"A\"),result.count(\"B\"))\n",
    "        \n",
    "    # 시간초과 발생\n",
    "        \n",
    "        \n",
    "    "
   ]
  },
  {
   "cell_type": "markdown",
   "id": "13a34eca",
   "metadata": {},
   "source": [
    "DP 활용\n",
    "\n",
    "d = [0] * 46으로 메모리 생성 k가 45까지 존재하므로...\n",
    "\n",
    "A B BA BAB BABBA BABBABAB...\n",
    "\n",
    "i의 형태는 i-1+ i-2와 같다\n",
    "\n",
    "따라서 각각 횟수를 미리 저장해둔 뒤 출력하면 된다.\n",
    "\n",
    "초기 2개만 설정하고 이후에는 반복문으로 추가한다.\n",
    "\n",
    "\n"
   ]
  },
  {
   "cell_type": "code",
   "execution_count": 23,
   "id": "8b2c0bde",
   "metadata": {},
   "outputs": [
    {
     "name": "stdout",
     "output_type": "stream",
     "text": [
      "2\n"
     ]
    },
    {
     "ename": "IndexError",
     "evalue": "list index out of range",
     "output_type": "error",
     "traceback": [
      "\u001b[0;31m---------------------------------------------------------------------------\u001b[0m",
      "\u001b[0;31mIndexError\u001b[0m                                Traceback (most recent call last)",
      "Input \u001b[0;32mIn [23]\u001b[0m, in \u001b[0;36m<cell line: 12>\u001b[0;34m()\u001b[0m\n\u001b[1;32m      9\u001b[0m     b_num \u001b[38;5;241m=\u001b[39m b[i\u001b[38;5;241m-\u001b[39m\u001b[38;5;241m1\u001b[39m] \u001b[38;5;241m+\u001b[39m b[i\u001b[38;5;241m-\u001b[39m\u001b[38;5;241m2\u001b[39m]\n\u001b[1;32m     10\u001b[0m     b\u001b[38;5;241m.\u001b[39mappend(b_num)\n\u001b[0;32m---> 12\u001b[0m \u001b[38;5;28mprint\u001b[39m(\u001b[43ma\u001b[49m\u001b[43m[\u001b[49m\u001b[43mK\u001b[49m\u001b[43m]\u001b[49m,b[K])\n",
      "\u001b[0;31mIndexError\u001b[0m: list index out of range"
     ]
    }
   ],
   "source": [
    "a = [1,0]\n",
    "b = [0,1]\n",
    "\n",
    "K = int(input())\n",
    "\n",
    "for i in range(2,K):\n",
    "    a_num = a[i-1] + a[i-2]\n",
    "    a.append(a_num)\n",
    "    b_num = b[i-1] + b[i-2]\n",
    "    b.append(b_num)\n",
    "    \n",
    "print(a[K],b[K])"
   ]
  },
  {
   "cell_type": "code",
   "execution_count": null,
   "id": "cb251370",
   "metadata": {},
   "outputs": [],
   "source": [
    "k = int(input())\n",
    "n = 46\n",
    " \n",
    "a = [0] * 46\n",
    "a[0] = 1\n",
    "a[1] = 0\n",
    " \n",
    "b = [0] * 46\n",
    "b[0] = 0\n",
    "b[1] = 1\n",
    " \n",
    "for i in range(2, n):\n",
    "    a[i] = a[i - 1] + a[i - 2]\n",
    "    b[i] = b[i - 1] + b[i - 2]\n",
    "print(a[k], b[k])\n"
   ]
  },
  {
   "cell_type": "code",
   "execution_count": null,
   "id": "4c26f919",
   "metadata": {},
   "outputs": [],
   "source": [
    "k = int(input())\n",
    " \n",
    "a = [1, 0]\n",
    "b = [0, 1]\n",
    " \n",
    "for i in range(2, k+1):\n",
    "    a_num = a[i-1] + a[i-2]\n",
    "    a.append(a_num)\n",
    "    b_num = b[i-1] + b[i-2]\n",
    "    b.append(b_num)\n",
    " \n",
    "print(a[k], b[k])"
   ]
  }
 ],
 "metadata": {
  "kernelspec": {
   "display_name": "Python 3 (ipykernel)",
   "language": "python",
   "name": "python3"
  },
  "language_info": {
   "codemirror_mode": {
    "name": "ipython",
    "version": 3
   },
   "file_extension": ".py",
   "mimetype": "text/x-python",
   "name": "python",
   "nbconvert_exporter": "python",
   "pygments_lexer": "ipython3",
   "version": "3.9.12"
  }
 },
 "nbformat": 4,
 "nbformat_minor": 5
}
