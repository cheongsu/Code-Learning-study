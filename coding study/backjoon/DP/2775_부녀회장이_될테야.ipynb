{
 "cells": [
  {
   "cell_type": "code",
   "execution_count": null,
   "id": "263969ad",
   "metadata": {},
   "outputs": [],
   "source": [
    "https://www.acmicpc.net/problem/2775"
   ]
  },
  {
   "cell_type": "code",
   "execution_count": null,
   "id": "dbc60022",
   "metadata": {},
   "outputs": [],
   "source": []
  },
  {
   "cell_type": "code",
   "execution_count": null,
   "id": "5aca49d8",
   "metadata": {},
   "outputs": [],
   "source": [
    "k층의 n호에는 몇명이 살고 있나\n",
    "\n",
    "k번 반복을 실행\n",
    "\n",
    "매 층마다 누적합을 계산\n",
    "\n",
    "1 2 3\n",
    "1 3 6\n",
    "1 4 10\n",
    "1 5 15\n",
    "1 6 21\n",
    "1 7 27\n",
    "\n",
    "재귀함수를 활용한다.\n",
    "값을 저장할 수 있는 리스트를 활용한다.\n",
    "\n",
    "0층일 때 1,2,3을 저장하고\n",
    "\n",
    "find:\n",
    "    if list[k]==0:\n",
    "        find(k-1,n)\n",
    "    if k>=0:\n",
    "    \n",
    "    \n",
    "dp[k] , dp[k-1] , dp[1] = n dp[2] = sum(list[1])\n",
    "list[k] = for i in range(k):\n",
    "    sum = list[i]\n",
    "    \n",
    "def dp(k,n):\n",
    "    if k<0:\n",
    "        "
   ]
  },
  {
   "cell_type": "code",
   "execution_count": null,
   "id": "6a044368",
   "metadata": {},
   "outputs": [],
   "source": []
  },
  {
   "cell_type": "code",
   "execution_count": null,
   "id": "116cdad3",
   "metadata": {},
   "outputs": [],
   "source": []
  },
  {
   "cell_type": "code",
   "execution_count": null,
   "id": "ccc96818",
   "metadata": {},
   "outputs": [],
   "source": [
    "1층 3호에는 1+2+3 = 6명\n",
    "2층 3호에는 1+3+6 = 10명\n",
    "\n",
    "1 4 10 = 15\n",
    "21 -> 28 -> 36\n",
    "\n"
   ]
  },
  {
   "cell_type": "code",
   "execution_count": 1,
   "id": "c857ad2f",
   "metadata": {},
   "outputs": [
    {
     "name": "stdout",
     "output_type": "stream",
     "text": [
      "2\n",
      "1\n",
      "3\n",
      "6\n",
      "2\n",
      "3\n",
      "10\n"
     ]
    }
   ],
   "source": [
    "T = int(input())\n",
    "\n",
    "for _ in range(T):\n",
    "\n",
    "    k = int(input())\n",
    "\n",
    "    n = int(input())\n",
    "\n",
    "    people = [ i for i in range(1, n+1)]\n",
    "\n",
    "    for __ in range(k):\n",
    "\n",
    "        for j in range(1,n):\n",
    "\n",
    "            people[j] += people[j-1]\n",
    "\n",
    "    print(people[-1])"
   ]
  },
  {
   "cell_type": "code",
   "execution_count": null,
   "id": "5d627a6c",
   "metadata": {},
   "outputs": [],
   "source": []
  }
 ],
 "metadata": {
  "kernelspec": {
   "display_name": "Python 3 (ipykernel)",
   "language": "python",
   "name": "python3"
  },
  "language_info": {
   "codemirror_mode": {
    "name": "ipython",
    "version": 3
   },
   "file_extension": ".py",
   "mimetype": "text/x-python",
   "name": "python",
   "nbconvert_exporter": "python",
   "pygments_lexer": "ipython3",
   "version": "3.9.12"
  }
 },
 "nbformat": 4,
 "nbformat_minor": 5
}
