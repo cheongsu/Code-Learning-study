{
 "cells": [
  {
   "cell_type": "markdown",
   "id": "89df9966",
   "metadata": {},
   "source": [
    "문제\n",
    "\n",
    "\n",
    "나코더 기장 재민이는 동아리 회식을 준비하기 위해서 장부를 관리하는 중이다.\n",
    "\n",
    "재현이는 재민이를 도와서 돈을 관리하는 중인데, 애석하게도 항상 정신없는 재현이는 돈을 실수로 잘못 부르는 사고를 치기 일쑤였다.\n",
    "\n",
    "재현이는 잘못된 수를 부를 때마다 0을 외쳐서, 가장 최근에 재민이가 쓴 수를 지우게 시킨다.\n",
    "\n",
    "재민이는 이렇게 모든 수를 받아 적은 후 그 수의 합을 알고 싶어 한다. 재민이를 도와주자!\n",
    "\n",
    "입력\n",
    "첫 번째 줄에 정수 K가 주어진다. (1 ≤ K ≤ 100,000)\n",
    "\n",
    "이후 K개의 줄에 정수가 1개씩 주어진다. 정수는 0에서 1,000,000 사이의 값을 가지며, 정수가 \"0\" 일 경우에는 가장 최근에 쓴 수를 지우고, 아닐 경우 해당 수를 쓴다.\n",
    "\n",
    "정수가 \"0\"일 경우에 지울 수 있는 수가 있음을 보장할 수 있다.\n",
    "\n",
    "출력\n",
    "\n",
    "재민이가 최종적으로 적어 낸 수의 합을 출력한다. 최종적으로 적어낸 수의 합은 231-1보다 작거나 같은 정수이다.\n",
    "\n",
    "예제 입력 1 \n",
    "4\n",
    "3\n",
    "0\n",
    "4\n",
    "0\n",
    "\n",
    "예제 출력 1 \n",
    "0\n",
    "\n",
    "예제 입력 2 \n",
    "10\n",
    "1\n",
    "3\n",
    "5\n",
    "4\n",
    "0\n",
    "0\n",
    "7\n",
    "0\n",
    "0\n",
    "6\n",
    "\n",
    "예제 출력 2 \n",
    "7"
   ]
  },
  {
   "cell_type": "markdown",
   "id": "368b210c",
   "metadata": {},
   "source": [
    "풀이 1)\n",
    "\n",
    "파이썬은 스택구조를 만들 수 없으므로 리스트로 표현한다\n",
    "\n",
    "리스트를 만든 후, 0이 아닌 숫자가 들어오면 append\n",
    "0이 들어오면 pop을 사용하여 표현한다.\n",
    "\n"
   ]
  },
  {
   "cell_type": "code",
   "execution_count": 2,
   "id": "c6058473",
   "metadata": {},
   "outputs": [
    {
     "name": "stdout",
     "output_type": "stream",
     "text": [
      "10\n",
      "1\n",
      "3\n",
      "5\n",
      "4\n",
      "0\n",
      "0\n",
      "7\n",
      "0\n",
      "0\n",
      "6\n",
      "7\n"
     ]
    }
   ],
   "source": [
    "my_list = []\n",
    "\n",
    "n = int(input())\n",
    "\n",
    "for i in range(n):\n",
    "    temp = int(input())\n",
    "    if temp == 0:\n",
    "        if len(my_list) !=0:\n",
    "            del my_list[-1]\n",
    "    else:\n",
    "        my_list.append(temp)\n",
    "\n",
    "print(sum(my_list))\n",
    "\n",
    "# 정답!"
   ]
  },
  {
   "cell_type": "code",
   "execution_count": 4,
   "id": "c0bf610a",
   "metadata": {},
   "outputs": [
    {
     "ename": "IndexError",
     "evalue": "list assignment index out of range",
     "output_type": "error",
     "traceback": [
      "\u001b[0;31m---------------------------------------------------------------------------\u001b[0m",
      "\u001b[0;31mIndexError\u001b[0m                                Traceback (most recent call last)",
      "Input \u001b[0;32mIn [4]\u001b[0m, in \u001b[0;36m<cell line: 2>\u001b[0;34m()\u001b[0m\n\u001b[1;32m      1\u001b[0m lts \u001b[38;5;241m=\u001b[39m []\n\u001b[0;32m----> 2\u001b[0m \u001b[38;5;28;01mdel\u001b[39;00m lts[\u001b[38;5;241m-\u001b[39m\u001b[38;5;241m1\u001b[39m]\n\u001b[1;32m      3\u001b[0m \u001b[38;5;28mprint\u001b[39m(lts)\n",
      "\u001b[0;31mIndexError\u001b[0m: list assignment index out of range"
     ]
    }
   ],
   "source": [
    "lts = []\n",
    "del lts[-1]\n",
    "print(lts)"
   ]
  },
  {
   "cell_type": "code",
   "execution_count": null,
   "id": "3d3b0309",
   "metadata": {},
   "outputs": [],
   "source": []
  }
 ],
 "metadata": {
  "kernelspec": {
   "display_name": "Python 3 (ipykernel)",
   "language": "python",
   "name": "python3"
  },
  "language_info": {
   "codemirror_mode": {
    "name": "ipython",
    "version": 3
   },
   "file_extension": ".py",
   "mimetype": "text/x-python",
   "name": "python",
   "nbconvert_exporter": "python",
   "pygments_lexer": "ipython3",
   "version": "3.9.12"
  }
 },
 "nbformat": 4,
 "nbformat_minor": 5
}
