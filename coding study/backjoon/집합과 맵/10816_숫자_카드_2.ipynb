{
 "cells": [
  {
   "cell_type": "markdown",
   "id": "393ad992",
   "metadata": {},
   "source": [
    "문제\n",
    "숫자 카드는 정수 하나가 적혀져 있는 카드이다. \n",
    "상근이는 숫자 카드 N개를 가지고 있다. 정수 M개가 주어졌을 때, 이 수가 적혀있는 숫자 카드를 상근이가 몇 개 가지고 있는지 구하는 프로그램을 작성하시오.\n",
    "\n",
    "입력\n",
    "첫째 줄에 상근이가 가지고 있는 숫자 카드의 개수 N(1 ≤ N ≤ 500,000)이 주어진다. 둘째 줄에는 숫자 카드에 적혀있는 정수가 주어진다. 숫자 카드에 적혀있는 수는 -10,000,000보다 크거나 같고, 10,000,000보다 작거나 같다.\n",
    "\n",
    "셋째 줄에는 M(1 ≤ M ≤ 500,000)이 주어진다. 넷째 줄에는 상근이가 몇 개 가지고 있는 숫자 카드인지 구해야 할 M개의 정수가 주어지며, 이 수는 공백으로 구분되어져 있다. 이 수도 -10,000,000보다 크거나 같고, 10,000,000보다 작거나 같다.\n",
    "\n",
    "\n",
    "\n",
    "출력\n",
    "첫째 줄에 입력으로 주어진 M개의 수에 대해서, 각 수가 적힌 숫자 카드를 상근이가 몇 개 가지고 있는지를 공백으로 구분해 출력한다.\n",
    "\n",
    "예제 입력 1 \n",
    "\n",
    "10\n",
    "6 3 2 10 10 10 -10 -10 7 3\n",
    "8\n",
    "10 9 -5 2 3 4 5 -10\n",
    "\n",
    "\n",
    "예제 출력 1 \n",
    "3 0 0 1 2 0 0 2"
   ]
  },
  {
   "cell_type": "markdown",
   "id": "4969c350",
   "metadata": {},
   "source": [
    "풀이 1)\n",
    "\n",
    "list.count(x)를 활용한다.\n",
    "\n",
    "-> 시간초과 발생\n"
   ]
  },
  {
   "cell_type": "code",
   "execution_count": 1,
   "id": "274b149c",
   "metadata": {},
   "outputs": [
    {
     "name": "stdout",
     "output_type": "stream",
     "text": [
      "10\n",
      "6 3 2 10 10 10 -10 -10 7 3\n",
      "8\n",
      "10 9 -5 2 3 4 5 -10\n",
      "3 0 0 1 2 0 0 2 "
     ]
    }
   ],
   "source": [
    "n = int(input())\n",
    "n_list = list(map(int,input().split()))\n",
    "\n",
    "m = int(input())\n",
    "m_list = list(map(int,input().split()))\n",
    "\n",
    "result = [0 for i in range(m)]\n",
    "\n",
    "for i in range(m):\n",
    "    if m_list[i] in n_list:\n",
    "        result[i] = n_list.count(m_list[i])\n",
    "\n",
    "for i in range(m):\n",
    "    print(f'{result[i]}',end=' ')"
   ]
  },
  {
   "cell_type": "markdown",
   "id": "0a4259b5",
   "metadata": {},
   "source": [
    "풀이 2)\n",
    "\n",
    "이분탐색 활용\n",
    "\n",
    "\n",
    "[10 9 -5 2 3 4 5 -10] 에 대하여\n",
    "\n",
    "10 = 10, [] \n",
    "\n",
    "\n",
    "주의 )\n",
    "\n",
    "입력값, 정렬할 대상, input target, array를 신중하게 넣자"
   ]
  },
  {
   "cell_type": "code",
   "execution_count": 12,
   "id": "9cc33c17",
   "metadata": {},
   "outputs": [
    {
     "name": "stdout",
     "output_type": "stream",
     "text": [
      "10\n",
      "6 3 2 10 10 10 -10 -10 7 3\n",
      "8\n",
      "10 9 -5 2 3 4 5 -10\n",
      "3 0 0 1 2 0 0 2 "
     ]
    }
   ],
   "source": [
    "\n",
    "n = int(input())\n",
    "n_list = list(map(int,input().split()))\n",
    "\n",
    "m = int(input())\n",
    "m_list = list(map(int,input().split()))\n",
    "\n",
    "n_list = sorted(n_list)\n",
    "\n",
    "def binary(n,N,start,end):\n",
    "    m = (start+end)//2\n",
    "    if start > end:\n",
    "        return 0\n",
    "    if n == N[m]:\n",
    "        return N[start:end+1].count(n)\n",
    "    elif n > N[m]:\n",
    "        return binary(n,N,m+1,end)\n",
    "    else:\n",
    "        return binary(n,N,start,m-1)\n",
    "    \n",
    "for i in range(m):\n",
    "    a = binary(m_list[i],n_list,0,n-1)\n",
    "    if a is not None:\n",
    "        print(a,end=' ')\n",
    "    else:\n",
    "        print(0,end='')\n"
   ]
  },
  {
   "cell_type": "markdown",
   "id": "aacdac8e",
   "metadata": {},
   "source": [
    "풀이 3)\n",
    "\n",
    "Counter 활용\n",
    "\n"
   ]
  },
  {
   "cell_type": "code",
   "execution_count": 15,
   "id": "acff85d5",
   "metadata": {},
   "outputs": [
    {
     "name": "stdout",
     "output_type": "stream",
     "text": [
      "10\n",
      "6 3 2 10 10 10 -10 -10 7 3\n",
      "8\n",
      "10 9 -5 2 3 4 5 -10\n",
      "Counter({10: 3, 3: 2, -10: 2, 6: 1, 2: 1, 7: 1})\n",
      "3 0 0 1 2 0 0 2 "
     ]
    }
   ],
   "source": [
    "from collections import Counter\n",
    "import sys\n",
    "\n",
    "n = int(input())\n",
    "n_list = list(map(int,input().split()))\n",
    "\n",
    "m = int(input())\n",
    "m_list = list(map(int,input().split()))\n",
    "\n",
    "count = Counter(n_list)\n",
    "for i in range(m):\n",
    "    if m_list[i] in count:\n",
    "        print(count[m_list[i]],end=' ')\n",
    "    else:\n",
    "        print(0,end=' ')\n"
   ]
  },
  {
   "cell_type": "code",
   "execution_count": null,
   "id": "62265fdf",
   "metadata": {},
   "outputs": [],
   "source": []
  }
 ],
 "metadata": {
  "kernelspec": {
   "display_name": "Python 3 (ipykernel)",
   "language": "python",
   "name": "python3"
  },
  "language_info": {
   "codemirror_mode": {
    "name": "ipython",
    "version": 3
   },
   "file_extension": ".py",
   "mimetype": "text/x-python",
   "name": "python",
   "nbconvert_exporter": "python",
   "pygments_lexer": "ipython3",
   "version": "3.9.12"
  }
 },
 "nbformat": 4,
 "nbformat_minor": 5
}
