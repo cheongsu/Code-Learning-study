{
 "cells": [
  {
   "cell_type": "code",
   "execution_count": null,
   "id": "38d1bf55",
   "metadata": {},
   "outputs": [],
   "source": [
    "문제\n",
    "문자열 S가 주어졌을 때, S의 서로 다른 부분 문자열의 개수를 구하는 프로그램을 작성하시오.\n",
    "\n",
    "부분 문자열은 S에서 연속된 일부분을 말하며, 길이가 1보다 크거나 같아야 한다.\n",
    "\n",
    "예를 들어, ababc의 부분 문자열은 a, b, a, b, c, ab, ba, ab, bc, aba, bab, abc, abab, babc, ababc가 있고, 서로 다른것의 개수는 12개이다.\n",
    "\n",
    "\n",
    "입력\n",
    "첫째 줄에 문자열 S가 주어진다. S는 알파벳 소문자로만 이루어져 있고, 길이는 1,000 이하이다.\n",
    "\n",
    "출력\n",
    "첫째 줄에 S의 서로 다른 부분 문자열의 개수를 출력한다.\n",
    "\n",
    "예제 입력 1 \n",
    "ababc\n",
    "예제 출력 1 \n",
    "12"
   ]
  },
  {
   "cell_type": "markdown",
   "id": "a29a440e",
   "metadata": {},
   "source": [
    "풀이 1)\n",
    "\n",
    "3개 일때\n",
    "a b c ab bc abc -> 5 1,2,3\n",
    "\n",
    "4개 일때,\n",
    "\n",
    "a b c d ab bc cd abc bcd abcd -> 10 1,2,3,4\n",
    "\n",
    "5개 일때, 15개\n",
    "\n",
    "서로 다른 것의 개수를 구해야 하므로\n",
    "\n",
    "각 문자마다 dictionary 형태로 1씩 추가한 후, key의 개수를 출력하면 된다.\n",
    "\n",
    "dic = {}\n",
    "k = 0\n",
    "\n",
    "while n > 0:\n",
    "    for i in range(n):\n",
    "        dic[list[i:i+k]] += 1\n",
    "    n -= 1\n",
    "    k += 1\n",
    "print(len(dic.keys()))\n",
    "\n",
    "맞았으나 메모리가 매우 많이 소모됨\n",
    "메모리 시간\n",
    "363724\t784\t"
   ]
  },
  {
   "cell_type": "code",
   "execution_count": 3,
   "id": "dea27bb0",
   "metadata": {},
   "outputs": [
    {
     "name": "stdout",
     "output_type": "stream",
     "text": [
      "ababc\n",
      "a\n",
      "b\n",
      "a\n",
      "b\n",
      "c\n",
      "ab\n",
      "ba\n",
      "ab\n",
      "bc\n",
      "aba\n",
      "bab\n",
      "abc\n",
      "abab\n",
      "babc\n",
      "ababc\n",
      "12\n"
     ]
    }
   ],
   "source": [
    "string = input()\n",
    "\n",
    "dic = {}\n",
    "k = 1\n",
    "n = len(string)\n",
    "while n > 0:\n",
    "    for i in range(n):\n",
    "        dic[string[i:i+k]] =1\n",
    "        print(string[i:i+k])\n",
    "    n -= 1\n",
    "    k += 1\n",
    "\n",
    "print(int(len(dic.keys())))"
   ]
  },
  {
   "cell_type": "markdown",
   "id": "1628366f",
   "metadata": {},
   "source": [
    "풀이 2)\n",
    "\n",
    "딕셔너리 대신 set() 사용\n",
    "\n",
    "while문 대신 이중 for문 사용\n",
    "\n",
    "메모리 시간\n",
    "240040\t664"
   ]
  },
  {
   "cell_type": "code",
   "execution_count": 23,
   "id": "3ca8c01f",
   "metadata": {},
   "outputs": [
    {
     "name": "stdout",
     "output_type": "stream",
     "text": [
      "ababc\n",
      "{'ababc', 'babc', 'bc', 'bab', 'abc', 'a', 'b', 'c', 'ab', 'aba', 'abab', 'ba'}\n",
      "12\n"
     ]
    }
   ],
   "source": [
    "str = input()\n",
    "ans = set()\n",
    "\n",
    "for i in range(len(str)):\n",
    "    for j in range(i,len(str)):\n",
    "        temp=str[i:j+1]\n",
    "        ans.add(temp)\n",
    "print(ans)\n",
    "print(len(ans))"
   ]
  },
  {
   "cell_type": "code",
   "execution_count": null,
   "id": "90ea7e3c",
   "metadata": {},
   "outputs": [],
   "source": []
  }
 ],
 "metadata": {
  "kernelspec": {
   "display_name": "Python 3 (ipykernel)",
   "language": "python",
   "name": "python3"
  },
  "language_info": {
   "codemirror_mode": {
    "name": "ipython",
    "version": 3
   },
   "file_extension": ".py",
   "mimetype": "text/x-python",
   "name": "python",
   "nbconvert_exporter": "python",
   "pygments_lexer": "ipython3",
   "version": "3.9.12"
  }
 },
 "nbformat": 4,
 "nbformat_minor": 5
}
