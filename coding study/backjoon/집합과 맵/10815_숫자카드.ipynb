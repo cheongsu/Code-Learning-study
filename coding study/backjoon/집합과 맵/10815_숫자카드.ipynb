{
 "cells": [
  {
   "cell_type": "markdown",
   "id": "3e2b3812",
   "metadata": {},
   "source": [
    "문제\n",
    "숫자 카드는 정수 하나가 적혀져 있는 카드이다. 상근이는 숫자 카드 N개를 가지고 있다. 정수 M개가 주어졌을 때, 이 수가 적혀있는 숫자 카드를 상근이가 가지고 있는지 아닌지를 구하는 프로그램을 작성하시오.\n",
    "\n",
    "입력\n",
    "\n",
    "첫째 줄에 상근이가 가지고 있는 숫자 카드의 개수 N(1 ≤ N ≤ 500,000)이 주어진다. 둘째 줄에는 숫자 카드에 적혀있는 정수가 주어진다. 숫자 카드에 적혀있는 수는 -10,000,000보다 크거나 같고, 10,000,000보다 작거나 같다. 두 숫자 카드에 같은 수가 적혀있는 경우는 없다.\n",
    "\n",
    "셋째 줄에는 M(1 ≤ M ≤ 500,000)이 주어진다. 넷째 줄에는 상근이가 가지고 있는 숫자 카드인지 아닌지를 구해야 할 M개의 정수가 주어지며, 이 수는 공백으로 구분되어져 있다. 이 수도 -10,000,000보다 크거나 같고, 10,000,000보다 작거나 같다\n",
    "\n",
    "출력\n",
    "첫째 줄에 입력으로 주어진 M개의 수에 대해서, 각 수가 적힌 숫자 카드를 상근이가 가지고 있으면 1을, 아니면 0을 공백으로 구분해 출력한다.\n",
    "\n",
    "\n",
    "\n",
    "예제 입력 1 \n",
    "5\n",
    "6 3 2 10 -10\n",
    "8\n",
    "10 9 -5 2 3 4 5 -10\n",
    "\n",
    "예제 출력 1 \n",
    "1 0 0 1 1 0 0 1"
   ]
  },
  {
   "cell_type": "markdown",
   "id": "206c5ec3",
   "metadata": {},
   "source": [
    "풀이 1)\n",
    "\n",
    "각 값들을 리스트 형태로 입력 받는다.\n",
    "반복문을 통해 리스트에 해당 값이 존재하는지 확인 후,\n",
    "존재하면 1, 없으면 0을 새로운 리스트에 저장한다.\n",
    "\n",
    "순차 탐색은 시간초과 발생"
   ]
  },
  {
   "cell_type": "code",
   "execution_count": 7,
   "id": "398d02ce",
   "metadata": {},
   "outputs": [
    {
     "name": "stdout",
     "output_type": "stream",
     "text": [
      "5\n",
      "6 3 2 10 -10\n",
      "8\n",
      "10 9 -5 2 3 4 5 -10\n",
      "1 0 0 1 1 0 0 1 "
     ]
    }
   ],
   "source": [
    "import sys\n",
    "\n",
    "my_N = int(sys.stdin.readline())\n",
    "\n",
    "my_list = list(map(int,sys.stdin.readline().split()))\n",
    "\n",
    "my_M = int(sys.stdin.readline())\n",
    "\n",
    "your_list = list(map(int,sys.stdin.readline().split()))\n",
    "\n",
    "result = [0 for i in range(my_M)]\n",
    "\n",
    "for i in range(my_M):\n",
    "    if your_list[i] in my_list:\n",
    "        result[i] +=1\n",
    "\n",
    "        \n",
    "for i in range(my_M):\n",
    "    print(f'{result[i]}',end=' ')"
   ]
  },
  {
   "cell_type": "markdown",
   "id": "e2df70b9",
   "metadata": {},
   "source": [
    "풀이 2)\n",
    "\n",
    "이진탐색 활용\n",
    "\n",
    "이진 탐색이란 ?\n",
    "오름차순으로 정렬된 배열에서 원하는 숫자(target)을 찾는 알고리즘입니다.\n",
    "\n",
    "배열 전체의 중간값을 target 값과 비교\n",
    "중간값이 target 값보다 크면 왼쪽 부분만 선택\n",
    "왼쪽부분의 중간값을 다시 target 과 비교\n",
    "정방향으로 푸는 방법과 재귀로 푸는 방법 두 가지가 있습니다.\n",
    "정방향도 어떻게 보면 개념적으로는 재귀로 푸는 방법과 같은 방법입니다.\n",
    "\n",
    "\n",
    "변수 초기화 주의 -> 반복문에서 사용되는 변수는 초기화해줘야 함"
   ]
  },
  {
   "cell_type": "code",
   "execution_count": 5,
   "id": "fca0563f",
   "metadata": {},
   "outputs": [
    {
     "name": "stdout",
     "output_type": "stream",
     "text": [
      "5\n",
      "6 3 2 10 -10\n",
      "8\n",
      "10 9 -5 2 3 4 5 -10\n",
      "1 0 0 1 1 0 0 1 "
     ]
    }
   ],
   "source": [
    "import sys\n",
    "\n",
    "my_N = int(input())\n",
    "\n",
    "my_list = list(map(int,input().split()))\n",
    "\n",
    "my_M = int(input())\n",
    "\n",
    "your_list = list(map(int,input().split()))\n",
    "\n",
    "result = [0 for i in range(my_M)]\n",
    "\n",
    "my_list = sorted(my_list)\n",
    "\n",
    "\n",
    "for i in range(my_M):\n",
    "    left = 0\n",
    "    right = my_N-1\n",
    "    while left <= right:\n",
    "        mid = (left + right)//2\n",
    "        if your_list[i] == my_list[mid]:\n",
    "            result[i] +=1\n",
    "            break\n",
    "        elif your_list[i] < my_list[mid]:\n",
    "            right = mid-1\n",
    "        else:\n",
    "            left = mid+1\n",
    "    \n",
    "\n",
    "        \n",
    "for i in range(my_M):\n",
    "    print(f'{result[i]}',end=' ')"
   ]
  },
  {
   "cell_type": "code",
   "execution_count": null,
   "id": "2d3eeea8",
   "metadata": {},
   "outputs": [],
   "source": []
  }
 ],
 "metadata": {
  "kernelspec": {
   "display_name": "Python 3 (ipykernel)",
   "language": "python",
   "name": "python3"
  },
  "language_info": {
   "codemirror_mode": {
    "name": "ipython",
    "version": 3
   },
   "file_extension": ".py",
   "mimetype": "text/x-python",
   "name": "python",
   "nbconvert_exporter": "python",
   "pygments_lexer": "ipython3",
   "version": "3.9.12"
  }
 },
 "nbformat": 4,
 "nbformat_minor": 5
}
