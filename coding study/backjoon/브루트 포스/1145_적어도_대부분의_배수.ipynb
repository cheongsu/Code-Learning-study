{
 "cells": [
  {
   "cell_type": "code",
   "execution_count": 14,
   "id": "76471b44",
   "metadata": {},
   "outputs": [
    {
     "name": "stdout",
     "output_type": "stream",
     "text": [
      "3 14 15 92 65\n",
      "195\n"
     ]
    }
   ],
   "source": [
    "\n",
    "num = list(map(int,input().split()))\n",
    "result = []\n",
    "count = 0\n",
    "temp = num[0]*num[1]*num[2]*num[3]*num[4]\n",
    "for i in range(min(num),temp+1):\n",
    "    for j in range(5):\n",
    "        if i%num[j]==0:\n",
    "            count+=1\n",
    "    if count >=3:\n",
    "        print(i)\n",
    "        break\n",
    "    count = 0\n"
   ]
  },
  {
   "cell_type": "code",
   "execution_count": 1,
   "id": "529d23b5",
   "metadata": {},
   "outputs": [
    {
     "name": "stdout",
     "output_type": "stream",
     "text": [
      "2\n"
     ]
    }
   ],
   "source": [
    "num = [1,2]\n",
    "\n",
    "print(max(num))"
   ]
  },
  {
   "cell_type": "code",
   "execution_count": null,
   "id": "9ff087d1",
   "metadata": {},
   "outputs": [],
   "source": []
  }
 ],
 "metadata": {
  "kernelspec": {
   "display_name": "Python 3 (ipykernel)",
   "language": "python",
   "name": "python3"
  },
  "language_info": {
   "codemirror_mode": {
    "name": "ipython",
    "version": 3
   },
   "file_extension": ".py",
   "mimetype": "text/x-python",
   "name": "python",
   "nbconvert_exporter": "python",
   "pygments_lexer": "ipython3",
   "version": "3.9.12"
  }
 },
 "nbformat": 4,
 "nbformat_minor": 5
}
