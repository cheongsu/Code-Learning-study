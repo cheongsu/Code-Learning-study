{
 "cells": [
  {
   "cell_type": "code",
   "execution_count": null,
   "id": "afa1c3bf",
   "metadata": {},
   "outputs": [],
   "source": [
    "https://www.acmicpc.net/problem/11724"
   ]
  },
  {
   "cell_type": "code",
   "execution_count": null,
   "id": "b6beb666",
   "metadata": {},
   "outputs": [],
   "source": []
  },
  {
   "cell_type": "code",
   "execution_count": null,
   "id": "22a1fabe",
   "metadata": {},
   "outputs": [],
   "source": []
  },
  {
   "cell_type": "code",
   "execution_count": null,
   "id": "92dabe56",
   "metadata": {},
   "outputs": [],
   "source": []
  },
  {
   "cell_type": "code",
   "execution_count": null,
   "id": "1bf2d1e6",
   "metadata": {},
   "outputs": [],
   "source": []
  },
  {
   "cell_type": "code",
   "execution_count": null,
   "id": "d6840fc6",
   "metadata": {},
   "outputs": [],
   "source": [
    "양방향으로 리스트에 저장한 후, visited 함수를 이용해서 BFS 횟수를 구한다."
   ]
  },
  {
   "cell_type": "code",
   "execution_count": null,
   "id": "8656cf41",
   "metadata": {},
   "outputs": [],
   "source": []
  },
  {
   "cell_type": "code",
   "execution_count": 15,
   "id": "0123d8fc",
   "metadata": {},
   "outputs": [
    {
     "name": "stdout",
     "output_type": "stream",
     "text": [
      "6 8\n",
      "1 2\n",
      "2 5\n",
      "5 1\n",
      "3 4\n",
      "4 6\n",
      "5 4\n",
      "2 4\n",
      "2 3\n",
      "1\n"
     ]
    }
   ],
   "source": [
    "N,M = map(int,input().split())\n",
    "\n",
    "matrix = [[] for i in range(N+1)]\n",
    "\n",
    "visited = [0]*(N+1)\n",
    "\n",
    "for j in range(M):\n",
    "    a,b = map(int,input().split())\n",
    "    matrix[a].append(b)\n",
    "    matrix[b].append(a)\n",
    "    \n",
    "\n",
    "cnt = 0\n",
    "\n",
    "from collections import deque\n",
    "\n",
    "def BFS(a):\n",
    "    queue = deque([a])\n",
    "    visited[a]=1\n",
    "    while queue:\n",
    "        v = queue.popleft()\n",
    "        for k in matrix[v]:\n",
    "            if visited[k]!=1:\n",
    "                visited[k]=1\n",
    "                queue.append(k)\n",
    "            \n",
    "            \n",
    "for e in range(1,N+1):\n",
    "    if visited[e]!=1:\n",
    "        cnt +=1\n",
    "        BFS(e)\n",
    "print(cnt)\n",
    "\n",
    "# 정답!"
   ]
  },
  {
   "cell_type": "code",
   "execution_count": null,
   "id": "6cdc955d",
   "metadata": {},
   "outputs": [],
   "source": []
  }
 ],
 "metadata": {
  "kernelspec": {
   "display_name": "Python 3 (ipykernel)",
   "language": "python",
   "name": "python3"
  },
  "language_info": {
   "codemirror_mode": {
    "name": "ipython",
    "version": 3
   },
   "file_extension": ".py",
   "mimetype": "text/x-python",
   "name": "python",
   "nbconvert_exporter": "python",
   "pygments_lexer": "ipython3",
   "version": "3.9.12"
  }
 },
 "nbformat": 4,
 "nbformat_minor": 5
}
