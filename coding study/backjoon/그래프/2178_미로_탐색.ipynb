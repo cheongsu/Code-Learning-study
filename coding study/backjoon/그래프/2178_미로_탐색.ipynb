{
 "cells": [
  {
   "cell_type": "code",
   "execution_count": null,
   "id": "56b69643",
   "metadata": {},
   "outputs": [],
   "source": [
    "https://www.acmicpc.net/problem/2178\n",
    "    \n"
   ]
  },
  {
   "cell_type": "code",
   "execution_count": null,
   "id": "18b4b51d",
   "metadata": {},
   "outputs": [],
   "source": []
  },
  {
   "cell_type": "code",
   "execution_count": null,
   "id": "ac2ef9a2",
   "metadata": {},
   "outputs": [],
   "source": []
  },
  {
   "cell_type": "code",
   "execution_count": null,
   "id": "473c1861",
   "metadata": {},
   "outputs": [],
   "source": []
  },
  {
   "cell_type": "code",
   "execution_count": 25,
   "id": "c2bef985",
   "metadata": {},
   "outputs": [
    {
     "name": "stdout",
     "output_type": "stream",
     "text": [
      "4 6\n",
      "101111\n",
      "101010\n",
      "101011\n",
      "111011\n",
      "15\n"
     ]
    }
   ],
   "source": [
    "N, M = map(int,input().split())\n",
    "\n",
    "matrix = []\n",
    "\n",
    "for _ in range(N):\n",
    "    matrix.append(list(map(int, input())))\n",
    "\n",
    "dx = [-1,1,0,0]\n",
    "dy = [0,0,-1,1]\n",
    "\n",
    "\n",
    "\n",
    "def BFS(x,y):\n",
    "    queue = [(x,y)]\n",
    "    while queue:\n",
    "        x,y = queue.pop(0)\n",
    "        for i in range(4):\n",
    "            nx = x +dx[i]\n",
    "            ny = y +dy[i]\n",
    "            \n",
    "            if nx <0 or nx >= N or ny <0 or ny >= M:\n",
    "                continue\n",
    "            if matrix[nx][ny] == 1:\n",
    "                queue.append((nx,ny))\n",
    "                matrix[nx][ny]= matrix[x][y]+1\n",
    "\n",
    "                \n",
    "            if matrix[nx][ny] == 0:\n",
    "                continue\n",
    "    return matrix[N-1][M-1]\n",
    "\n",
    "\n",
    "print(BFS(0,0))\n",
    "\n",
    "\n",
    "# 정답!"
   ]
  },
  {
   "cell_type": "code",
   "execution_count": null,
   "id": "ad7491ca",
   "metadata": {},
   "outputs": [],
   "source": [
    "4 6\n",
    "101111\n",
    "101010\n",
    "101011\n",
    "111011"
   ]
  },
  {
   "cell_type": "code",
   "execution_count": null,
   "id": "016b1ffc",
   "metadata": {},
   "outputs": [],
   "source": []
  }
 ],
 "metadata": {
  "kernelspec": {
   "display_name": "Python 3 (ipykernel)",
   "language": "python",
   "name": "python3"
  },
  "language_info": {
   "codemirror_mode": {
    "name": "ipython",
    "version": 3
   },
   "file_extension": ".py",
   "mimetype": "text/x-python",
   "name": "python",
   "nbconvert_exporter": "python",
   "pygments_lexer": "ipython3",
   "version": "3.9.12"
  }
 },
 "nbformat": 4,
 "nbformat_minor": 5
}
