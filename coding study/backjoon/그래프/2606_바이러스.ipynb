{
 "cells": [
  {
   "cell_type": "code",
   "execution_count": 7,
   "id": "3a07f090",
   "metadata": {},
   "outputs": [
    {
     "name": "stdout",
     "output_type": "stream",
     "text": [
      "5 5 1\n"
     ]
    },
    {
     "ename": "KeyboardInterrupt",
     "evalue": "Interrupted by user",
     "output_type": "error",
     "traceback": [
      "\u001b[0;31m---------------------------------------------------------------------------\u001b[0m",
      "\u001b[0;31mKeyboardInterrupt\u001b[0m                         Traceback (most recent call last)",
      "Input \u001b[0;32mIn [7]\u001b[0m, in \u001b[0;36m<cell line: 7>\u001b[0;34m()\u001b[0m\n\u001b[1;32m      6\u001b[0m graph \u001b[38;5;241m=\u001b[39m [[] \u001b[38;5;28;01mfor\u001b[39;00m i \u001b[38;5;129;01min\u001b[39;00m \u001b[38;5;28mrange\u001b[39m(N\u001b[38;5;241m+\u001b[39m\u001b[38;5;241m1\u001b[39m)]\n\u001b[1;32m      7\u001b[0m \u001b[38;5;28;01mfor\u001b[39;00m _ \u001b[38;5;129;01min\u001b[39;00m \u001b[38;5;28mrange\u001b[39m(M):\n\u001b[0;32m----> 8\u001b[0m     a,b \u001b[38;5;241m=\u001b[39m \u001b[38;5;28mmap\u001b[39m(\u001b[38;5;28mint\u001b[39m,\u001b[38;5;28;43minput\u001b[39;49m\u001b[43m(\u001b[49m\u001b[43m)\u001b[49m\u001b[38;5;241m.\u001b[39msplit())\n\u001b[1;32m      9\u001b[0m     graph[a]\u001b[38;5;241m.\u001b[39mappend(b)\n\u001b[1;32m     10\u001b[0m     graph[b]\u001b[38;5;241m.\u001b[39mappend(a)\n",
      "File \u001b[0;32m~/opt/anaconda3/lib/python3.9/site-packages/ipykernel/kernelbase.py:1075\u001b[0m, in \u001b[0;36mKernel.raw_input\u001b[0;34m(self, prompt)\u001b[0m\n\u001b[1;32m   1071\u001b[0m \u001b[38;5;28;01mif\u001b[39;00m \u001b[38;5;129;01mnot\u001b[39;00m \u001b[38;5;28mself\u001b[39m\u001b[38;5;241m.\u001b[39m_allow_stdin:\n\u001b[1;32m   1072\u001b[0m     \u001b[38;5;28;01mraise\u001b[39;00m StdinNotImplementedError(\n\u001b[1;32m   1073\u001b[0m         \u001b[38;5;124m\"\u001b[39m\u001b[38;5;124mraw_input was called, but this frontend does not support input requests.\u001b[39m\u001b[38;5;124m\"\u001b[39m\n\u001b[1;32m   1074\u001b[0m     )\n\u001b[0;32m-> 1075\u001b[0m \u001b[38;5;28;01mreturn\u001b[39;00m \u001b[38;5;28;43mself\u001b[39;49m\u001b[38;5;241;43m.\u001b[39;49m\u001b[43m_input_request\u001b[49m\u001b[43m(\u001b[49m\n\u001b[1;32m   1076\u001b[0m \u001b[43m    \u001b[49m\u001b[38;5;28;43mstr\u001b[39;49m\u001b[43m(\u001b[49m\u001b[43mprompt\u001b[49m\u001b[43m)\u001b[49m\u001b[43m,\u001b[49m\n\u001b[1;32m   1077\u001b[0m \u001b[43m    \u001b[49m\u001b[38;5;28;43mself\u001b[39;49m\u001b[38;5;241;43m.\u001b[39;49m\u001b[43m_parent_ident\u001b[49m\u001b[43m[\u001b[49m\u001b[38;5;124;43m\"\u001b[39;49m\u001b[38;5;124;43mshell\u001b[39;49m\u001b[38;5;124;43m\"\u001b[39;49m\u001b[43m]\u001b[49m\u001b[43m,\u001b[49m\n\u001b[1;32m   1078\u001b[0m \u001b[43m    \u001b[49m\u001b[38;5;28;43mself\u001b[39;49m\u001b[38;5;241;43m.\u001b[39;49m\u001b[43mget_parent\u001b[49m\u001b[43m(\u001b[49m\u001b[38;5;124;43m\"\u001b[39;49m\u001b[38;5;124;43mshell\u001b[39;49m\u001b[38;5;124;43m\"\u001b[39;49m\u001b[43m)\u001b[49m\u001b[43m,\u001b[49m\n\u001b[1;32m   1079\u001b[0m \u001b[43m    \u001b[49m\u001b[43mpassword\u001b[49m\u001b[38;5;241;43m=\u001b[39;49m\u001b[38;5;28;43;01mFalse\u001b[39;49;00m\u001b[43m,\u001b[49m\n\u001b[1;32m   1080\u001b[0m \u001b[43m\u001b[49m\u001b[43m)\u001b[49m\n",
      "File \u001b[0;32m~/opt/anaconda3/lib/python3.9/site-packages/ipykernel/kernelbase.py:1120\u001b[0m, in \u001b[0;36mKernel._input_request\u001b[0;34m(self, prompt, ident, parent, password)\u001b[0m\n\u001b[1;32m   1117\u001b[0m             \u001b[38;5;28;01mbreak\u001b[39;00m\n\u001b[1;32m   1118\u001b[0m \u001b[38;5;28;01mexcept\u001b[39;00m \u001b[38;5;167;01mKeyboardInterrupt\u001b[39;00m:\n\u001b[1;32m   1119\u001b[0m     \u001b[38;5;66;03m# re-raise KeyboardInterrupt, to truncate traceback\u001b[39;00m\n\u001b[0;32m-> 1120\u001b[0m     \u001b[38;5;28;01mraise\u001b[39;00m \u001b[38;5;167;01mKeyboardInterrupt\u001b[39;00m(\u001b[38;5;124m\"\u001b[39m\u001b[38;5;124mInterrupted by user\u001b[39m\u001b[38;5;124m\"\u001b[39m) \u001b[38;5;28;01mfrom\u001b[39;00m \u001b[38;5;28mNone\u001b[39m\n\u001b[1;32m   1121\u001b[0m \u001b[38;5;28;01mexcept\u001b[39;00m \u001b[38;5;167;01mException\u001b[39;00m:\n\u001b[1;32m   1122\u001b[0m     \u001b[38;5;28mself\u001b[39m\u001b[38;5;241m.\u001b[39mlog\u001b[38;5;241m.\u001b[39mwarning(\u001b[38;5;124m\"\u001b[39m\u001b[38;5;124mInvalid Message:\u001b[39m\u001b[38;5;124m\"\u001b[39m, exc_info\u001b[38;5;241m=\u001b[39m\u001b[38;5;28;01mTrue\u001b[39;00m)\n",
      "\u001b[0;31mKeyboardInterrupt\u001b[0m: Interrupted by user"
     ]
    }
   ],
   "source": [
    "N, M, R = map(int,input().split())\n",
    "\n",
    "path = []\n",
    "result = [0]*(N+1)\n",
    "visited = [-1]*(N+1)\n",
    "graph = [[] for i in range(N+1)]\n",
    "for _ in range(M):\n",
    "    a,b = map(int,input().split())\n",
    "    graph[a].append(b)\n",
    "    graph[b].append(a)\n",
    "print(graph)\n",
    "\n",
    "for i in range(1,len(graph)):\n",
    "    graph[i].sort(reverse=True)\n",
    "\n",
    "def DFS(start):\n",
    "    visited[start] = 1\n",
    "    path.append(start)\n",
    "    \n",
    "    for adj_node in graph[start]:\n",
    "        if visited[adj_node] == -1:\n",
    "            DFS(adj_node)\n",
    "    return \n",
    "\n",
    "DFS(R)\n",
    "\n",
    "for idx, node in zip(range(1, len(path)+1), path):\n",
    "    result[node] = idx\n",
    "\n",
    "print(*result[1:],sep=\"\\n\")"
   ]
  },
  {
   "cell_type": "code",
   "execution_count": 10,
   "id": "9bfc935a",
   "metadata": {},
   "outputs": [
    {
     "name": "stdout",
     "output_type": "stream",
     "text": [
      "7\n",
      "6\n",
      "1 2\n",
      "2 3\n",
      "1 5\n",
      "5 2\n",
      "5 6\n",
      "4 7\n",
      "5\n",
      "[-1, 1, 1, 1, -1, 1, 1, -1]\n"
     ]
    }
   ],
   "source": [
    "C = int(input())\n",
    "\n",
    "N = int(input())\n",
    "\n",
    "visited = [-1]*(C+1)\n",
    "graph = [[] for i in range(C+1)]\n",
    "for _ in range(N):\n",
    "    a,b = map(int,input().split())\n",
    "    graph[a].append(b)\n",
    "    graph[b].append(a)\n",
    "\n",
    "\n",
    "for i in range(1,len(graph)):\n",
    "    graph[i].sort(reverse=True)\n",
    "\n",
    "def DFS(start):\n",
    "    visited[start] = 1\n",
    "    \n",
    "    for adj_node in graph[start]:\n",
    "        if visited[adj_node] == -1:\n",
    "            DFS(adj_node)\n",
    "    return \n",
    "\n",
    "\n",
    "\n",
    "DFS(1)\n",
    "\n",
    "print(visited.count(1)-1)\n",
    "\n",
    "\n",
    "# 정답!"
   ]
  },
  {
   "cell_type": "markdown",
   "id": "96a36269",
   "metadata": {},
   "source": []
  },
  {
   "cell_type": "markdown",
   "id": "3c327a1e",
   "metadata": {},
   "source": [
    "\n",
    "알고리즘\n",
    "\n",
    "C와 N을 입력받는다.\n",
    "\n",
    "visited라는 리스트를 [-1 for i in range(C+!)]로 만든다. (컴퓨터가 1부터 시작하므로)\n",
    "\n",
    "graph라는 리스트를 [] for i in range(C+1)로 만든다.\n",
    "\n",
    "N만큼 반복문을 실행하여 for i in graph에 대하여,\n",
    "graph[a].append(b)\n",
    "graph[b].append(a) 를 입력해준다. 즉 양방향으로 만들어준다.\n",
    "\n",
    "for i in graph:\n",
    "   graph[i].sort(reverse=True)를 통해 각 그래프의 2차원 리스트마다 오름차순으로 정렬한다.\n",
    "   \n",
    "DFS(start):\n",
    "    visited[start] = 1\n",
    "    \n",
    "    for i in graph[start]:\n",
    "        if i ==-1:\n",
    "        DFS(i)"
   ]
  },
  {
   "cell_type": "code",
   "execution_count": null,
   "id": "7b8fbc41",
   "metadata": {},
   "outputs": [],
   "source": [
    "visited = [-1]*(C+1)\n",
    "\n",
    "graph = [[] for i in range(C+1)]\n",
    "\n",
    "for _ in range(N):\n",
    "    a,b = map(input().split())\n",
    "    graph[a].append(b)\n",
    "    graph[b].append(a)\n",
    "    \n",
    "for j in range(1,len(graph)):\n",
    "    graph[j].sort(reverse=True)\n",
    "    \n",
    "DFS(start):\n",
    "    visited[start]=True\n",
    "    \n",
    "    for adj in graph[start]:\n",
    "        if adj ==-1:\n",
    "            DFS(adj)\n",
    "            \n",
    "\n",
    "DFS(1)            \n",
    "print(count.visited(1)-1)"
   ]
  },
  {
   "cell_type": "code",
   "execution_count": null,
   "id": "e95cdede",
   "metadata": {},
   "outputs": [],
   "source": []
  },
  {
   "cell_type": "code",
   "execution_count": null,
   "id": "5802cd13",
   "metadata": {},
   "outputs": [],
   "source": []
  },
  {
   "cell_type": "code",
   "execution_count": null,
   "id": "bfc450e4",
   "metadata": {},
   "outputs": [],
   "source": []
  },
  {
   "cell_type": "code",
   "execution_count": 2,
   "id": "fc2ad7b7",
   "metadata": {
    "scrolled": true
   },
   "outputs": [
    {
     "name": "stdout",
     "output_type": "stream",
     "text": [
      "10 8 17\n",
      "0 0\n",
      "1 0\n",
      "1 1\n",
      "4 2\n",
      "4 3\n",
      "4 5\n",
      "2 4\n",
      "3 4\n",
      "7 4\n",
      "8 4\n",
      "9 4\n",
      "7 5\n",
      "8 5\n",
      "9 5\n",
      "7 6\n",
      "8 6\n",
      "9 6\n",
      "[[0, 0, 1], [1, 1, 0], [4, 4], [4, 4], [9, 8, 7, 5, 3, 3, 2, 2], [9, 8, 7, 4], [9, 8, 7], [6, 5, 4], [6, 5, 4], [6, 5, 4], []]\n"
     ]
    }
   ],
   "source": [
    "A,B,N = map(int,input().split())\n",
    "\n",
    "C = max(A,B)\n",
    "\n",
    "\n",
    "visited = [-1]*(C+1)\n",
    "graph = [[] for i in range(C+1)]\n",
    "for _ in range(N):\n",
    "    a,b = map(int,input().split())\n",
    "    graph[a].append(b)\n",
    "    graph[b].append(a)\n",
    "    visited[a] = -2\n",
    "\n",
    "\n",
    "for i in range(1,len(graph)):\n",
    "    graph[i].sort(reverse=True)\n",
    "print(graph)\n",
    "def DFS(start):\n",
    "    visited[start] = -1\n",
    "    \n",
    "    for adj_node in graph[start]:\n",
    "        if visited[adj_node] == -2:\n",
    "            DFS(adj_node)\n",
    "    return \n",
    "count = 1\n",
    "for k in range(len(graph)):\n",
    "    DFS(k)\n",
    "    if visited in -2:\n",
    "        DFS(-1)\n",
    "        count +=1\n",
    "        "
   ]
  },
  {
   "cell_type": "markdown",
   "id": "1e519ada",
   "metadata": {},
   "source": [
    "\n",
    "[[0, 0, 1], [1, 1, 0], [4, 4], [4, 4], [9, 8, 7, 5, 3, 3, 2, 2], [9, 8, 7, 4], [9, 8, 7], [6, 5, 4], [6, 5, 4], [6, 5, 4], []]"
   ]
  },
  {
   "cell_type": "code",
   "execution_count": null,
   "id": "10dc12dc",
   "metadata": {},
   "outputs": [],
   "source": []
  },
  {
   "cell_type": "code",
   "execution_count": 7,
   "id": "739fbc3e",
   "metadata": {},
   "outputs": [
    {
     "name": "stdout",
     "output_type": "stream",
     "text": [
      "{'[a,b,c]', 'b'}\n"
     ]
    }
   ],
   "source": [
    "A = set([])\n",
    "A.add('b')\n",
    "A.add('[a,b,c]')\n",
    "\n",
    "print(A)"
   ]
  },
  {
   "cell_type": "code",
   "execution_count": null,
   "id": "5feb89c5",
   "metadata": {},
   "outputs": [],
   "source": []
  }
 ],
 "metadata": {
  "kernelspec": {
   "display_name": "Python 3 (ipykernel)",
   "language": "python",
   "name": "python3"
  },
  "language_info": {
   "codemirror_mode": {
    "name": "ipython",
    "version": 3
   },
   "file_extension": ".py",
   "mimetype": "text/x-python",
   "name": "python",
   "nbconvert_exporter": "python",
   "pygments_lexer": "ipython3",
   "version": "3.9.12"
  }
 },
 "nbformat": 4,
 "nbformat_minor": 5
}
