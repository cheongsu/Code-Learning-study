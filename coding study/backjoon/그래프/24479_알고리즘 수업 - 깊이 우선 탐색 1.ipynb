{
 "cells": [
  {
   "cell_type": "markdown",
   "id": "4927fc35",
   "metadata": {},
   "source": [
    "문제\n",
    "오늘도 서준이는 깊이 우선 탐색(DFS) 수업 조교를 하고 있다. 아빠가 수업한 내용을 학생들이 잘 이해했는지 문제를 통해서 확인해보자.\n",
    "\n",
    "N개의 정점과 M개의 간선으로 구성된 무방향 그래프(undirected graph)가 주어진다. 정점 번호는 1번부터 N번이고 모든 간선의 가중치는 1이다. 정점 R에서 시작하여 깊이 우선 탐색으로 노드를 방문할 경우 노드의 방문 순서를 출력하자.\n",
    "\n",
    "깊이 우선 탐색 의사 코드는 다음과 같다. 인접 정점은 오름차순으로 방문한다.\n",
    "\n",
    "dfs(V, E, R) {  # V : 정점 집합, E : 간선 집합, R : 시작 정점\n",
    "    visited[R] <- YES;  # 시작 정점 R을 방문 했다고 표시한다.\n",
    "    for each x ∈ E(R)  # E(R) : 정점 R의 인접 정점 집합.(정점 번호를 오름차순으로 방문한다)\n",
    "        if (visited[x] = NO) then dfs(V, E, x);\n",
    "}\n",
    "\n",
    "입력\n",
    "첫째 줄에 정점의 수 N (5 ≤ N ≤ 100,000), 간선의 수 M (1 ≤ M ≤ 200,000), 시작 정점 R (1 ≤ R ≤ N)이 주어진다.\n",
    "\n",
    "다음 M개 줄에 간선 정보 u v가 주어지며 정점 u와 정점 v의 가중치 1인 양방향 간선을 나타낸다. (1 ≤ u < v ≤ N, u ≠ v) 모든 간선의 (u, v) 쌍의 값은 서로 다르다.\n",
    "\n",
    "출력\n",
    "첫째 줄부터 N개의 줄에 정수를 한 개씩 출력한다. i번째 줄에는 정점 i의 방문 순서를 출력한다. 시작 정점의 방문 순서는 1이다. 시작 정점에서 방문할 수 없는 경우 0을 출력한다.\n",
    "\n",
    "예제 입력 1 \n",
    "5 5 1\n",
    "1 4\n",
    "1 2\n",
    "2 3\n",
    "2 4\n",
    "3 4\n",
    "예제 출력 1 \n",
    "1\n",
    "2\n",
    "3\n",
    "4\n",
    "0\n",
    "정점 1번에서 정점 2번을 방문한다. 정점 2번에서 정점 3번을 방문한다. 정점 3번에서 정점 4번을 방문한다. 정점 5번은 정점 1번에서 방문할 수 없다."
   ]
  },
  {
   "cell_type": "markdown",
   "id": "5addfd9b",
   "metadata": {},
   "source": [
    "https://jeinalog.tistory.com/18\n",
    "\n",
    "참고\n",
    "\n",
    "\n",
    "a , b, c = map(int,input().split())\n",
    "딕셔너리 형태로 graph저장\n",
    "\n",
    "dict = {}\n",
    "for i in range():\n",
    "    k, v = map(int,input().split())\n",
    "    dict[k] = v\n",
    "\n",
    "\n",
    "   "
   ]
  },
  {
   "cell_type": "code",
   "execution_count": 4,
   "id": "45b9c33c",
   "metadata": {},
   "outputs": [
    {
     "name": "stdout",
     "output_type": "stream",
     "text": [
      "5 5 1\n",
      "1 2\n",
      "1 3\n",
      "2 3\n",
      "2 4\n",
      "3 4\n",
      "{1: 3, 2: 4, 3: 4}\n"
     ]
    }
   ],
   "source": [
    "a , b, s = map(int,input().split())\n",
    "\n",
    "graph = []\n",
    "for i in range(a):\n",
    "    k, v = map(int,input().split())\n",
    "    graph[k] = v\n",
    "    \n",
    "def recursive_dfs(v,visited=[]):\n",
    "    visited.append(v)\n",
    "    for w in graph[v]:\n",
    "        if not w in visited:\n",
    "            visited = recursive_dfs(w,visited)\n",
    "        return visited\n",
    "    \n",
    "# result = recursive_dfs(s)\n",
    "# print(result)\n",
    "\n",
    "print(graph)"
   ]
  },
  {
   "cell_type": "code",
   "execution_count": 9,
   "id": "6b666d45",
   "metadata": {},
   "outputs": [
    {
     "name": "stdout",
     "output_type": "stream",
     "text": [
      "7\n",
      "6\n",
      "1 2\n",
      "2 3\n",
      "1 5\n",
      "5 2\n",
      "5 6\n",
      "4 7\n"
     ]
    },
    {
     "ename": "IndexError",
     "evalue": "list index out of range",
     "output_type": "error",
     "traceback": [
      "\u001b[0;31m---------------------------------------------------------------------------\u001b[0m",
      "\u001b[0;31mIndexError\u001b[0m                                Traceback (most recent call last)",
      "Input \u001b[0;32mIn [9]\u001b[0m, in \u001b[0;36m<cell line: 10>\u001b[0;34m()\u001b[0m\n\u001b[1;32m     11\u001b[0m     a, b \u001b[38;5;241m=\u001b[39m \u001b[38;5;28mmap\u001b[39m(\u001b[38;5;28mint\u001b[39m, \u001b[38;5;28minput\u001b[39m()\u001b[38;5;241m.\u001b[39msplit())\n\u001b[1;32m     12\u001b[0m     graph[a]\u001b[38;5;241m.\u001b[39mappend(b)\n\u001b[0;32m---> 13\u001b[0m     \u001b[43mgraph\u001b[49m\u001b[43m[\u001b[49m\u001b[43mb\u001b[49m\u001b[43m]\u001b[49m\u001b[38;5;241m.\u001b[39mappend(a)\n\u001b[1;32m     14\u001b[0m \u001b[38;5;28mprint\u001b[39m(graph) \u001b[38;5;66;03m# 쌍 방향으로 노드 좌표표현\u001b[39;00m\n\u001b[1;32m     16\u001b[0m \u001b[38;5;28;01mfor\u001b[39;00m i \u001b[38;5;129;01min\u001b[39;00m \u001b[38;5;28mrange\u001b[39m(\u001b[38;5;241m1\u001b[39m, \u001b[38;5;28mlen\u001b[39m(graph)):\n",
      "\u001b[0;31mIndexError\u001b[0m: list index out of range"
     ]
    }
   ],
   "source": [
    "import sys\n",
    "sys.setrecursionlimit(10**9)\n",
    "R = int(input())\n",
    "M = int(input())\n",
    "graph = [[] for _ in range(M+1)]\n",
    "path = []\n",
    "result = [0]*(M+1)\n",
    "visited = [-1]*(M+1)\n",
    "\n",
    "for _ in range(M+1):\n",
    "    a, b = map(int, input().split())\n",
    "    graph[a].append(b)\n",
    "    graph[b].append(a)\n",
    "print(graph) # 쌍 방향으로 노드 좌표표현\n",
    "\n",
    "for i in range(1, len(graph)):\n",
    "    graph[i].sort(reverse=True)\n",
    "print(graph)\n",
    "def DFS(start):\n",
    "    visited[start] = 1\n",
    "    path.append(start)\n",
    "    \n",
    "    for adj_node in graph[start]:\n",
    "        if visited[adj_node] == -1:\n",
    "            DFS(adj_node)\n",
    "    \n",
    "    return\n",
    "\n",
    "DFS(R)\n",
    "\n",
    "for idx, node in zip(range(1, len(path)+1), path):\n",
    "    result[node] = idx\n",
    "    \n",
    "print(*result[1:], sep=\"\\n\")\n",
    "remove_set = {0}\n",
    "\n",
    "result = [i for i in result if i not in remove_set]\n",
    "print(len(result))\n"
   ]
  },
  {
   "cell_type": "markdown",
   "id": "51f2c131",
   "metadata": {},
   "source": []
  },
  {
   "cell_type": "code",
   "execution_count": 1,
   "id": "d3ae1453",
   "metadata": {},
   "outputs": [
    {
     "name": "stdout",
     "output_type": "stream",
     "text": [
      "a\n",
      "a\n"
     ]
    }
   ],
   "source": [
    "a = input()\n",
    "print(a)"
   ]
  },
  {
   "cell_type": "code",
   "execution_count": null,
   "id": "581fa60c",
   "metadata": {},
   "outputs": [],
   "source": []
  }
 ],
 "metadata": {
  "kernelspec": {
   "display_name": "Python 3 (ipykernel)",
   "language": "python",
   "name": "python3"
  },
  "language_info": {
   "codemirror_mode": {
    "name": "ipython",
    "version": 3
   },
   "file_extension": ".py",
   "mimetype": "text/x-python",
   "name": "python",
   "nbconvert_exporter": "python",
   "pygments_lexer": "ipython3",
   "version": "3.9.12"
  }
 },
 "nbformat": 4,
 "nbformat_minor": 5
}
