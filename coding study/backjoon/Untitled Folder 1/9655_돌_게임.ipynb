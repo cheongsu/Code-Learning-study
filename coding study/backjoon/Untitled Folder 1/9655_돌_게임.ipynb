{
 "cells": [
  {
   "cell_type": "code",
   "execution_count": 6,
   "id": "725942c6",
   "metadata": {},
   "outputs": [
    {
     "name": "stdout",
     "output_type": "stream",
     "text": [
      "10\n",
      "CY\n"
     ]
    }
   ],
   "source": [
    "N = int(input())\n",
    "\n",
    "if N == 1 or N==2 or N ==3:\n",
    "    print(\"SK\")\n",
    "elif N % 2==0:\n",
    "    print(\"CY\")\n",
    "else:\n",
    "    print(\"SK\")"
   ]
  },
  {
   "cell_type": "code",
   "execution_count": null,
   "id": "afc15080",
   "metadata": {},
   "outputs": [],
   "source": [
    "import sys\n",
    "\n",
    "input = sys.stdin.readline\n",
    "N = int(input())\n",
    "\n",
    "if N % 2==0:\n",
    "    print(\"CY\")\n",
    "else:\n",
    "    print(\"SK\")"
   ]
  },
  {
   "cell_type": "code",
   "execution_count": null,
   "id": "9b382e36",
   "metadata": {},
   "outputs": [],
   "source": []
  }
 ],
 "metadata": {
  "kernelspec": {
   "display_name": "Python 3 (ipykernel)",
   "language": "python",
   "name": "python3"
  },
  "language_info": {
   "codemirror_mode": {
    "name": "ipython",
    "version": 3
   },
   "file_extension": ".py",
   "mimetype": "text/x-python",
   "name": "python",
   "nbconvert_exporter": "python",
   "pygments_lexer": "ipython3",
   "version": "3.9.12"
  }
 },
 "nbformat": 4,
 "nbformat_minor": 5
}
