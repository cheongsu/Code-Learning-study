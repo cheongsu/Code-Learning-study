{
 "cells": [
  {
   "cell_type": "markdown",
   "id": "8a881352",
   "metadata": {},
   "source": [
    "문제\n",
    "\n",
    "한 개의 회의실이 있는데 이를 사용하고자 하는 N개의 회의에 대하여 회의실 사용표를 만들려고 한다. 각 회의 I에 대해 시작시간과 끝나는 시간이 주어져 있고, 각 회의가 겹치지 않게 하면서 회의실을 사용할 수 있는 회의의 최대 개수를 찾아보자. 단, 회의는 한번 시작하면 중간에 중단될 수 없으며 한 회의가 끝나는 것과 동시에 다음 회의가 시작될 수 있다. 회의의 시작시간과 끝나는 시간이 같을 수도 있다. 이 경우에는 시작하자마자 끝나는 것으로 생각하면 된다.\n",
    "\n",
    "입력\n",
    "\n",
    "첫째 줄에 회의의 수 N(1 ≤ N ≤ 100,000)이 주어진다. 둘째 줄부터 N+1 줄까지 각 회의의 정보가 주어지는데 이것은 공백을 사이에 두고 회의의 시작시간과 끝나는 시간이 주어진다. 시작 시간과 끝나는 시간은 231-1보다 작거나 같은 자연수 또는 0이다.\n",
    "\n",
    "출력\n",
    "첫째 줄에 최대 사용할 수 있는 회의의 최대 개수를 출력한다.\n",
    "\n",
    "예제 입력 1 \n",
    "11\n",
    "1 4\n",
    "3 5\n",
    "0 6\n",
    "5 7\n",
    "3 8\n",
    "5 9\n",
    "6 10\n",
    "8 11\n",
    "8 12\n",
    "2 13\n",
    "12 14\n",
    "\n",
    "예제 출력 1 \n",
    "4\n",
    "\n",
    "힌트\n",
    "(1,4), (5,7), (8,11), (12,14) 를 이용할 수 있다."
   ]
  },
  {
   "cell_type": "markdown",
   "id": "c9e4c206",
   "metadata": {},
   "source": [
    "풀이 1)\n",
    "\n",
    "1. 입력받은 수에 대하여, 튜플 형태로 리스트에 저장한다.\n",
    "\n",
    "\n",
    "2. 이후 반복문을 통해 start값을 0으로 설정하고 [i][0]값이 start보다 크고 [i][1]값이 가장 작은 값을 선택한다.\n",
    "\n",
    "3. 그리고 start 값을 해당 순서쌍의 [i][1]값으로 변경한다.\n",
    "\n",
    "4. 2~3번 과정을 end값이 더 큰값이 없을 때까지 반복 실행한다.\n",
    "\n"
   ]
  },
  {
   "cell_type": "markdown",
   "id": "e1d26e18",
   "metadata": {},
   "source": [
    "풀이 2)\n",
    "\n",
    "입력 받은 리스트를 정렬 한 후 i>=last의 조건에 부합하면 count를 1추가하고 \n",
    "last를 이전 회의 시간의 종료시간으로 변경한다."
   ]
  },
  {
   "cell_type": "code",
   "execution_count": 4,
   "id": "91d4ce50",
   "metadata": {},
   "outputs": [
    {
     "name": "stdout",
     "output_type": "stream",
     "text": [
      "11\n",
      "1 4\n",
      "3 5\n",
      "0 6\n",
      "5 7\n",
      "3 8\n",
      "5 9\n",
      "6 10\n",
      "8 11\n",
      "8 12\n",
      "2 13\n",
      "12 14\n",
      "4\n"
     ]
    }
   ],
   "source": [
    "my_list = []\n",
    "\n",
    "num = int(input())\n",
    "\n",
    "for _ in range(num):\n",
    "    a,b = map(int,input().split())\n",
    "    my_list.append([a,b])\n",
    "    \n",
    "my_list = sorted(my_list,key=lambda a:a[0])\n",
    "my_list = sorted(my_list,key=lambda a:a[1])\n",
    "\n",
    "last = 0\n",
    "count = 0\n",
    "\n",
    "for i,j in my_list:\n",
    "    if i>= last:\n",
    "        count+=1\n",
    "        last = j\n",
    "print(count)\n",
    "\n",
    "# 정답!"
   ]
  },
  {
   "cell_type": "code",
   "execution_count": null,
   "id": "cbefabcc",
   "metadata": {},
   "outputs": [],
   "source": [
    "11\n",
    "1 4\n",
    "3 5\n",
    "0 6\n",
    "5 7\n",
    "3 8\n",
    "5 9\n",
    "6 10\n",
    "8 11\n",
    "8 12\n",
    "2 13\n",
    "12 14"
   ]
  }
 ],
 "metadata": {
  "kernelspec": {
   "display_name": "Python 3 (ipykernel)",
   "language": "python",
   "name": "python3"
  },
  "language_info": {
   "codemirror_mode": {
    "name": "ipython",
    "version": 3
   },
   "file_extension": ".py",
   "mimetype": "text/x-python",
   "name": "python",
   "nbconvert_exporter": "python",
   "pygments_lexer": "ipython3",
   "version": "3.9.12"
  }
 },
 "nbformat": 4,
 "nbformat_minor": 5
}
