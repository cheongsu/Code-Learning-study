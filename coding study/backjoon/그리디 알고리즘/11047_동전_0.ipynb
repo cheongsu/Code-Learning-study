{
 "cells": [
  {
   "cell_type": "markdown",
   "id": "d0b355e7",
   "metadata": {},
   "source": [
    "문제\n",
    "준규가 가지고 있는 동전은 총 N종류이고, 각각의 동전을 매우 많이 가지고 있다.\n",
    "\n",
    "동전을 적절히 사용해서 그 가치의 합을 K로 만들려고 한다. 이때 필요한 동전 개수의 최솟값을 구하는 프로그램을 작성하시오.\n",
    "\n",
    "입력\n",
    "첫째 줄에 N과 K가 주어진다. (1 ≤ N ≤ 10, 1 ≤ K ≤ 100,000,000)\n",
    "\n",
    "둘째 줄부터 N개의 줄에 동전의 가치 Ai가 오름차순으로 주어진다. (1 ≤ Ai ≤ 1,000,000, A1 = 1, i ≥ 2인 경우에 Ai는 Ai-1의 배수)\n",
    "\n",
    "출력\n",
    "첫째 줄에 K원을 만드는데 필요한 동전 개수의 최솟값을 출력한다.\n",
    "\n",
    "예제 입력 1 \n",
    "10 4200\n",
    "1\n",
    "5\n",
    "10\n",
    "50\n",
    "100\n",
    "500\n",
    "1000\n",
    "5000\n",
    "10000\n",
    "50000\n",
    "\n",
    "예제 출력 1 \n",
    "6\n",
    "\n",
    "\n",
    "예제 입력 2 \n",
    "10 4790\n",
    "1\n",
    "5\n",
    "10\n",
    "50\n",
    "100\n",
    "500\n",
    "1000\n",
    "5000\n",
    "10000\n",
    "50000\n",
    "\n",
    "예제 출력 2 \n",
    "12"
   ]
  },
  {
   "cell_type": "markdown",
   "id": "ba080195",
   "metadata": {},
   "source": [
    "그리디 알고리즘 활용 문제\n",
    "\n",
    "그리디 알고리즘이란 문제를 해결하는 과정에서 매 순간, 최적이라 생각되는 해답(locally optimal solution)을 찾으며, 이를 토대로 최종 문제의 해답(globally optimal solution)에 도달하는 문제 해결 방식이다.\n",
    "그러나 도둑의 예와 같이 항상 최적의 결과를 보장하지는 못한다는 점을 명심해야 한다.\n",
    "따라서 두 가지의 조건을 만족하는 “특정한 상황” 이 아니면 탐욕 알고리즘은 최적의 해를 보장하지 못한다.\n",
    "\n",
    "<두 가지 조건>\n",
    "\n",
    "1. 탐욕적 선택 속성(Greedy Choice Property) : 앞의 선택이 이후의 선택에 영향을 주지 않는다.\n",
    "2. 최적 부분 구조(Optimal Substructure) : 문제에 대한 최종 해결 방법은 부분 문제에 대한 최적 문제 해결 방법으로 구성된다.\n",
    "\n",
    "\n",
    "풀이 1)\n",
    "\n",
    "1. 큰 수부터 하나씩 나누기를 진행 후, 몫이 0이면 다음 숫자로 넘어간다.\n",
    "\n",
    "2. 몫이 1 이상이라면 money에 해당 동전으로 나눈 나머지값만 저장하고\n",
    "사용된 동전의 숫자를 count에 더해서 저장한다.\n",
    "\n",
    "3. 2번을 계속 반복진행하다가 money가 0이 되면 프로그램을 종료한다."
   ]
  },
  {
   "cell_type": "code",
   "execution_count": 6,
   "id": "e60978b4",
   "metadata": {},
   "outputs": [
    {
     "name": "stdout",
     "output_type": "stream",
     "text": [
      "10 4790\n",
      "1\n",
      "5\n",
      "10\n",
      "50\n",
      "100\n",
      "500\n",
      "1000\n",
      "5000\n",
      "10000\n",
      "50000\n",
      "12\n"
     ]
    }
   ],
   "source": [
    "n, money = map(int,input().split())\n",
    "\n",
    "mylist = []\n",
    "\n",
    "for _ in range(n):\n",
    "    mylist.append(int(input()))\n",
    "    \n",
    "mylist.sort(reverse=True)\n",
    "\n",
    "count = 0\n",
    "i = 0\n",
    "while money >0:\n",
    "    if money // mylist[i] > 0:\n",
    "        count += money // mylist[i]\n",
    "        money %= mylist[i]\n",
    "    i+=1\n",
    "        \n",
    "print(count)\n",
    "\n",
    "# 정답!"
   ]
  },
  {
   "cell_type": "code",
   "execution_count": null,
   "id": "7c28bc5f",
   "metadata": {},
   "outputs": [],
   "source": []
  }
 ],
 "metadata": {
  "kernelspec": {
   "display_name": "Python 3 (ipykernel)",
   "language": "python",
   "name": "python3"
  },
  "language_info": {
   "codemirror_mode": {
    "name": "ipython",
    "version": 3
   },
   "file_extension": ".py",
   "mimetype": "text/x-python",
   "name": "python",
   "nbconvert_exporter": "python",
   "pygments_lexer": "ipython3",
   "version": "3.9.12"
  }
 },
 "nbformat": 4,
 "nbformat_minor": 5
}
