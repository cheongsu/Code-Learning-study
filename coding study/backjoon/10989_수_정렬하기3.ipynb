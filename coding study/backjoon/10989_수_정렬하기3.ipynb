{
 "cells": [
  {
   "cell_type": "markdown",
   "id": "d387ce95",
   "metadata": {},
   "source": [
    "문제\n",
    "N개의 수가 주어졌을 때, 이를 오름차순으로 정렬하는 프로그램을 작성하시오.\n",
    "\n",
    "입력\n",
    "첫째 줄에 수의 개수 N(1 ≤ N ≤ 10,000,000)이 주어진다. 둘째 줄부터 N개의 줄에는 수가 주어진다. 이 수는 10,000보다 작거나 같은 자연수이다.\n",
    "\n",
    "출력\n",
    "첫째 줄부터 N개의 줄에 오름차순으로 정렬한 결과를 한 줄에 하나씩 출력한다.\n",
    "\n",
    "예제 입력1\n",
    "10\n",
    "5\n",
    "2\n",
    "3\n",
    "1\n",
    "4\n",
    "2\n",
    "3\n",
    "5\n",
    "1\n",
    "7\n",
    "예제 출력 1 \n",
    "1\n",
    "1\n",
    "2\n",
    "2\n",
    "3\n",
    "3\n",
    "4\n",
    "5\n",
    "5\n",
    "7"
   ]
  },
  {
   "cell_type": "markdown",
   "id": "8b49719a",
   "metadata": {},
   "source": [
    "풀이 1)\n",
    "\n",
    "카운팅정렬 사용\n",
    "\n",
    "카운팅 정렬, 혹은 계수 정렬은 O(n + k)의 시간복잡도를 가진 정렬이다.\n",
    "\n",
    " \n",
    "\n",
    "여기서 다소 낯선 k는 정렬을 수행할 배열의 가장 큰 값을 의미한다.\n",
    "\n",
    " \n",
    "\n",
    "k가 단순히 상수로 취급되어 생략되지 않고 남아있는 것은 그만큼 k에 따라 수행시간에 영향을 미치기 때문이다.\n",
    "\n",
    " \n",
    "\n",
    "만약 k가 n보다 작다면 정렬의 수행시간은 O(n)이 되겠지만, 무한대로 크다면 정렬의 수행시간도 무한대가 된다.\n",
    "1. 배열을 이용한 방식\n",
    "\n",
    " \n",
    "\n",
    "계수 정렬은 counting이라는 말 답게 배열에 존재하는 수의 개수를 세어주고, 이 정보를 바탕으로 정렬을 수행한다.\n",
    "\n",
    " \n",
    "\n",
    "그리고 여기서 수와 수의 개수는 배열 혹은 딕셔너리의 인덱스와 해당 값을 통해서 기록할 수 있다.\n",
    "\n",
    " \n",
    "\n",
    "먼저 배열을 통한 계수 정렬은 누적합의 개념을 적용하여 구현할 수 있다.\n",
    "\n",
    " \n",
    "\n",
    "배열을 이용한 계수 정렬의 구현 방식은 다음 단계를 따른다.\n",
    "\n",
    " \n",
    "\n",
    "1. 배열에 존재하는 값의 각 원소의 개수를 세어줄 새로운 배열 count를 만들어준다.\n",
    "\n",
    " count의 길이는 원소의 최대값까지를 인덱스로 사용할 수 있도록 원소의 최대값 + 1 만큼으로 정해준다.\n",
    " count[i] 는 숫자 i가 배열에 몇 개 존재하는지에 대한 정보를 담는다.\n",
    " \n",
    "출처 :  https://seongonion.tistory.com/130"
   ]
  },
  {
   "cell_type": "code",
   "execution_count": 31,
   "id": "8c14840c",
   "metadata": {},
   "outputs": [
    {
     "name": "stdout",
     "output_type": "stream",
     "text": [
      "5\n",
      "5\n",
      "2\n",
      "34\n",
      "4\n",
      "1\n",
      "[0, 1, 1, 0, 1, 1, 0, 0, 0, 0, 0, 0, 0, 0, 0, 0, 0, 0, 0, 0, 0, 0, 0, 0, 0, 0, 0, 0, 0, 0, 0, 0, 0, 0, 1]\n"
     ]
    }
   ],
   "source": [
    "\n",
    "\n",
    "size = int(input())\n",
    "\n",
    "num_list = []\n",
    "for i in range(size):\n",
    "    num = int(input())\n",
    "    num_list.append(num)\n",
    "\n",
    "count_list = [0]*(max(num_list)+1)\n",
    "\n",
    "for num in num_list:\n",
    "    count_list[num] += 1\n",
    "\n",
    "print(count_list)\n",
    "result = []\n",
    "\n",
    "for i in range(size):\n",
    "    for _ in range(1,count_list[i]):\n",
    "        print(i)"
   ]
  },
  {
   "cell_type": "markdown",
   "id": "4eb9b8c6",
   "metadata": {},
   "source": [
    "풀이 2)\n",
    "\n",
    "내장함수 sorted를 사용\n",
    "\n",
    "메모리 초과 발생 append는 메모리 재할당이 발생하기 때문에 메모리 초과가 발생함\n",
    "\n",
    "sorted 사용은 메모리를 많이 사용하므로 메모리초과 발생"
   ]
  },
  {
   "cell_type": "code",
   "execution_count": 35,
   "id": "8609e089",
   "metadata": {},
   "outputs": [
    {
     "name": "stdout",
     "output_type": "stream",
     "text": [
      "5\n",
      "5\n",
      "2\n",
      "3\n",
      "4\n",
      "1\n",
      "1\n",
      "2\n",
      "3\n",
      "4\n",
      "5\n"
     ]
    }
   ],
   "source": [
    "import sys\n",
    "\n",
    "n = int(input())\n",
    "num_list = []\n",
    "\n",
    "for _ in range(n):\n",
    "    num_list.append(int(input()))\n",
    "\n",
    "sorted_list = sorted(num_list)\n",
    "\n",
    "for i in sorted_list:\n",
    "    print(i)"
   ]
  },
  {
   "cell_type": "markdown",
   "id": "be6ba4ab",
   "metadata": {},
   "source": [
    "풀이 3) \n",
    "\n",
    "sorted 대신 카운팅정렬 사용\n",
    "\n",
    "list는 10001로 메모리 제한을 둠\n",
    "\n",
    "input -> sys.stdin.readline을 사용해 메모리 절약\n",
    "\n",
    "py3py3 -> python3 사용\n",
    "\n",
    "결과 : 정답"
   ]
  },
  {
   "cell_type": "code",
   "execution_count": 45,
   "id": "bd8e1e7b",
   "metadata": {},
   "outputs": [
    {
     "ename": "ValueError",
     "evalue": "invalid literal for int() with base 10: ''",
     "output_type": "error",
     "traceback": [
      "\u001b[0;31m---------------------------------------------------------------------------\u001b[0m",
      "\u001b[0;31mValueError\u001b[0m                                Traceback (most recent call last)",
      "Input \u001b[0;32mIn [45]\u001b[0m, in \u001b[0;36m<cell line: 2>\u001b[0;34m()\u001b[0m\n\u001b[1;32m      1\u001b[0m \u001b[38;5;28;01mimport\u001b[39;00m \u001b[38;5;21;01msys\u001b[39;00m\n\u001b[0;32m----> 2\u001b[0m size \u001b[38;5;241m=\u001b[39m \u001b[38;5;28;43mint\u001b[39;49m\u001b[43m(\u001b[49m\u001b[43msys\u001b[49m\u001b[38;5;241;43m.\u001b[39;49m\u001b[43mstdin\u001b[49m\u001b[38;5;241;43m.\u001b[39;49m\u001b[43mreadline\u001b[49m\u001b[43m(\u001b[49m\u001b[43m)\u001b[49m\u001b[43m)\u001b[49m\n\u001b[1;32m      4\u001b[0m num_list \u001b[38;5;241m=\u001b[39m [\u001b[38;5;241m0\u001b[39m]\u001b[38;5;241m*\u001b[39m\u001b[38;5;241m10001\u001b[39m\n\u001b[1;32m      5\u001b[0m \u001b[38;5;28;01mfor\u001b[39;00m i \u001b[38;5;129;01min\u001b[39;00m \u001b[38;5;28mrange\u001b[39m(size):\n",
      "\u001b[0;31mValueError\u001b[0m: invalid literal for int() with base 10: ''"
     ]
    }
   ],
   "source": [
    "import sys\n",
    "size = int(sys.stdin.readline())\n",
    "\n",
    "num_list = [0]*10001\n",
    "for i in range(size):\n",
    "    num_list[int(sys.stdin.readline())] +=1\n",
    "\n",
    "for i in range(10001):\n",
    "    if num_list[i] !=0:\n",
    "        \n",
    "        for _ in range(num_list[i]):\n",
    "            print(i)"
   ]
  },
  {
   "cell_type": "code",
   "execution_count": null,
   "id": "5e1e3765",
   "metadata": {},
   "outputs": [],
   "source": []
  }
 ],
 "metadata": {
  "kernelspec": {
   "display_name": "Python 3 (ipykernel)",
   "language": "python",
   "name": "python3"
  },
  "language_info": {
   "codemirror_mode": {
    "name": "ipython",
    "version": 3
   },
   "file_extension": ".py",
   "mimetype": "text/x-python",
   "name": "python",
   "nbconvert_exporter": "python",
   "pygments_lexer": "ipython3",
   "version": "3.9.12"
  }
 },
 "nbformat": 4,
 "nbformat_minor": 5
}
