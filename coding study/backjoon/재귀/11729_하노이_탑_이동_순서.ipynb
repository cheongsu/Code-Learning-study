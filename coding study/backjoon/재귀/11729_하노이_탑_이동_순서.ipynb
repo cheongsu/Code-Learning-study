{
 "cells": [
  {
   "cell_type": "code",
   "execution_count": null,
   "id": "0e012497",
   "metadata": {},
   "outputs": [],
   "source": [
    "```python\n",
    "n = int(input())\n",
    "count=0\n",
    "li = []\n",
    "def solve(n,x,y):\n",
    "    global count\n",
    "\n",
    "    if n==0:\n",
    "        return\n",
    "    else:\n",
    "        \n",
    "        solve(n-1,x,6-x-y)\n",
    "        li.append((x,y))\n",
    "        count+=1\n",
    "        solve(n-1,6-x-y,y)\n",
    "                  \n",
    "                  \n",
    "                  \n",
    "solve(n,1,3)\n",
    "print(count)\n",
    "for i in range(count):\n",
    "    print(li[i][0],li[i][1])\n",
    "\n",
    "재귀함수를 잘 이해하는 것이 중요\n",
    "\n",
    "핵심 알고리즘이 3가지 step을 구현하는 것임\n",
    "\n",
    "        solve(n-1,x,6-x-y) # n-1개를 빈 곳에 이동\n",
    "        li.append((x,y)) # 바닥 판을 다른 곳으로 이동\n",
    "\n",
    "        solve(n-1,6-x-y,y) # n-1개를 바닥판의 위치로 이동\n",
    "```"
   ]
  },
  {
   "cell_type": "code",
   "execution_count": null,
   "id": "3af3cba0",
   "metadata": {},
   "outputs": [],
   "source": [
    "https://www.acmicpc.net/problem/11729"
   ]
  }
 ],
 "metadata": {
  "kernelspec": {
   "display_name": "Python 3 (ipykernel)",
   "language": "python",
   "name": "python3"
  },
  "language_info": {
   "codemirror_mode": {
    "name": "ipython",
    "version": 3
   },
   "file_extension": ".py",
   "mimetype": "text/x-python",
   "name": "python",
   "nbconvert_exporter": "python",
   "pygments_lexer": "ipython3",
   "version": "3.9.12"
  }
 },
 "nbformat": 4,
 "nbformat_minor": 5
}
