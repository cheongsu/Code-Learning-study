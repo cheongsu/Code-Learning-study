{
 "cells": [
  {
   "cell_type": "markdown",
   "id": "9990d0d6",
   "metadata": {},
   "source": [
    "https://www.acmicpc.net/problem/2078\n",
    "\n",
    "문제\n",
    "다음과 같은 귀납적인 규칙에 의해서 만들어지는 무한한 크기의 이진 트리를 생각하자. 각각의 노드에는 두 정수의 순서쌍이 할당되어 있다.\n",
    "\n",
    "루트에는 (1, 1)이 할당된다.\n",
    "어떤 노드가 (a, b)가 할당되었을 때, 그 노드의 왼쪽 자식에는 (a+b, b)가 할당되고, 오른쪽 자식에는 (a, a+b)가 할당된다.\n",
    "우리는 어떤 노드가 주어졌을 때, 루트에서 그 노드로 이동하는 최단 경로를 찾으려 한다. 하지만 최단 경로가 매우 길 수도 있기 때문에, 왼쪽 자식으로 이동하는 회수와 오른쪽 자식으로 이동하는 회수를 찾으려고 한다.\n",
    "\n",
    "입력으로 두 정수 A, B가 주어졌을 때, 루트에서 (A, B)가 할당된 노드까지 최단 경로로 이동할 때, 왼쪽 자식으로 이동하는 회수와 오른쪽 자식으로 이동하는 회수를 구해내는 프로그램을 작성하시오.\n",
    "\n",
    "입력\n",
    "첫째 줄에 두 정수 A, B(1 ≤ A, B ≤ 2,000,000,000)가 주어진다. 잘못된 입력은 주어지지 않는다고 가정한다.\n",
    "\n",
    "출력\n",
    "첫째 줄에 두 정수 L, R을 출력한다. 각각은 왼쪽으로 이동한 회수, 오른쪽으로 이동한 회수를 나타낸다.\n",
    "\n",
    "예제 입력 1 \n",
    "3 4\n",
    "예제 출력 1 \n",
    "2 1"
   ]
  },
  {
   "cell_type": "markdown",
   "id": "14a40074",
   "metadata": {},
   "source": [
    "풀이\n",
    "\n",
    "예제를 확인해봤을 때,\n",
    "\n",
    "        루트    1,1\n",
    "            2,1    1,2\n",
    "\n",
    "        3,1 2,3 / 3,2 1,3\n",
    "\n",
    "4,1 3,4 / 5,3 2,5 / 5,2, 3,5 / 4,3 1,4 \n",
    "\n",
    "5 1 4 5 7 4 37 83 58 27 75 72 57 \n",
    "\n",
    "왼쪽으로 2번 오른쪽으로 1번 이동해야 한다.\n",
    "\n",
    "a,b가 매우 크므로 모든 완전이진트리를 만든다음 찾는 건 힘들다.\n",
    "\n",
    "이진탐색을 해야 할 것 같은데,\n",
    "\n",
    "클래스로 노드를 만든다음 노드의 왼쪽과 오른쪽을 지정해서 내려가는 식으로 해야하나..."
   ]
  },
  {
   "cell_type": "code",
   "execution_count": null,
   "id": "0188374c",
   "metadata": {},
   "outputs": [],
   "source": [
    "class Node:\n",
    "    def __init__(self,item,left,right):\n",
    "        self.item = item\n",
    "        self.left = left\n",
    "        self.right = right\n",
    "        \n",
    "    \n",
    "    def find(a,b):\n",
    "        \n",
    "        \n",
    "        "
   ]
  },
  {
   "cell_type": "code",
   "execution_count": null,
   "id": "1dfc3e54",
   "metadata": {},
   "outputs": [],
   "source": [
    "굳이 완전이진트리를 구현할 필요는 없다.\n",
    "\n",
    "패턴을 찾아서 계산하는게 더 빠름\n",
    "\n",
    "예를 들어\n",
    "3,4라면  우측에 좌변을 한번 더헀으므로 \n",
    "\n",
    "3,4 -> 3,1 -> 2,1 -> 1,1 \n",
    "\n",
    "이런식으로 진행되며 오르쪽 빼기는 오른쪽 연산 1\n",
    "왼쪽 빼기는 왼쪽연산 1 해서 총 2\n",
    "출력은 2,1이 된다.\n",
    "\n"
   ]
  },
  {
   "cell_type": "code",
   "execution_count": 8,
   "id": "325e468d",
   "metadata": {},
   "outputs": [
    {
     "name": "stdout",
     "output_type": "stream",
     "text": [
      "4 3\n",
      "1 2\n"
     ]
    }
   ],
   "source": [
    "a,b = map(int,input().split())\n",
    "l = 0\n",
    "r = 0\n",
    "while True:\n",
    "    if a==1 and b==1:\n",
    "        break\n",
    "\n",
    "    if a<b:\n",
    "        b -=a\n",
    "        r +=1\n",
    "        \n",
    "    else:\n",
    "        a -=b\n",
    "        l +=1\n",
    "\n",
    "\n",
    "print(l,r)\n",
    "\n",
    "#정답"
   ]
  },
  {
   "cell_type": "code",
   "execution_count": null,
   "id": "9802452d",
   "metadata": {},
   "outputs": [],
   "source": [
    "        루트    1,1\n",
    "            2,1    1,2\n",
    "\n",
    "        3,1 2,3 / 3,2 1,3\n",
    "\n",
    "4,1 3,4 / 5,3 2,5 / 5,2, 3,5 / 4,3 1,4 \n",
    "\n",
    "5 1 4 5 7 4 37 83 58 27 75 72 57 \n"
   ]
  }
 ],
 "metadata": {
  "kernelspec": {
   "display_name": "Python 3 (ipykernel)",
   "language": "python",
   "name": "python3"
  },
  "language_info": {
   "codemirror_mode": {
    "name": "ipython",
    "version": 3
   },
   "file_extension": ".py",
   "mimetype": "text/x-python",
   "name": "python",
   "nbconvert_exporter": "python",
   "pygments_lexer": "ipython3",
   "version": "3.9.12"
  }
 },
 "nbformat": 4,
 "nbformat_minor": 5
}
