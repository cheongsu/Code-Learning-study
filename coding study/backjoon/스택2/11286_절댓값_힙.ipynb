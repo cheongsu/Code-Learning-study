{
 "cells": [
  {
   "cell_type": "markdown",
   "id": "39207a4e",
   "metadata": {},
   "source": [
    "문제\n",
    "절댓값 힙은 다음과 같은 연산을 지원하는 자료구조이다.\n",
    "\n",
    "배열에 정수 x (x ≠ 0)를 넣는다.\n",
    "배열에서 절댓값이 가장 작은 값을 출력하고, 그 값을 배열에서 제거한다. 절댓값이 가장 작은 값이 여러개일 때는, 가장 작은 수를 출력하고, 그 값을 배열에서 제거한다.\n",
    "프로그램은 처음에 비어있는 배열에서 시작하게 된다.\n",
    "\n",
    "입력\n",
    "첫째 줄에 연산의 개수 N(1≤N≤100,000)이 주어진다. 다음 N개의 줄에는 연산에 대한 정보를 나타내는 정수 x가 주어진다. 만약 x가 0이 아니라면 배열에 x라는 값을 넣는(추가하는) 연산이고, x가 0이라면 배열에서 절댓값이 가장 작은 값을 출력하고 그 값을 배열에서 제거하는 경우이다. 입력되는 정수는 -231보다 크고, 231보다 작다.\n",
    "\n",
    "출력\n",
    "입력에서 0이 주어진 회수만큼 답을 출력한다. 만약 배열이 비어 있는 경우인데 절댓값이 가장 작은 값을 출력하라고 한 경우에는 0을 출력하면 된다.\n",
    "\n",
    "예제 입력 1 \n",
    "18\n",
    "1\n",
    "-1\n",
    "0\n",
    "0\n",
    "0\n",
    "1\n",
    "1\n",
    "-1\n",
    "-1\n",
    "2\n",
    "-2\n",
    "0\n",
    "0\n",
    "0\n",
    "0\n",
    "0\n",
    "0\n",
    "0\n",
    "\n",
    "예제 출력 1 \n",
    "-1\n",
    "1\n",
    "0\n",
    "-1\n",
    "-1\n",
    "1\n",
    "1\n",
    "-2\n",
    "2\n",
    "0"
   ]
  },
  {
   "cell_type": "code",
   "execution_count": null,
   "id": "81cd353a",
   "metadata": {},
   "outputs": [],
   "source": [
    "import heapq\n",
    "\n",
    "max_heap=[]\n",
    "\n",
    "n = int(input())\n",
    "\n",
    "for i in range(n):\n",
    "    cmd = int(input())\n",
    "    if cmd!=0:\n",
    "        heapq.heappush(max_heap,(abs(cmd),cmd))\n",
    "    else:\n",
    "        if len(max_heap)==0:\n",
    "            print(0)\n",
    "        else:\n",
    "            print(heapq.heappop(max_heap)[1])\n",
    "            \n",
    "            \n",
    "# 정답!\n",
    "# 절댓값이 동일 할때, 최솟값을 출력한다는 조건을 따로 구현하지 않았지만\n",
    "#시스템 상 알아서 표현이 되는듯???\n",
    "\n",
    "# (abs(cmd),cmd)로 실제 값을 같이 넣어주어, abs(cmd)가 동일하면 cmd를 비교해\n",
    "# 최소힙이 되는 값을 먼저 출력하도록 작동한다."
   ]
  }
 ],
 "metadata": {
  "kernelspec": {
   "display_name": "Python 3 (ipykernel)",
   "language": "python",
   "name": "python3"
  },
  "language_info": {
   "codemirror_mode": {
    "name": "ipython",
    "version": 3
   },
   "file_extension": ".py",
   "mimetype": "text/x-python",
   "name": "python",
   "nbconvert_exporter": "python",
   "pygments_lexer": "ipython3",
   "version": "3.9.12"
  }
 },
 "nbformat": 4,
 "nbformat_minor": 5
}
